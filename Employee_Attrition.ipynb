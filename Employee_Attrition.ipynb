{
  "cells": [
    {
      "cell_type": "markdown",
      "metadata": {
        "id": "view-in-github",
        "colab_type": "text"
      },
      "source": [
        "<a href=\"https://colab.research.google.com/github/smiley2911/UMAV-DataScience-intern/blob/main/Employee_Attrition.ipynb\" target=\"_parent\"><img src=\"https://colab.research.google.com/assets/colab-badge.svg\" alt=\"Open In Colab\"/></a>"
      ]
    },
    {
      "cell_type": "code",
      "execution_count": 26,
      "id": "21dc4dd4",
      "metadata": {
        "id": "21dc4dd4"
      },
      "outputs": [],
      "source": [
        "import pandas as pd\n",
        "import numpy as np\n",
        "import matplotlib.pyplot as plt\n",
        "import seaborn as sns\n",
        "import plotly.express as px\n",
        "import plotly.graph_objects as go\n",
        "import plotly.io as pio\n",
        "pio.templates.default = \"plotly_white\""
      ]
    },
    {
      "cell_type": "code",
      "execution_count": 27,
      "id": "25e73f84",
      "metadata": {
        "colab": {
          "base_uri": "https://localhost:8080/",
          "height": 325
        },
        "id": "25e73f84",
        "outputId": "b576ae8c-7751-4cab-8f2f-c81245298836"
      },
      "outputs": [
        {
          "output_type": "execute_result",
          "data": {
            "text/plain": [
              "   Age Attrition     BusinessTravel  DailyRate              Department  \\\n",
              "0   41       Yes      Travel_Rarely       1102                   Sales   \n",
              "1   49        No  Travel_Frequently        279  Research & Development   \n",
              "2   37       Yes      Travel_Rarely       1373  Research & Development   \n",
              "3   33        No  Travel_Frequently       1392  Research & Development   \n",
              "4   27        No      Travel_Rarely        591  Research & Development   \n",
              "\n",
              "   DistanceFromHome  Education EducationField  EmployeeCount  EmployeeNumber  \\\n",
              "0                 1          2  Life Sciences              1               1   \n",
              "1                 8          1  Life Sciences              1               2   \n",
              "2                 2          2          Other              1               4   \n",
              "3                 3          4  Life Sciences              1               5   \n",
              "4                 2          1        Medical              1               7   \n",
              "\n",
              "   ...  RelationshipSatisfaction StandardHours  StockOptionLevel  \\\n",
              "0  ...                         1            80                 0   \n",
              "1  ...                         4            80                 1   \n",
              "2  ...                         2            80                 0   \n",
              "3  ...                         3            80                 0   \n",
              "4  ...                         4            80                 1   \n",
              "\n",
              "   TotalWorkingYears  TrainingTimesLastYear WorkLifeBalance  YearsAtCompany  \\\n",
              "0                  8                      0               1               6   \n",
              "1                 10                      3               3              10   \n",
              "2                  7                      3               3               0   \n",
              "3                  8                      3               3               8   \n",
              "4                  6                      3               3               2   \n",
              "\n",
              "  YearsInCurrentRole  YearsSinceLastPromotion  YearsWithCurrManager  \n",
              "0                  4                        0                     5  \n",
              "1                  7                        1                     7  \n",
              "2                  0                        0                     0  \n",
              "3                  7                        3                     0  \n",
              "4                  2                        2                     2  \n",
              "\n",
              "[5 rows x 35 columns]"
            ],
            "text/html": [
              "\n",
              "  <div id=\"df-869e8a7a-e4cb-4b50-a77a-16bf417fb169\" class=\"colab-df-container\">\n",
              "    <div>\n",
              "<style scoped>\n",
              "    .dataframe tbody tr th:only-of-type {\n",
              "        vertical-align: middle;\n",
              "    }\n",
              "\n",
              "    .dataframe tbody tr th {\n",
              "        vertical-align: top;\n",
              "    }\n",
              "\n",
              "    .dataframe thead th {\n",
              "        text-align: right;\n",
              "    }\n",
              "</style>\n",
              "<table border=\"1\" class=\"dataframe\">\n",
              "  <thead>\n",
              "    <tr style=\"text-align: right;\">\n",
              "      <th></th>\n",
              "      <th>Age</th>\n",
              "      <th>Attrition</th>\n",
              "      <th>BusinessTravel</th>\n",
              "      <th>DailyRate</th>\n",
              "      <th>Department</th>\n",
              "      <th>DistanceFromHome</th>\n",
              "      <th>Education</th>\n",
              "      <th>EducationField</th>\n",
              "      <th>EmployeeCount</th>\n",
              "      <th>EmployeeNumber</th>\n",
              "      <th>...</th>\n",
              "      <th>RelationshipSatisfaction</th>\n",
              "      <th>StandardHours</th>\n",
              "      <th>StockOptionLevel</th>\n",
              "      <th>TotalWorkingYears</th>\n",
              "      <th>TrainingTimesLastYear</th>\n",
              "      <th>WorkLifeBalance</th>\n",
              "      <th>YearsAtCompany</th>\n",
              "      <th>YearsInCurrentRole</th>\n",
              "      <th>YearsSinceLastPromotion</th>\n",
              "      <th>YearsWithCurrManager</th>\n",
              "    </tr>\n",
              "  </thead>\n",
              "  <tbody>\n",
              "    <tr>\n",
              "      <th>0</th>\n",
              "      <td>41</td>\n",
              "      <td>Yes</td>\n",
              "      <td>Travel_Rarely</td>\n",
              "      <td>1102</td>\n",
              "      <td>Sales</td>\n",
              "      <td>1</td>\n",
              "      <td>2</td>\n",
              "      <td>Life Sciences</td>\n",
              "      <td>1</td>\n",
              "      <td>1</td>\n",
              "      <td>...</td>\n",
              "      <td>1</td>\n",
              "      <td>80</td>\n",
              "      <td>0</td>\n",
              "      <td>8</td>\n",
              "      <td>0</td>\n",
              "      <td>1</td>\n",
              "      <td>6</td>\n",
              "      <td>4</td>\n",
              "      <td>0</td>\n",
              "      <td>5</td>\n",
              "    </tr>\n",
              "    <tr>\n",
              "      <th>1</th>\n",
              "      <td>49</td>\n",
              "      <td>No</td>\n",
              "      <td>Travel_Frequently</td>\n",
              "      <td>279</td>\n",
              "      <td>Research &amp; Development</td>\n",
              "      <td>8</td>\n",
              "      <td>1</td>\n",
              "      <td>Life Sciences</td>\n",
              "      <td>1</td>\n",
              "      <td>2</td>\n",
              "      <td>...</td>\n",
              "      <td>4</td>\n",
              "      <td>80</td>\n",
              "      <td>1</td>\n",
              "      <td>10</td>\n",
              "      <td>3</td>\n",
              "      <td>3</td>\n",
              "      <td>10</td>\n",
              "      <td>7</td>\n",
              "      <td>1</td>\n",
              "      <td>7</td>\n",
              "    </tr>\n",
              "    <tr>\n",
              "      <th>2</th>\n",
              "      <td>37</td>\n",
              "      <td>Yes</td>\n",
              "      <td>Travel_Rarely</td>\n",
              "      <td>1373</td>\n",
              "      <td>Research &amp; Development</td>\n",
              "      <td>2</td>\n",
              "      <td>2</td>\n",
              "      <td>Other</td>\n",
              "      <td>1</td>\n",
              "      <td>4</td>\n",
              "      <td>...</td>\n",
              "      <td>2</td>\n",
              "      <td>80</td>\n",
              "      <td>0</td>\n",
              "      <td>7</td>\n",
              "      <td>3</td>\n",
              "      <td>3</td>\n",
              "      <td>0</td>\n",
              "      <td>0</td>\n",
              "      <td>0</td>\n",
              "      <td>0</td>\n",
              "    </tr>\n",
              "    <tr>\n",
              "      <th>3</th>\n",
              "      <td>33</td>\n",
              "      <td>No</td>\n",
              "      <td>Travel_Frequently</td>\n",
              "      <td>1392</td>\n",
              "      <td>Research &amp; Development</td>\n",
              "      <td>3</td>\n",
              "      <td>4</td>\n",
              "      <td>Life Sciences</td>\n",
              "      <td>1</td>\n",
              "      <td>5</td>\n",
              "      <td>...</td>\n",
              "      <td>3</td>\n",
              "      <td>80</td>\n",
              "      <td>0</td>\n",
              "      <td>8</td>\n",
              "      <td>3</td>\n",
              "      <td>3</td>\n",
              "      <td>8</td>\n",
              "      <td>7</td>\n",
              "      <td>3</td>\n",
              "      <td>0</td>\n",
              "    </tr>\n",
              "    <tr>\n",
              "      <th>4</th>\n",
              "      <td>27</td>\n",
              "      <td>No</td>\n",
              "      <td>Travel_Rarely</td>\n",
              "      <td>591</td>\n",
              "      <td>Research &amp; Development</td>\n",
              "      <td>2</td>\n",
              "      <td>1</td>\n",
              "      <td>Medical</td>\n",
              "      <td>1</td>\n",
              "      <td>7</td>\n",
              "      <td>...</td>\n",
              "      <td>4</td>\n",
              "      <td>80</td>\n",
              "      <td>1</td>\n",
              "      <td>6</td>\n",
              "      <td>3</td>\n",
              "      <td>3</td>\n",
              "      <td>2</td>\n",
              "      <td>2</td>\n",
              "      <td>2</td>\n",
              "      <td>2</td>\n",
              "    </tr>\n",
              "  </tbody>\n",
              "</table>\n",
              "<p>5 rows × 35 columns</p>\n",
              "</div>\n",
              "    <div class=\"colab-df-buttons\">\n",
              "\n",
              "  <div class=\"colab-df-container\">\n",
              "    <button class=\"colab-df-convert\" onclick=\"convertToInteractive('df-869e8a7a-e4cb-4b50-a77a-16bf417fb169')\"\n",
              "            title=\"Convert this dataframe to an interactive table.\"\n",
              "            style=\"display:none;\">\n",
              "\n",
              "  <svg xmlns=\"http://www.w3.org/2000/svg\" height=\"24px\" viewBox=\"0 -960 960 960\">\n",
              "    <path d=\"M120-120v-720h720v720H120Zm60-500h600v-160H180v160Zm220 220h160v-160H400v160Zm0 220h160v-160H400v160ZM180-400h160v-160H180v160Zm440 0h160v-160H620v160ZM180-180h160v-160H180v160Zm440 0h160v-160H620v160Z\"/>\n",
              "  </svg>\n",
              "    </button>\n",
              "\n",
              "  <style>\n",
              "    .colab-df-container {\n",
              "      display:flex;\n",
              "      gap: 12px;\n",
              "    }\n",
              "\n",
              "    .colab-df-convert {\n",
              "      background-color: #E8F0FE;\n",
              "      border: none;\n",
              "      border-radius: 50%;\n",
              "      cursor: pointer;\n",
              "      display: none;\n",
              "      fill: #1967D2;\n",
              "      height: 32px;\n",
              "      padding: 0 0 0 0;\n",
              "      width: 32px;\n",
              "    }\n",
              "\n",
              "    .colab-df-convert:hover {\n",
              "      background-color: #E2EBFA;\n",
              "      box-shadow: 0px 1px 2px rgba(60, 64, 67, 0.3), 0px 1px 3px 1px rgba(60, 64, 67, 0.15);\n",
              "      fill: #174EA6;\n",
              "    }\n",
              "\n",
              "    .colab-df-buttons div {\n",
              "      margin-bottom: 4px;\n",
              "    }\n",
              "\n",
              "    [theme=dark] .colab-df-convert {\n",
              "      background-color: #3B4455;\n",
              "      fill: #D2E3FC;\n",
              "    }\n",
              "\n",
              "    [theme=dark] .colab-df-convert:hover {\n",
              "      background-color: #434B5C;\n",
              "      box-shadow: 0px 1px 3px 1px rgba(0, 0, 0, 0.15);\n",
              "      filter: drop-shadow(0px 1px 2px rgba(0, 0, 0, 0.3));\n",
              "      fill: #FFFFFF;\n",
              "    }\n",
              "  </style>\n",
              "\n",
              "    <script>\n",
              "      const buttonEl =\n",
              "        document.querySelector('#df-869e8a7a-e4cb-4b50-a77a-16bf417fb169 button.colab-df-convert');\n",
              "      buttonEl.style.display =\n",
              "        google.colab.kernel.accessAllowed ? 'block' : 'none';\n",
              "\n",
              "      async function convertToInteractive(key) {\n",
              "        const element = document.querySelector('#df-869e8a7a-e4cb-4b50-a77a-16bf417fb169');\n",
              "        const dataTable =\n",
              "          await google.colab.kernel.invokeFunction('convertToInteractive',\n",
              "                                                    [key], {});\n",
              "        if (!dataTable) return;\n",
              "\n",
              "        const docLinkHtml = 'Like what you see? Visit the ' +\n",
              "          '<a target=\"_blank\" href=https://colab.research.google.com/notebooks/data_table.ipynb>data table notebook</a>'\n",
              "          + ' to learn more about interactive tables.';\n",
              "        element.innerHTML = '';\n",
              "        dataTable['output_type'] = 'display_data';\n",
              "        await google.colab.output.renderOutput(dataTable, element);\n",
              "        const docLink = document.createElement('div');\n",
              "        docLink.innerHTML = docLinkHtml;\n",
              "        element.appendChild(docLink);\n",
              "      }\n",
              "    </script>\n",
              "  </div>\n",
              "\n",
              "\n",
              "<div id=\"df-600d20d8-8825-49c4-be2c-4733b1092c1b\">\n",
              "  <button class=\"colab-df-quickchart\" onclick=\"quickchart('df-600d20d8-8825-49c4-be2c-4733b1092c1b')\"\n",
              "            title=\"Suggest charts\"\n",
              "            style=\"display:none;\">\n",
              "\n",
              "<svg xmlns=\"http://www.w3.org/2000/svg\" height=\"24px\"viewBox=\"0 0 24 24\"\n",
              "     width=\"24px\">\n",
              "    <g>\n",
              "        <path d=\"M19 3H5c-1.1 0-2 .9-2 2v14c0 1.1.9 2 2 2h14c1.1 0 2-.9 2-2V5c0-1.1-.9-2-2-2zM9 17H7v-7h2v7zm4 0h-2V7h2v10zm4 0h-2v-4h2v4z\"/>\n",
              "    </g>\n",
              "</svg>\n",
              "  </button>\n",
              "\n",
              "<style>\n",
              "  .colab-df-quickchart {\n",
              "      --bg-color: #E8F0FE;\n",
              "      --fill-color: #1967D2;\n",
              "      --hover-bg-color: #E2EBFA;\n",
              "      --hover-fill-color: #174EA6;\n",
              "      --disabled-fill-color: #AAA;\n",
              "      --disabled-bg-color: #DDD;\n",
              "  }\n",
              "\n",
              "  [theme=dark] .colab-df-quickchart {\n",
              "      --bg-color: #3B4455;\n",
              "      --fill-color: #D2E3FC;\n",
              "      --hover-bg-color: #434B5C;\n",
              "      --hover-fill-color: #FFFFFF;\n",
              "      --disabled-bg-color: #3B4455;\n",
              "      --disabled-fill-color: #666;\n",
              "  }\n",
              "\n",
              "  .colab-df-quickchart {\n",
              "    background-color: var(--bg-color);\n",
              "    border: none;\n",
              "    border-radius: 50%;\n",
              "    cursor: pointer;\n",
              "    display: none;\n",
              "    fill: var(--fill-color);\n",
              "    height: 32px;\n",
              "    padding: 0;\n",
              "    width: 32px;\n",
              "  }\n",
              "\n",
              "  .colab-df-quickchart:hover {\n",
              "    background-color: var(--hover-bg-color);\n",
              "    box-shadow: 0 1px 2px rgba(60, 64, 67, 0.3), 0 1px 3px 1px rgba(60, 64, 67, 0.15);\n",
              "    fill: var(--button-hover-fill-color);\n",
              "  }\n",
              "\n",
              "  .colab-df-quickchart-complete:disabled,\n",
              "  .colab-df-quickchart-complete:disabled:hover {\n",
              "    background-color: var(--disabled-bg-color);\n",
              "    fill: var(--disabled-fill-color);\n",
              "    box-shadow: none;\n",
              "  }\n",
              "\n",
              "  .colab-df-spinner {\n",
              "    border: 2px solid var(--fill-color);\n",
              "    border-color: transparent;\n",
              "    border-bottom-color: var(--fill-color);\n",
              "    animation:\n",
              "      spin 1s steps(1) infinite;\n",
              "  }\n",
              "\n",
              "  @keyframes spin {\n",
              "    0% {\n",
              "      border-color: transparent;\n",
              "      border-bottom-color: var(--fill-color);\n",
              "      border-left-color: var(--fill-color);\n",
              "    }\n",
              "    20% {\n",
              "      border-color: transparent;\n",
              "      border-left-color: var(--fill-color);\n",
              "      border-top-color: var(--fill-color);\n",
              "    }\n",
              "    30% {\n",
              "      border-color: transparent;\n",
              "      border-left-color: var(--fill-color);\n",
              "      border-top-color: var(--fill-color);\n",
              "      border-right-color: var(--fill-color);\n",
              "    }\n",
              "    40% {\n",
              "      border-color: transparent;\n",
              "      border-right-color: var(--fill-color);\n",
              "      border-top-color: var(--fill-color);\n",
              "    }\n",
              "    60% {\n",
              "      border-color: transparent;\n",
              "      border-right-color: var(--fill-color);\n",
              "    }\n",
              "    80% {\n",
              "      border-color: transparent;\n",
              "      border-right-color: var(--fill-color);\n",
              "      border-bottom-color: var(--fill-color);\n",
              "    }\n",
              "    90% {\n",
              "      border-color: transparent;\n",
              "      border-bottom-color: var(--fill-color);\n",
              "    }\n",
              "  }\n",
              "</style>\n",
              "\n",
              "  <script>\n",
              "    async function quickchart(key) {\n",
              "      const quickchartButtonEl =\n",
              "        document.querySelector('#' + key + ' button');\n",
              "      quickchartButtonEl.disabled = true;  // To prevent multiple clicks.\n",
              "      quickchartButtonEl.classList.add('colab-df-spinner');\n",
              "      try {\n",
              "        const charts = await google.colab.kernel.invokeFunction(\n",
              "            'suggestCharts', [key], {});\n",
              "      } catch (error) {\n",
              "        console.error('Error during call to suggestCharts:', error);\n",
              "      }\n",
              "      quickchartButtonEl.classList.remove('colab-df-spinner');\n",
              "      quickchartButtonEl.classList.add('colab-df-quickchart-complete');\n",
              "    }\n",
              "    (() => {\n",
              "      let quickchartButtonEl =\n",
              "        document.querySelector('#df-600d20d8-8825-49c4-be2c-4733b1092c1b button');\n",
              "      quickchartButtonEl.style.display =\n",
              "        google.colab.kernel.accessAllowed ? 'block' : 'none';\n",
              "    })();\n",
              "  </script>\n",
              "</div>\n",
              "    </div>\n",
              "  </div>\n"
            ],
            "application/vnd.google.colaboratory.intrinsic+json": {
              "type": "dataframe",
              "variable_name": "data"
            }
          },
          "metadata": {},
          "execution_count": 27
        }
      ],
      "source": [
        "dataset = pd.read_csv('/Greendes.csv')\n",
        "data =  dataset\n",
        "data.head()"
      ]
    },
    {
      "cell_type": "markdown",
      "id": "6266da34",
      "metadata": {
        "id": "6266da34"
      },
      "source": [
        "### EDA"
      ]
    },
    {
      "cell_type": "code",
      "execution_count": 28,
      "id": "07ed7460",
      "metadata": {
        "colab": {
          "base_uri": "https://localhost:8080/"
        },
        "id": "07ed7460",
        "outputId": "7441427e-ba3c-4155-f752-e3fff92563a9"
      },
      "outputs": [
        {
          "output_type": "stream",
          "name": "stdout",
          "text": [
            "(1470, 35)\n"
          ]
        }
      ],
      "source": [
        "#no.of rows and columns\n",
        "print(data.shape)"
      ]
    },
    {
      "cell_type": "code",
      "execution_count": 29,
      "id": "4bd39424",
      "metadata": {
        "colab": {
          "base_uri": "https://localhost:8080/"
        },
        "id": "4bd39424",
        "outputId": "9c6c94b9-db29-4e15-98bc-a39d5958c23c"
      },
      "outputs": [
        {
          "output_type": "stream",
          "name": "stdout",
          "text": [
            "<class 'pandas.core.frame.DataFrame'>\n",
            "RangeIndex: 1470 entries, 0 to 1469\n",
            "Data columns (total 35 columns):\n",
            " #   Column                    Non-Null Count  Dtype \n",
            "---  ------                    --------------  ----- \n",
            " 0   Age                       1470 non-null   int64 \n",
            " 1   Attrition                 1470 non-null   object\n",
            " 2   BusinessTravel            1470 non-null   object\n",
            " 3   DailyRate                 1470 non-null   int64 \n",
            " 4   Department                1470 non-null   object\n",
            " 5   DistanceFromHome          1470 non-null   int64 \n",
            " 6   Education                 1470 non-null   int64 \n",
            " 7   EducationField            1470 non-null   object\n",
            " 8   EmployeeCount             1470 non-null   int64 \n",
            " 9   EmployeeNumber            1470 non-null   int64 \n",
            " 10  EnvironmentSatisfaction   1470 non-null   int64 \n",
            " 11  Gender                    1470 non-null   object\n",
            " 12  HourlyRate                1470 non-null   int64 \n",
            " 13  JobInvolvement            1470 non-null   int64 \n",
            " 14  JobLevel                  1470 non-null   int64 \n",
            " 15  JobRole                   1470 non-null   object\n",
            " 16  JobSatisfaction           1470 non-null   int64 \n",
            " 17  MaritalStatus             1470 non-null   object\n",
            " 18  MonthlyIncome             1470 non-null   int64 \n",
            " 19  MonthlyRate               1470 non-null   int64 \n",
            " 20  NumCompaniesWorked        1470 non-null   int64 \n",
            " 21  Over18                    1470 non-null   object\n",
            " 22  OverTime                  1470 non-null   object\n",
            " 23  PercentSalaryHike         1470 non-null   int64 \n",
            " 24  PerformanceRating         1470 non-null   int64 \n",
            " 25  RelationshipSatisfaction  1470 non-null   int64 \n",
            " 26  StandardHours             1470 non-null   int64 \n",
            " 27  StockOptionLevel          1470 non-null   int64 \n",
            " 28  TotalWorkingYears         1470 non-null   int64 \n",
            " 29  TrainingTimesLastYear     1470 non-null   int64 \n",
            " 30  WorkLifeBalance           1470 non-null   int64 \n",
            " 31  YearsAtCompany            1470 non-null   int64 \n",
            " 32  YearsInCurrentRole        1470 non-null   int64 \n",
            " 33  YearsSinceLastPromotion   1470 non-null   int64 \n",
            " 34  YearsWithCurrManager      1470 non-null   int64 \n",
            "dtypes: int64(26), object(9)\n",
            "memory usage: 402.1+ KB\n",
            "None\n"
          ]
        }
      ],
      "source": [
        "#information of datset\n",
        "\n",
        "print(data.info())"
      ]
    },
    {
      "cell_type": "code",
      "execution_count": 30,
      "id": "9872f01a",
      "metadata": {
        "colab": {
          "base_uri": "https://localhost:8080/"
        },
        "id": "9872f01a",
        "outputId": "7c82aac3-25ab-4ea2-ce72-967c2ab8fb70"
      },
      "outputs": [
        {
          "output_type": "execute_result",
          "data": {
            "text/plain": [
              "Index(['Age', 'Attrition', 'BusinessTravel', 'DailyRate', 'Department',\n",
              "       'DistanceFromHome', 'Education', 'EducationField', 'EmployeeCount',\n",
              "       'EmployeeNumber', 'EnvironmentSatisfaction', 'Gender', 'HourlyRate',\n",
              "       'JobInvolvement', 'JobLevel', 'JobRole', 'JobSatisfaction',\n",
              "       'MaritalStatus', 'MonthlyIncome', 'MonthlyRate', 'NumCompaniesWorked',\n",
              "       'Over18', 'OverTime', 'PercentSalaryHike', 'PerformanceRating',\n",
              "       'RelationshipSatisfaction', 'StandardHours', 'StockOptionLevel',\n",
              "       'TotalWorkingYears', 'TrainingTimesLastYear', 'WorkLifeBalance',\n",
              "       'YearsAtCompany', 'YearsInCurrentRole', 'YearsSinceLastPromotion',\n",
              "       'YearsWithCurrManager'],\n",
              "      dtype='object')"
            ]
          },
          "metadata": {},
          "execution_count": 30
        }
      ],
      "source": [
        "#columns names\n",
        "data.columns"
      ]
    },
    {
      "cell_type": "code",
      "execution_count": 31,
      "id": "a5e47753",
      "metadata": {
        "colab": {
          "base_uri": "https://localhost:8080/"
        },
        "id": "a5e47753",
        "outputId": "14b97fc3-cba1-4835-8445-097d2babe64a"
      },
      "outputs": [
        {
          "output_type": "stream",
          "name": "stdout",
          "text": [
            "Age                         0\n",
            "Attrition                   0\n",
            "BusinessTravel              0\n",
            "DailyRate                   0\n",
            "Department                  0\n",
            "DistanceFromHome            0\n",
            "Education                   0\n",
            "EducationField              0\n",
            "EmployeeCount               0\n",
            "EmployeeNumber              0\n",
            "EnvironmentSatisfaction     0\n",
            "Gender                      0\n",
            "HourlyRate                  0\n",
            "JobInvolvement              0\n",
            "JobLevel                    0\n",
            "JobRole                     0\n",
            "JobSatisfaction             0\n",
            "MaritalStatus               0\n",
            "MonthlyIncome               0\n",
            "MonthlyRate                 0\n",
            "NumCompaniesWorked          0\n",
            "Over18                      0\n",
            "OverTime                    0\n",
            "PercentSalaryHike           0\n",
            "PerformanceRating           0\n",
            "RelationshipSatisfaction    0\n",
            "StandardHours               0\n",
            "StockOptionLevel            0\n",
            "TotalWorkingYears           0\n",
            "TrainingTimesLastYear       0\n",
            "WorkLifeBalance             0\n",
            "YearsAtCompany              0\n",
            "YearsInCurrentRole          0\n",
            "YearsSinceLastPromotion     0\n",
            "YearsWithCurrManager        0\n",
            "dtype: int64\n"
          ]
        }
      ],
      "source": [
        "#Let’s have a look at whether this dataset contains any missing values or not\n",
        "print(data.isnull().sum())"
      ]
    },
    {
      "cell_type": "code",
      "execution_count": 32,
      "id": "74d27396",
      "metadata": {
        "colab": {
          "base_uri": "https://localhost:8080/",
          "height": 529
        },
        "id": "74d27396",
        "outputId": "24e92701-867c-43bf-94c8-1ebc702e383f"
      },
      "outputs": [
        {
          "output_type": "display_data",
          "data": {
            "text/plain": [
              "<Figure size 500x500 with 1 Axes>"
            ],
            "image/png": "[encoded data removed]"
          },
          "metadata": {}
        }
      ],
      "source": [
        "#the distribution of the age in the dataset:\n",
        "sns.displot(data['Age'],kde = True)\n",
        "plt.title('Distribution of Age')\n",
        "plt.show()"
      ]
    },
    {
      "cell_type": "code",
      "execution_count": 33,
      "id": "e810ee36",
      "metadata": {
        "colab": {
          "base_uri": "https://localhost:8080/"
        },
        "id": "e810ee36",
        "outputId": "d695fcf8-b5f3-4aa9-8b3b-34ad07282565"
      },
      "outputs": [
        {
          "output_type": "stream",
          "name": "stdout",
          "text": [
            "Attrition\n",
            "No     1233\n",
            "Yes     237\n",
            "Name: count, dtype: int64\n",
            "\n",
            "\n",
            "Attrition Rate: 16.12%\n"
          ]
        }
      ],
      "source": [
        "#Calculate the attrition rate\n",
        "\n",
        "attrition_count = dataset['Attrition'].value_counts()\n",
        "print(attrition_count)\n",
        "attrition_rate = (attrition_count['Yes'] / dataset.shape[0]) * 100\n",
        "print('\\n')\n",
        "print(\"Attrition Rate: {:.2f}%\".format(attrition_rate))\n"
      ]
    },
    {
      "cell_type": "code",
      "execution_count": 34,
      "id": "797177d0",
      "metadata": {
        "colab": {
          "base_uri": "https://localhost:8080/"
        },
        "id": "797177d0",
        "outputId": "4b32daf5-0c6e-4b84-f718-35dd04ab30ff"
      },
      "outputs": [
        {
          "output_type": "stream",
          "name": "stdout",
          "text": [
            "               Department  Count\n",
            "0         Human Resources     12\n",
            "1  Research & Development    133\n",
            "2                   Sales     92\n"
          ]
        }
      ],
      "source": [
        "#the percentage of attrition by department:\n",
        "# Filter the data to show only \"Yes\" values in the \"Attrition\" column\n",
        "attrition_data = data[data['Attrition'] == 'Yes']\n",
        "\n",
        "# Calculate the count of attrition by department\n",
        "attrition_by_dept = attrition_data.groupby(['Department']).size().reset_index(name='Count')\n",
        "\n",
        "print(attrition_by_dept)"
      ]
    },
    {
      "cell_type": "code",
      "execution_count": 35,
      "id": "0488e52c",
      "metadata": {
        "colab": {
          "base_uri": "https://localhost:8080/",
          "height": 542
        },
        "id": "0488e52c",
        "outputId": "ff49f961-64e0-444f-af37-6d6d6e0d2486"
      },
      "outputs": [
        {
          "output_type": "display_data",
          "data": {
            "text/html": [
              "<html>\n",
              "<head><meta charset=\"utf-8\" /></head>\n",
              "<body>\n",
              "    <div>            <script src=\"https://cdnjs.cloudflare.com/ajax/libs/mathjax/2.7.5/MathJax.js?config=TeX-AMS-MML_SVG\"></script><script type=\"text/javascript\">if (window.MathJax && window.MathJax.Hub && window.MathJax.Hub.Config) {window.MathJax.Hub.Config({SVG: {font: \"STIX-Web\"}});}</script>                <script type=\"text/javascript\">window.PlotlyConfig = {MathJaxConfig: 'local'};</script>\n",
              "        <script charset=\"utf-8\" src=\"https://cdn.plot.ly/plotly-2.24.1.min.js\"></script>                <div id=\"905b853b-d2d3-4bb1-ad94-bf2b22349e8f\" class=\"plotly-graph-div\" style=\"height:525px; width:100%;\"></div>            <script type=\"text/javascript\">                                    window.PLOTLYENV=window.PLOTLYENV || {};                                    if (document.getElementById(\"905b853b-d2d3-4bb1-ad94-bf2b22349e8f\")) {                    Plotly.newPlot(                        \"905b853b-d2d3-4bb1-ad94-bf2b22349e8f\",                        [{\"hole\":0.6,\"labels\":[\"Human Resources\",\"Research & Development\",\"Sales\"],\"marker\":{\"colors\":[\"#3CAEA3\",\"#F6D55C\"]},\"textposition\":\"inside\",\"values\":[12,133,92],\"type\":\"pie\"}],                        {\"template\":{\"data\":{\"histogram2dcontour\":[{\"type\":\"histogram2dcontour\",\"colorbar\":{\"outlinewidth\":0,\"ticks\":\"\"},\"colorscale\":[[0.0,\"#0d0887\"],[0.1111111111111111,\"#46039f\"],[0.2222222222222222,\"#7201a8\"],[0.3333333333333333,\"#9c179e\"],[0.4444444444444444,\"#bd3786\"],[0.5555555555555556,\"#d8576b\"],[0.6666666666666666,\"#ed7953\"],[0.7777777777777778,\"#fb9f3a\"],[0.8888888888888888,\"#fdca26\"],[1.0,\"#f0f921\"]]}],\"choropleth\":[{\"type\":\"choropleth\",\"colorbar\":{\"outlinewidth\":0,\"ticks\":\"\"}}],\"histogram2d\":[{\"type\":\"histogram2d\",\"colorbar\":{\"outlinewidth\":0,\"ticks\":\"\"},\"colorscale\":[[0.0,\"#0d0887\"],[0.1111111111111111,\"#46039f\"],[0.2222222222222222,\"#7201a8\"],[0.3333333333333333,\"#9c179e\"],[0.4444444444444444,\"#bd3786\"],[0.5555555555555556,\"#d8576b\"],[0.6666666666666666,\"#ed7953\"],[0.7777777777777778,\"#fb9f3a\"],[0.8888888888888888,\"#fdca26\"],[1.0,\"#f0f921\"]]}],\"heatmap\":[{\"type\":\"heatmap\",\"colorbar\":{\"outlinewidth\":0,\"ticks\":\"\"},\"colorscale\":[[0.0,\"#0d0887\"],[0.1111111111111111,\"#46039f\"],[0.2222222222222222,\"#7201a8\"],[0.3333333333333333,\"#9c179e\"],[0.4444444444444444,\"#bd3786\"],[0.5555555555555556,\"#d8576b\"],[0.6666666666666666,\"#ed7953\"],[0.7777777777777778,\"#fb9f3a\"],[0.8888888888888888,\"#fdca26\"],[1.0,\"#f0f921\"]]}],\"heatmapgl\":[{\"type\":\"heatmapgl\",\"colorbar\":{\"outlinewidth\":0,\"ticks\":\"\"},\"colorscale\":[[0.0,\"#0d0887\"],[0.1111111111111111,\"#46039f\"],[0.2222222222222222,\"#7201a8\"],[0.3333333333333333,\"#9c179e\"],[0.4444444444444444,\"#bd3786\"],[0.5555555555555556,\"#d8576b\"],[0.6666666666666666,\"#ed7953\"],[0.7777777777777778,\"#fb9f3a\"],[0.8888888888888888,\"#fdca26\"],[1.0,\"#f0f921\"]]}],\"contourcarpet\":[{\"type\":\"contourcarpet\",\"colorbar\":{\"outlinewidth\":0,\"ticks\":\"\"}}],\"contour\":[{\"type\":\"contour\",\"colorbar\":{\"outlinewidth\":0,\"ticks\":\"\"},\"colorscale\":[[0.0,\"#0d0887\"],[0.1111111111111111,\"#46039f\"],[0.2222222222222222,\"#7201a8\"],[0.3333333333333333,\"#9c179e\"],[0.4444444444444444,\"#bd3786\"],[0.5555555555555556,\"#d8576b\"],[0.6666666666666666,\"#ed7953\"],[0.7777777777777778,\"#fb9f3a\"],[0.8888888888888888,\"#fdca26\"],[1.0,\"#f0f921\"]]}],\"surface\":[{\"type\":\"surface\",\"colorbar\":{\"outlinewidth\":0,\"ticks\":\"\"},\"colorscale\":[[0.0,\"#0d0887\"],[0.1111111111111111,\"#46039f\"],[0.2222222222222222,\"#7201a8\"],[0.3333333333333333,\"#9c179e\"],[0.4444444444444444,\"#bd3786\"],[0.5555555555555556,\"#d8576b\"],[0.6666666666666666,\"#ed7953\"],[0.7777777777777778,\"#fb9f3a\"],[0.8888888888888888,\"#fdca26\"],[1.0,\"#f0f921\"]]}],\"mesh3d\":[{\"type\":\"mesh3d\",\"colorbar\":{\"outlinewidth\":0,\"ticks\":\"\"}}],\"scatter\":[{\"fillpattern\":{\"fillmode\":\"overlay\",\"size\":10,\"solidity\":0.2},\"type\":\"scatter\"}],\"parcoords\":[{\"type\":\"parcoords\",\"line\":{\"colorbar\":{\"outlinewidth\":0,\"ticks\":\"\"}}}],\"scatterpolargl\":[{\"type\":\"scatterpolargl\",\"marker\":{\"colorbar\":{\"outlinewidth\":0,\"ticks\":\"\"}}}],\"bar\":[{\"error_x\":{\"color\":\"#2a3f5f\"},\"error_y\":{\"color\":\"#2a3f5f\"},\"marker\":{\"line\":{\"color\":\"white\",\"width\":0.5},\"pattern\":{\"fillmode\":\"overlay\",\"size\":10,\"solidity\":0.2}},\"type\":\"bar\"}],\"scattergeo\":[{\"type\":\"scattergeo\",\"marker\":{\"colorbar\":{\"outlinewidth\":0,\"ticks\":\"\"}}}],\"scatterpolar\":[{\"type\":\"scatterpolar\",\"marker\":{\"colorbar\":{\"outlinewidth\":0,\"ticks\":\"\"}}}],\"histogram\":[{\"marker\":{\"pattern\":{\"fillmode\":\"overlay\",\"size\":10,\"solidity\":0.2}},\"type\":\"histogram\"}],\"scattergl\":[{\"type\":\"scattergl\",\"marker\":{\"colorbar\":{\"outlinewidth\":0,\"ticks\":\"\"}}}],\"scatter3d\":[{\"type\":\"scatter3d\",\"line\":{\"colorbar\":{\"outlinewidth\":0,\"ticks\":\"\"}},\"marker\":{\"colorbar\":{\"outlinewidth\":0,\"ticks\":\"\"}}}],\"scattermapbox\":[{\"type\":\"scattermapbox\",\"marker\":{\"colorbar\":{\"outlinewidth\":0,\"ticks\":\"\"}}}],\"scatterternary\":[{\"type\":\"scatterternary\",\"marker\":{\"colorbar\":{\"outlinewidth\":0,\"ticks\":\"\"}}}],\"scattercarpet\":[{\"type\":\"scattercarpet\",\"marker\":{\"colorbar\":{\"outlinewidth\":0,\"ticks\":\"\"}}}],\"carpet\":[{\"aaxis\":{\"endlinecolor\":\"#2a3f5f\",\"gridcolor\":\"#C8D4E3\",\"linecolor\":\"#C8D4E3\",\"minorgridcolor\":\"#C8D4E3\",\"startlinecolor\":\"#2a3f5f\"},\"baxis\":{\"endlinecolor\":\"#2a3f5f\",\"gridcolor\":\"#C8D4E3\",\"linecolor\":\"#C8D4E3\",\"minorgridcolor\":\"#C8D4E3\",\"startlinecolor\":\"#2a3f5f\"},\"type\":\"carpet\"}],\"table\":[{\"cells\":{\"fill\":{\"color\":\"#EBF0F8\"},\"line\":{\"color\":\"white\"}},\"header\":{\"fill\":{\"color\":\"#C8D4E3\"},\"line\":{\"color\":\"white\"}},\"type\":\"table\"}],\"barpolar\":[{\"marker\":{\"line\":{\"color\":\"white\",\"width\":0.5},\"pattern\":{\"fillmode\":\"overlay\",\"size\":10,\"solidity\":0.2}},\"type\":\"barpolar\"}],\"pie\":[{\"automargin\":true,\"type\":\"pie\"}]},\"layout\":{\"autotypenumbers\":\"strict\",\"colorway\":[\"#636efa\",\"#EF553B\",\"#00cc96\",\"#ab63fa\",\"#FFA15A\",\"#19d3f3\",\"#FF6692\",\"#B6E880\",\"#FF97FF\",\"#FECB52\"],\"font\":{\"color\":\"#2a3f5f\"},\"hovermode\":\"closest\",\"hoverlabel\":{\"align\":\"left\"},\"paper_bgcolor\":\"white\",\"plot_bgcolor\":\"white\",\"polar\":{\"bgcolor\":\"white\",\"angularaxis\":{\"gridcolor\":\"#EBF0F8\",\"linecolor\":\"#EBF0F8\",\"ticks\":\"\"},\"radialaxis\":{\"gridcolor\":\"#EBF0F8\",\"linecolor\":\"#EBF0F8\",\"ticks\":\"\"}},\"ternary\":{\"bgcolor\":\"white\",\"aaxis\":{\"gridcolor\":\"#DFE8F3\",\"linecolor\":\"#A2B1C6\",\"ticks\":\"\"},\"baxis\":{\"gridcolor\":\"#DFE8F3\",\"linecolor\":\"#A2B1C6\",\"ticks\":\"\"},\"caxis\":{\"gridcolor\":\"#DFE8F3\",\"linecolor\":\"#A2B1C6\",\"ticks\":\"\"}},\"coloraxis\":{\"colorbar\":{\"outlinewidth\":0,\"ticks\":\"\"}},\"colorscale\":{\"sequential\":[[0.0,\"#0d0887\"],[0.1111111111111111,\"#46039f\"],[0.2222222222222222,\"#7201a8\"],[0.3333333333333333,\"#9c179e\"],[0.4444444444444444,\"#bd3786\"],[0.5555555555555556,\"#d8576b\"],[0.6666666666666666,\"#ed7953\"],[0.7777777777777778,\"#fb9f3a\"],[0.8888888888888888,\"#fdca26\"],[1.0,\"#f0f921\"]],\"sequentialminus\":[[0.0,\"#0d0887\"],[0.1111111111111111,\"#46039f\"],[0.2222222222222222,\"#7201a8\"],[0.3333333333333333,\"#9c179e\"],[0.4444444444444444,\"#bd3786\"],[0.5555555555555556,\"#d8576b\"],[0.6666666666666666,\"#ed7953\"],[0.7777777777777778,\"#fb9f3a\"],[0.8888888888888888,\"#fdca26\"],[1.0,\"#f0f921\"]],\"diverging\":[[0,\"#8e0152\"],[0.1,\"#c51b7d\"],[0.2,\"#de77ae\"],[0.3,\"#f1b6da\"],[0.4,\"#fde0ef\"],[0.5,\"#f7f7f7\"],[0.6,\"#e6f5d0\"],[0.7,\"#b8e186\"],[0.8,\"#7fbc41\"],[0.9,\"#4d9221\"],[1,\"#276419\"]]},\"xaxis\":{\"gridcolor\":\"#EBF0F8\",\"linecolor\":\"#EBF0F8\",\"ticks\":\"\",\"title\":{\"standoff\":15},\"zerolinecolor\":\"#EBF0F8\",\"automargin\":true,\"zerolinewidth\":2},\"yaxis\":{\"gridcolor\":\"#EBF0F8\",\"linecolor\":\"#EBF0F8\",\"ticks\":\"\",\"title\":{\"standoff\":15},\"zerolinecolor\":\"#EBF0F8\",\"automargin\":true,\"zerolinewidth\":2},\"scene\":{\"xaxis\":{\"backgroundcolor\":\"white\",\"gridcolor\":\"#DFE8F3\",\"linecolor\":\"#EBF0F8\",\"showbackground\":true,\"ticks\":\"\",\"zerolinecolor\":\"#EBF0F8\",\"gridwidth\":2},\"yaxis\":{\"backgroundcolor\":\"white\",\"gridcolor\":\"#DFE8F3\",\"linecolor\":\"#EBF0F8\",\"showbackground\":true,\"ticks\":\"\",\"zerolinecolor\":\"#EBF0F8\",\"gridwidth\":2},\"zaxis\":{\"backgroundcolor\":\"white\",\"gridcolor\":\"#DFE8F3\",\"linecolor\":\"#EBF0F8\",\"showbackground\":true,\"ticks\":\"\",\"zerolinecolor\":\"#EBF0F8\",\"gridwidth\":2}},\"shapedefaults\":{\"line\":{\"color\":\"#2a3f5f\"}},\"annotationdefaults\":{\"arrowcolor\":\"#2a3f5f\",\"arrowhead\":0,\"arrowwidth\":1},\"geo\":{\"bgcolor\":\"white\",\"landcolor\":\"white\",\"subunitcolor\":\"#C8D4E3\",\"showland\":true,\"showlakes\":true,\"lakecolor\":\"white\"},\"title\":{\"x\":0.05},\"mapbox\":{\"style\":\"light\"}}},\"font\":{\"size\":16},\"legend\":{\"orientation\":\"h\",\"yanchor\":\"bottom\",\"y\":1.02,\"xanchor\":\"right\",\"x\":1},\"title\":{\"text\":\"Attrition by Department\"}},                        {\"responsive\": true}                    ).then(function(){\n",
              "                            \n",
              "var gd = document.getElementById('905b853b-d2d3-4bb1-ad94-bf2b22349e8f');\n",
              "var x = new MutationObserver(function (mutations, observer) {{\n",
              "        var display = window.getComputedStyle(gd).display;\n",
              "        if (!display || display === 'none') {{\n",
              "            console.log([gd, 'removed!']);\n",
              "            Plotly.purge(gd);\n",
              "            observer.disconnect();\n",
              "        }}\n",
              "}});\n",
              "\n",
              "// Listen for the removal of the full notebook cells\n",
              "var notebookContainer = gd.closest('#notebook-container');\n",
              "if (notebookContainer) {{\n",
              "    x.observe(notebookContainer, {childList: true});\n",
              "}}\n",
              "\n",
              "// Listen for the clearing of the current output cell\n",
              "var outputEl = gd.closest('.output');\n",
              "if (outputEl) {{\n",
              "    x.observe(outputEl, {childList: true});\n",
              "}}\n",
              "\n",
              "                        })                };                            </script>        </div>\n",
              "</body>\n",
              "</html>"
            ]
          },
          "metadata": {}
        }
      ],
      "source": [
        "# Create a donut chart\n",
        "fig = go.Figure(data=[go.Pie(\n",
        "                        labels=attrition_by_dept['Department'],\n",
        "                        values=attrition_by_dept['Count'],\n",
        "                            hole=0.6,\n",
        "                        marker=dict(colors=['#3CAEA3', '#F6D55C']),\n",
        "                        textposition='inside'\n",
        "                        )]\n",
        "               )\n",
        "\n",
        "# Update the layout\n",
        "fig.update_layout(title='Attrition by Department',\n",
        "                  font=dict(size=16),\n",
        "                  legend=dict(orientation=\"h\", yanchor=\"bottom\", y=1.02, xanchor=\"right\", x=1)\n",
        "                 )\n",
        "\n",
        "# Show the chart\n",
        "fig.show()"
      ]
    },
    {
      "cell_type": "markdown",
      "id": "e04f8244",
      "metadata": {
        "id": "e04f8244"
      },
      "source": [
        "We can see that the Research & Development department has a high attrition rate."
      ]
    },
    {
      "cell_type": "code",
      "execution_count": 36,
      "id": "0e86ce17",
      "metadata": {
        "colab": {
          "base_uri": "https://localhost:8080/"
        },
        "id": "0e86ce17",
        "outputId": "e9e750cb-d913-4a9e-9394-f094a710f51b"
      },
      "outputs": [
        {
          "output_type": "stream",
          "name": "stdout",
          "text": [
            "     EducationField  Count\n",
            "0   Human Resources      7\n",
            "1     Life Sciences     89\n",
            "2         Marketing     35\n",
            "3           Medical     63\n",
            "4             Other     11\n",
            "5  Technical Degree     32\n"
          ]
        }
      ],
      "source": [
        "#the percentage of attrition by education field\n",
        "# Calculate the count of attrition by department\n",
        "attrition_by_edu_field = attrition_data.groupby(['EducationField']).size().reset_index(name='Count')\n",
        "\n",
        "print(attrition_by_edu_field)"
      ]
    },
    {
      "cell_type": "code",
      "execution_count": 37,
      "id": "cbbd1aaa",
      "metadata": {
        "colab": {
          "base_uri": "https://localhost:8080/",
          "height": 542
        },
        "id": "cbbd1aaa",
        "outputId": "f7da2dda-4b91-4cde-9cfe-7de7583f8925"
      },
      "outputs": [
        {
          "output_type": "display_data",
          "data": {
            "text/html": [
              "<html>\n",
              "<head><meta charset=\"utf-8\" /></head>\n",
              "<body>\n",
              "    <div>            <script src=\"https://cdnjs.cloudflare.com/ajax/libs/mathjax/2.7.5/MathJax.js?config=TeX-AMS-MML_SVG\"></script><script type=\"text/javascript\">if (window.MathJax && window.MathJax.Hub && window.MathJax.Hub.Config) {window.MathJax.Hub.Config({SVG: {font: \"STIX-Web\"}});}</script>                <script type=\"text/javascript\">window.PlotlyConfig = {MathJaxConfig: 'local'};</script>\n",
              "        <script charset=\"utf-8\" src=\"https://cdn.plot.ly/plotly-2.24.1.min.js\"></script>                <div id=\"1131b17b-3b08-41ea-902b-ff0cbca3bf34\" class=\"plotly-graph-div\" style=\"height:525px; width:100%;\"></div>            <script type=\"text/javascript\">                                    window.PLOTLYENV=window.PLOTLYENV || {};                                    if (document.getElementById(\"1131b17b-3b08-41ea-902b-ff0cbca3bf34\")) {                    Plotly.newPlot(                        \"1131b17b-3b08-41ea-902b-ff0cbca3bf34\",                        [{\"hole\":0.6,\"labels\":[\"Human Resources\",\"Life Sciences\",\"Marketing\",\"Medical\",\"Other\",\"Technical Degree\"],\"marker\":{\"colors\":[\"#3CAEA3\",\"#F6D55C\"]},\"textposition\":\"inside\",\"values\":[7,89,35,63,11,32],\"type\":\"pie\"}],                        {\"template\":{\"data\":{\"histogram2dcontour\":[{\"type\":\"histogram2dcontour\",\"colorbar\":{\"outlinewidth\":0,\"ticks\":\"\"},\"colorscale\":[[0.0,\"#0d0887\"],[0.1111111111111111,\"#46039f\"],[0.2222222222222222,\"#7201a8\"],[0.3333333333333333,\"#9c179e\"],[0.4444444444444444,\"#bd3786\"],[0.5555555555555556,\"#d8576b\"],[0.6666666666666666,\"#ed7953\"],[0.7777777777777778,\"#fb9f3a\"],[0.8888888888888888,\"#fdca26\"],[1.0,\"#f0f921\"]]}],\"choropleth\":[{\"type\":\"choropleth\",\"colorbar\":{\"outlinewidth\":0,\"ticks\":\"\"}}],\"histogram2d\":[{\"type\":\"histogram2d\",\"colorbar\":{\"outlinewidth\":0,\"ticks\":\"\"},\"colorscale\":[[0.0,\"#0d0887\"],[0.1111111111111111,\"#46039f\"],[0.2222222222222222,\"#7201a8\"],[0.3333333333333333,\"#9c179e\"],[0.4444444444444444,\"#bd3786\"],[0.5555555555555556,\"#d8576b\"],[0.6666666666666666,\"#ed7953\"],[0.7777777777777778,\"#fb9f3a\"],[0.8888888888888888,\"#fdca26\"],[1.0,\"#f0f921\"]]}],\"heatmap\":[{\"type\":\"heatmap\",\"colorbar\":{\"outlinewidth\":0,\"ticks\":\"\"},\"colorscale\":[[0.0,\"#0d0887\"],[0.1111111111111111,\"#46039f\"],[0.2222222222222222,\"#7201a8\"],[0.3333333333333333,\"#9c179e\"],[0.4444444444444444,\"#bd3786\"],[0.5555555555555556,\"#d8576b\"],[0.6666666666666666,\"#ed7953\"],[0.7777777777777778,\"#fb9f3a\"],[0.8888888888888888,\"#fdca26\"],[1.0,\"#f0f921\"]]}],\"heatmapgl\":[{\"type\":\"heatmapgl\",\"colorbar\":{\"outlinewidth\":0,\"ticks\":\"\"},\"colorscale\":[[0.0,\"#0d0887\"],[0.1111111111111111,\"#46039f\"],[0.2222222222222222,\"#7201a8\"],[0.3333333333333333,\"#9c179e\"],[0.4444444444444444,\"#bd3786\"],[0.5555555555555556,\"#d8576b\"],[0.6666666666666666,\"#ed7953\"],[0.7777777777777778,\"#fb9f3a\"],[0.8888888888888888,\"#fdca26\"],[1.0,\"#f0f921\"]]}],\"contourcarpet\":[{\"type\":\"contourcarpet\",\"colorbar\":{\"outlinewidth\":0,\"ticks\":\"\"}}],\"contour\":[{\"type\":\"contour\",\"colorbar\":{\"outlinewidth\":0,\"ticks\":\"\"},\"colorscale\":[[0.0,\"#0d0887\"],[0.1111111111111111,\"#46039f\"],[0.2222222222222222,\"#7201a8\"],[0.3333333333333333,\"#9c179e\"],[0.4444444444444444,\"#bd3786\"],[0.5555555555555556,\"#d8576b\"],[0.6666666666666666,\"#ed7953\"],[0.7777777777777778,\"#fb9f3a\"],[0.8888888888888888,\"#fdca26\"],[1.0,\"#f0f921\"]]}],\"surface\":[{\"type\":\"surface\",\"colorbar\":{\"outlinewidth\":0,\"ticks\":\"\"},\"colorscale\":[[0.0,\"#0d0887\"],[0.1111111111111111,\"#46039f\"],[0.2222222222222222,\"#7201a8\"],[0.3333333333333333,\"#9c179e\"],[0.4444444444444444,\"#bd3786\"],[0.5555555555555556,\"#d8576b\"],[0.6666666666666666,\"#ed7953\"],[0.7777777777777778,\"#fb9f3a\"],[0.8888888888888888,\"#fdca26\"],[1.0,\"#f0f921\"]]}],\"mesh3d\":[{\"type\":\"mesh3d\",\"colorbar\":{\"outlinewidth\":0,\"ticks\":\"\"}}],\"scatter\":[{\"fillpattern\":{\"fillmode\":\"overlay\",\"size\":10,\"solidity\":0.2},\"type\":\"scatter\"}],\"parcoords\":[{\"type\":\"parcoords\",\"line\":{\"colorbar\":{\"outlinewidth\":0,\"ticks\":\"\"}}}],\"scatterpolargl\":[{\"type\":\"scatterpolargl\",\"marker\":{\"colorbar\":{\"outlinewidth\":0,\"ticks\":\"\"}}}],\"bar\":[{\"error_x\":{\"color\":\"#2a3f5f\"},\"error_y\":{\"color\":\"#2a3f5f\"},\"marker\":{\"line\":{\"color\":\"white\",\"width\":0.5},\"pattern\":{\"fillmode\":\"overlay\",\"size\":10,\"solidity\":0.2}},\"type\":\"bar\"}],\"scattergeo\":[{\"type\":\"scattergeo\",\"marker\":{\"colorbar\":{\"outlinewidth\":0,\"ticks\":\"\"}}}],\"scatterpolar\":[{\"type\":\"scatterpolar\",\"marker\":{\"colorbar\":{\"outlinewidth\":0,\"ticks\":\"\"}}}],\"histogram\":[{\"marker\":{\"pattern\":{\"fillmode\":\"overlay\",\"size\":10,\"solidity\":0.2}},\"type\":\"histogram\"}],\"scattergl\":[{\"type\":\"scattergl\",\"marker\":{\"colorbar\":{\"outlinewidth\":0,\"ticks\":\"\"}}}],\"scatter3d\":[{\"type\":\"scatter3d\",\"line\":{\"colorbar\":{\"outlinewidth\":0,\"ticks\":\"\"}},\"marker\":{\"colorbar\":{\"outlinewidth\":0,\"ticks\":\"\"}}}],\"scattermapbox\":[{\"type\":\"scattermapbox\",\"marker\":{\"colorbar\":{\"outlinewidth\":0,\"ticks\":\"\"}}}],\"scatterternary\":[{\"type\":\"scatterternary\",\"marker\":{\"colorbar\":{\"outlinewidth\":0,\"ticks\":\"\"}}}],\"scattercarpet\":[{\"type\":\"scattercarpet\",\"marker\":{\"colorbar\":{\"outlinewidth\":0,\"ticks\":\"\"}}}],\"carpet\":[{\"aaxis\":{\"endlinecolor\":\"#2a3f5f\",\"gridcolor\":\"#C8D4E3\",\"linecolor\":\"#C8D4E3\",\"minorgridcolor\":\"#C8D4E3\",\"startlinecolor\":\"#2a3f5f\"},\"baxis\":{\"endlinecolor\":\"#2a3f5f\",\"gridcolor\":\"#C8D4E3\",\"linecolor\":\"#C8D4E3\",\"minorgridcolor\":\"#C8D4E3\",\"startlinecolor\":\"#2a3f5f\"},\"type\":\"carpet\"}],\"table\":[{\"cells\":{\"fill\":{\"color\":\"#EBF0F8\"},\"line\":{\"color\":\"white\"}},\"header\":{\"fill\":{\"color\":\"#C8D4E3\"},\"line\":{\"color\":\"white\"}},\"type\":\"table\"}],\"barpolar\":[{\"marker\":{\"line\":{\"color\":\"white\",\"width\":0.5},\"pattern\":{\"fillmode\":\"overlay\",\"size\":10,\"solidity\":0.2}},\"type\":\"barpolar\"}],\"pie\":[{\"automargin\":true,\"type\":\"pie\"}]},\"layout\":{\"autotypenumbers\":\"strict\",\"colorway\":[\"#636efa\",\"#EF553B\",\"#00cc96\",\"#ab63fa\",\"#FFA15A\",\"#19d3f3\",\"#FF6692\",\"#B6E880\",\"#FF97FF\",\"#FECB52\"],\"font\":{\"color\":\"#2a3f5f\"},\"hovermode\":\"closest\",\"hoverlabel\":{\"align\":\"left\"},\"paper_bgcolor\":\"white\",\"plot_bgcolor\":\"white\",\"polar\":{\"bgcolor\":\"white\",\"angularaxis\":{\"gridcolor\":\"#EBF0F8\",\"linecolor\":\"#EBF0F8\",\"ticks\":\"\"},\"radialaxis\":{\"gridcolor\":\"#EBF0F8\",\"linecolor\":\"#EBF0F8\",\"ticks\":\"\"}},\"ternary\":{\"bgcolor\":\"white\",\"aaxis\":{\"gridcolor\":\"#DFE8F3\",\"linecolor\":\"#A2B1C6\",\"ticks\":\"\"},\"baxis\":{\"gridcolor\":\"#DFE8F3\",\"linecolor\":\"#A2B1C6\",\"ticks\":\"\"},\"caxis\":{\"gridcolor\":\"#DFE8F3\",\"linecolor\":\"#A2B1C6\",\"ticks\":\"\"}},\"coloraxis\":{\"colorbar\":{\"outlinewidth\":0,\"ticks\":\"\"}},\"colorscale\":{\"sequential\":[[0.0,\"#0d0887\"],[0.1111111111111111,\"#46039f\"],[0.2222222222222222,\"#7201a8\"],[0.3333333333333333,\"#9c179e\"],[0.4444444444444444,\"#bd3786\"],[0.5555555555555556,\"#d8576b\"],[0.6666666666666666,\"#ed7953\"],[0.7777777777777778,\"#fb9f3a\"],[0.8888888888888888,\"#fdca26\"],[1.0,\"#f0f921\"]],\"sequentialminus\":[[0.0,\"#0d0887\"],[0.1111111111111111,\"#46039f\"],[0.2222222222222222,\"#7201a8\"],[0.3333333333333333,\"#9c179e\"],[0.4444444444444444,\"#bd3786\"],[0.5555555555555556,\"#d8576b\"],[0.6666666666666666,\"#ed7953\"],[0.7777777777777778,\"#fb9f3a\"],[0.8888888888888888,\"#fdca26\"],[1.0,\"#f0f921\"]],\"diverging\":[[0,\"#8e0152\"],[0.1,\"#c51b7d\"],[0.2,\"#de77ae\"],[0.3,\"#f1b6da\"],[0.4,\"#fde0ef\"],[0.5,\"#f7f7f7\"],[0.6,\"#e6f5d0\"],[0.7,\"#b8e186\"],[0.8,\"#7fbc41\"],[0.9,\"#4d9221\"],[1,\"#276419\"]]},\"xaxis\":{\"gridcolor\":\"#EBF0F8\",\"linecolor\":\"#EBF0F8\",\"ticks\":\"\",\"title\":{\"standoff\":15},\"zerolinecolor\":\"#EBF0F8\",\"automargin\":true,\"zerolinewidth\":2},\"yaxis\":{\"gridcolor\":\"#EBF0F8\",\"linecolor\":\"#EBF0F8\",\"ticks\":\"\",\"title\":{\"standoff\":15},\"zerolinecolor\":\"#EBF0F8\",\"automargin\":true,\"zerolinewidth\":2},\"scene\":{\"xaxis\":{\"backgroundcolor\":\"white\",\"gridcolor\":\"#DFE8F3\",\"linecolor\":\"#EBF0F8\",\"showbackground\":true,\"ticks\":\"\",\"zerolinecolor\":\"#EBF0F8\",\"gridwidth\":2},\"yaxis\":{\"backgroundcolor\":\"white\",\"gridcolor\":\"#DFE8F3\",\"linecolor\":\"#EBF0F8\",\"showbackground\":true,\"ticks\":\"\",\"zerolinecolor\":\"#EBF0F8\",\"gridwidth\":2},\"zaxis\":{\"backgroundcolor\":\"white\",\"gridcolor\":\"#DFE8F3\",\"linecolor\":\"#EBF0F8\",\"showbackground\":true,\"ticks\":\"\",\"zerolinecolor\":\"#EBF0F8\",\"gridwidth\":2}},\"shapedefaults\":{\"line\":{\"color\":\"#2a3f5f\"}},\"annotationdefaults\":{\"arrowcolor\":\"#2a3f5f\",\"arrowhead\":0,\"arrowwidth\":1},\"geo\":{\"bgcolor\":\"white\",\"landcolor\":\"white\",\"subunitcolor\":\"#C8D4E3\",\"showland\":true,\"showlakes\":true,\"lakecolor\":\"white\"},\"title\":{\"x\":0.05},\"mapbox\":{\"style\":\"light\"}}},\"font\":{\"size\":16},\"legend\":{\"orientation\":\"h\",\"yanchor\":\"bottom\",\"y\":1,\"xanchor\":\"center\",\"x\":1},\"title\":{\"text\":\"Attrition by Educational Field\"}},                        {\"responsive\": true}                    ).then(function(){\n",
              "                            \n",
              "var gd = document.getElementById('1131b17b-3b08-41ea-902b-ff0cbca3bf34');\n",
              "var x = new MutationObserver(function (mutations, observer) {{\n",
              "        var display = window.getComputedStyle(gd).display;\n",
              "        if (!display || display === 'none') {{\n",
              "            console.log([gd, 'removed!']);\n",
              "            Plotly.purge(gd);\n",
              "            observer.disconnect();\n",
              "        }}\n",
              "}});\n",
              "\n",
              "// Listen for the removal of the full notebook cells\n",
              "var notebookContainer = gd.closest('#notebook-container');\n",
              "if (notebookContainer) {{\n",
              "    x.observe(notebookContainer, {childList: true});\n",
              "}}\n",
              "\n",
              "// Listen for the clearing of the current output cell\n",
              "var outputEl = gd.closest('.output');\n",
              "if (outputEl) {{\n",
              "    x.observe(outputEl, {childList: true});\n",
              "}}\n",
              "\n",
              "                        })                };                            </script>        </div>\n",
              "</body>\n",
              "</html>"
            ]
          },
          "metadata": {}
        }
      ],
      "source": [
        "# Create a donut chart\n",
        "fig = go.Figure(data=[go.Pie(\n",
        "                            labels=attrition_by_edu_field['EducationField'],\n",
        "                            values=attrition_by_edu_field['Count'],\n",
        "                            hole=0.6,\n",
        "                            marker=dict(colors=['#3CAEA3', '#F6D55C']),\n",
        "                            textposition='inside')]\n",
        "               )\n",
        "\n",
        "# Update the layout\n",
        "fig.update_layout(title='Attrition by Educational Field', font=dict(size=16), legend=dict(\n",
        "                    orientation=\"h\", yanchor=\"bottom\", y=1, xanchor=\"center\", x=1)\n",
        "                 )\n",
        "\n",
        "# Show the chart\n",
        "fig.show()"
      ]
    },
    {
      "cell_type": "markdown",
      "id": "dd2e8094",
      "metadata": {
        "id": "dd2e8094"
      },
      "source": [
        "We can see that the employees with Life Sciences as an education field have a high attrition rate."
      ]
    },
    {
      "cell_type": "code",
      "execution_count": 38,
      "id": "51f666c6",
      "metadata": {
        "colab": {
          "base_uri": "https://localhost:8080/"
        },
        "id": "51f666c6",
        "outputId": "3ef640b4-aeea-4f75-ae08-dcfa40412764"
      },
      "outputs": [
        {
          "output_type": "stream",
          "name": "stdout",
          "text": [
            "    YearsAtCompany  Count\n",
            "0                0     16\n",
            "1                1     59\n",
            "2                2     27\n",
            "3                3     20\n",
            "4                4     19\n",
            "5                5     21\n",
            "6                6      9\n",
            "7                7     11\n",
            "8                8      9\n",
            "9                9      8\n",
            "10              10     18\n",
            "11              11      2\n",
            "12              13      2\n",
            "13              14      2\n",
            "14              15      1\n",
            "15              16      1\n",
            "16              17      1\n",
            "17              18      1\n",
            "18              19      1\n",
            "19              20      1\n",
            "20              21      1\n",
            "21              22      1\n",
            "22              23      1\n",
            "23              24      1\n",
            "24              31      1\n",
            "25              32      1\n",
            "26              33      1\n",
            "27              40      1\n"
          ]
        }
      ],
      "source": [
        "#the percentage of attrition by number of years at the company:\n",
        "# Calculate the count of attrition by department\n",
        "attrition_by_year_at_comp = attrition_data.groupby(['YearsAtCompany']).size().reset_index(name='Count')\n",
        "\n",
        "print(attrition_by_year_at_comp)"
      ]
    },
    {
      "cell_type": "code",
      "execution_count": 39,
      "id": "e99c3272",
      "metadata": {
        "colab": {
          "base_uri": "https://localhost:8080/",
          "height": 542
        },
        "id": "e99c3272",
        "outputId": "96da0a57-d071-4a5c-cffe-27cf3f09948c"
      },
      "outputs": [
        {
          "output_type": "display_data",
          "data": {
            "text/html": [
              "<html>\n",
              "<head><meta charset=\"utf-8\" /></head>\n",
              "<body>\n",
              "    <div>            <script src=\"https://cdnjs.cloudflare.com/ajax/libs/mathjax/2.7.5/MathJax.js?config=TeX-AMS-MML_SVG\"></script><script type=\"text/javascript\">if (window.MathJax && window.MathJax.Hub && window.MathJax.Hub.Config) {window.MathJax.Hub.Config({SVG: {font: \"STIX-Web\"}});}</script>                <script type=\"text/javascript\">window.PlotlyConfig = {MathJaxConfig: 'local'};</script>\n",
              "        <script charset=\"utf-8\" src=\"https://cdn.plot.ly/plotly-2.24.1.min.js\"></script>                <div id=\"8c904b59-d51b-4d06-bda6-ac70d69c3c62\" class=\"plotly-graph-div\" style=\"height:525px; width:100%;\"></div>            <script type=\"text/javascript\">                                    window.PLOTLYENV=window.PLOTLYENV || {};                                    if (document.getElementById(\"8c904b59-d51b-4d06-bda6-ac70d69c3c62\")) {                    Plotly.newPlot(                        \"8c904b59-d51b-4d06-bda6-ac70d69c3c62\",                        [{\"hole\":0.6,\"labels\":[0,1,2,3,4,5,6,7,8,9,10,11,13,14,15,16,17,18,19,20,21,22,23,24,31,32,33,40],\"marker\":{\"colors\":[\"#3CAEA3\",\"#F6D55C\"]},\"textposition\":\"inside\",\"values\":[16,59,27,20,19,21,9,11,9,8,18,2,2,2,1,1,1,1,1,1,1,1,1,1,1,1,1,1],\"type\":\"pie\"}],                        {\"template\":{\"data\":{\"histogram2dcontour\":[{\"type\":\"histogram2dcontour\",\"colorbar\":{\"outlinewidth\":0,\"ticks\":\"\"},\"colorscale\":[[0.0,\"#0d0887\"],[0.1111111111111111,\"#46039f\"],[0.2222222222222222,\"#7201a8\"],[0.3333333333333333,\"#9c179e\"],[0.4444444444444444,\"#bd3786\"],[0.5555555555555556,\"#d8576b\"],[0.6666666666666666,\"#ed7953\"],[0.7777777777777778,\"#fb9f3a\"],[0.8888888888888888,\"#fdca26\"],[1.0,\"#f0f921\"]]}],\"choropleth\":[{\"type\":\"choropleth\",\"colorbar\":{\"outlinewidth\":0,\"ticks\":\"\"}}],\"histogram2d\":[{\"type\":\"histogram2d\",\"colorbar\":{\"outlinewidth\":0,\"ticks\":\"\"},\"colorscale\":[[0.0,\"#0d0887\"],[0.1111111111111111,\"#46039f\"],[0.2222222222222222,\"#7201a8\"],[0.3333333333333333,\"#9c179e\"],[0.4444444444444444,\"#bd3786\"],[0.5555555555555556,\"#d8576b\"],[0.6666666666666666,\"#ed7953\"],[0.7777777777777778,\"#fb9f3a\"],[0.8888888888888888,\"#fdca26\"],[1.0,\"#f0f921\"]]}],\"heatmap\":[{\"type\":\"heatmap\",\"colorbar\":{\"outlinewidth\":0,\"ticks\":\"\"},\"colorscale\":[[0.0,\"#0d0887\"],[0.1111111111111111,\"#46039f\"],[0.2222222222222222,\"#7201a8\"],[0.3333333333333333,\"#9c179e\"],[0.4444444444444444,\"#bd3786\"],[0.5555555555555556,\"#d8576b\"],[0.6666666666666666,\"#ed7953\"],[0.7777777777777778,\"#fb9f3a\"],[0.8888888888888888,\"#fdca26\"],[1.0,\"#f0f921\"]]}],\"heatmapgl\":[{\"type\":\"heatmapgl\",\"colorbar\":{\"outlinewidth\":0,\"ticks\":\"\"},\"colorscale\":[[0.0,\"#0d0887\"],[0.1111111111111111,\"#46039f\"],[0.2222222222222222,\"#7201a8\"],[0.3333333333333333,\"#9c179e\"],[0.4444444444444444,\"#bd3786\"],[0.5555555555555556,\"#d8576b\"],[0.6666666666666666,\"#ed7953\"],[0.7777777777777778,\"#fb9f3a\"],[0.8888888888888888,\"#fdca26\"],[1.0,\"#f0f921\"]]}],\"contourcarpet\":[{\"type\":\"contourcarpet\",\"colorbar\":{\"outlinewidth\":0,\"ticks\":\"\"}}],\"contour\":[{\"type\":\"contour\",\"colorbar\":{\"outlinewidth\":0,\"ticks\":\"\"},\"colorscale\":[[0.0,\"#0d0887\"],[0.1111111111111111,\"#46039f\"],[0.2222222222222222,\"#7201a8\"],[0.3333333333333333,\"#9c179e\"],[0.4444444444444444,\"#bd3786\"],[0.5555555555555556,\"#d8576b\"],[0.6666666666666666,\"#ed7953\"],[0.7777777777777778,\"#fb9f3a\"],[0.8888888888888888,\"#fdca26\"],[1.0,\"#f0f921\"]]}],\"surface\":[{\"type\":\"surface\",\"colorbar\":{\"outlinewidth\":0,\"ticks\":\"\"},\"colorscale\":[[0.0,\"#0d0887\"],[0.1111111111111111,\"#46039f\"],[0.2222222222222222,\"#7201a8\"],[0.3333333333333333,\"#9c179e\"],[0.4444444444444444,\"#bd3786\"],[0.5555555555555556,\"#d8576b\"],[0.6666666666666666,\"#ed7953\"],[0.7777777777777778,\"#fb9f3a\"],[0.8888888888888888,\"#fdca26\"],[1.0,\"#f0f921\"]]}],\"mesh3d\":[{\"type\":\"mesh3d\",\"colorbar\":{\"outlinewidth\":0,\"ticks\":\"\"}}],\"scatter\":[{\"fillpattern\":{\"fillmode\":\"overlay\",\"size\":10,\"solidity\":0.2},\"type\":\"scatter\"}],\"parcoords\":[{\"type\":\"parcoords\",\"line\":{\"colorbar\":{\"outlinewidth\":0,\"ticks\":\"\"}}}],\"scatterpolargl\":[{\"type\":\"scatterpolargl\",\"marker\":{\"colorbar\":{\"outlinewidth\":0,\"ticks\":\"\"}}}],\"bar\":[{\"error_x\":{\"color\":\"#2a3f5f\"},\"error_y\":{\"color\":\"#2a3f5f\"},\"marker\":{\"line\":{\"color\":\"white\",\"width\":0.5},\"pattern\":{\"fillmode\":\"overlay\",\"size\":10,\"solidity\":0.2}},\"type\":\"bar\"}],\"scattergeo\":[{\"type\":\"scattergeo\",\"marker\":{\"colorbar\":{\"outlinewidth\":0,\"ticks\":\"\"}}}],\"scatterpolar\":[{\"type\":\"scatterpolar\",\"marker\":{\"colorbar\":{\"outlinewidth\":0,\"ticks\":\"\"}}}],\"histogram\":[{\"marker\":{\"pattern\":{\"fillmode\":\"overlay\",\"size\":10,\"solidity\":0.2}},\"type\":\"histogram\"}],\"scattergl\":[{\"type\":\"scattergl\",\"marker\":{\"colorbar\":{\"outlinewidth\":0,\"ticks\":\"\"}}}],\"scatter3d\":[{\"type\":\"scatter3d\",\"line\":{\"colorbar\":{\"outlinewidth\":0,\"ticks\":\"\"}},\"marker\":{\"colorbar\":{\"outlinewidth\":0,\"ticks\":\"\"}}}],\"scattermapbox\":[{\"type\":\"scattermapbox\",\"marker\":{\"colorbar\":{\"outlinewidth\":0,\"ticks\":\"\"}}}],\"scatterternary\":[{\"type\":\"scatterternary\",\"marker\":{\"colorbar\":{\"outlinewidth\":0,\"ticks\":\"\"}}}],\"scattercarpet\":[{\"type\":\"scattercarpet\",\"marker\":{\"colorbar\":{\"outlinewidth\":0,\"ticks\":\"\"}}}],\"carpet\":[{\"aaxis\":{\"endlinecolor\":\"#2a3f5f\",\"gridcolor\":\"#C8D4E3\",\"linecolor\":\"#C8D4E3\",\"minorgridcolor\":\"#C8D4E3\",\"startlinecolor\":\"#2a3f5f\"},\"baxis\":{\"endlinecolor\":\"#2a3f5f\",\"gridcolor\":\"#C8D4E3\",\"linecolor\":\"#C8D4E3\",\"minorgridcolor\":\"#C8D4E3\",\"startlinecolor\":\"#2a3f5f\"},\"type\":\"carpet\"}],\"table\":[{\"cells\":{\"fill\":{\"color\":\"#EBF0F8\"},\"line\":{\"color\":\"white\"}},\"header\":{\"fill\":{\"color\":\"#C8D4E3\"},\"line\":{\"color\":\"white\"}},\"type\":\"table\"}],\"barpolar\":[{\"marker\":{\"line\":{\"color\":\"white\",\"width\":0.5},\"pattern\":{\"fillmode\":\"overlay\",\"size\":10,\"solidity\":0.2}},\"type\":\"barpolar\"}],\"pie\":[{\"automargin\":true,\"type\":\"pie\"}]},\"layout\":{\"autotypenumbers\":\"strict\",\"colorway\":[\"#636efa\",\"#EF553B\",\"#00cc96\",\"#ab63fa\",\"#FFA15A\",\"#19d3f3\",\"#FF6692\",\"#B6E880\",\"#FF97FF\",\"#FECB52\"],\"font\":{\"color\":\"#2a3f5f\"},\"hovermode\":\"closest\",\"hoverlabel\":{\"align\":\"left\"},\"paper_bgcolor\":\"white\",\"plot_bgcolor\":\"white\",\"polar\":{\"bgcolor\":\"white\",\"angularaxis\":{\"gridcolor\":\"#EBF0F8\",\"linecolor\":\"#EBF0F8\",\"ticks\":\"\"},\"radialaxis\":{\"gridcolor\":\"#EBF0F8\",\"linecolor\":\"#EBF0F8\",\"ticks\":\"\"}},\"ternary\":{\"bgcolor\":\"white\",\"aaxis\":{\"gridcolor\":\"#DFE8F3\",\"linecolor\":\"#A2B1C6\",\"ticks\":\"\"},\"baxis\":{\"gridcolor\":\"#DFE8F3\",\"linecolor\":\"#A2B1C6\",\"ticks\":\"\"},\"caxis\":{\"gridcolor\":\"#DFE8F3\",\"linecolor\":\"#A2B1C6\",\"ticks\":\"\"}},\"coloraxis\":{\"colorbar\":{\"outlinewidth\":0,\"ticks\":\"\"}},\"colorscale\":{\"sequential\":[[0.0,\"#0d0887\"],[0.1111111111111111,\"#46039f\"],[0.2222222222222222,\"#7201a8\"],[0.3333333333333333,\"#9c179e\"],[0.4444444444444444,\"#bd3786\"],[0.5555555555555556,\"#d8576b\"],[0.6666666666666666,\"#ed7953\"],[0.7777777777777778,\"#fb9f3a\"],[0.8888888888888888,\"#fdca26\"],[1.0,\"#f0f921\"]],\"sequentialminus\":[[0.0,\"#0d0887\"],[0.1111111111111111,\"#46039f\"],[0.2222222222222222,\"#7201a8\"],[0.3333333333333333,\"#9c179e\"],[0.4444444444444444,\"#bd3786\"],[0.5555555555555556,\"#d8576b\"],[0.6666666666666666,\"#ed7953\"],[0.7777777777777778,\"#fb9f3a\"],[0.8888888888888888,\"#fdca26\"],[1.0,\"#f0f921\"]],\"diverging\":[[0,\"#8e0152\"],[0.1,\"#c51b7d\"],[0.2,\"#de77ae\"],[0.3,\"#f1b6da\"],[0.4,\"#fde0ef\"],[0.5,\"#f7f7f7\"],[0.6,\"#e6f5d0\"],[0.7,\"#b8e186\"],[0.8,\"#7fbc41\"],[0.9,\"#4d9221\"],[1,\"#276419\"]]},\"xaxis\":{\"gridcolor\":\"#EBF0F8\",\"linecolor\":\"#EBF0F8\",\"ticks\":\"\",\"title\":{\"standoff\":15},\"zerolinecolor\":\"#EBF0F8\",\"automargin\":true,\"zerolinewidth\":2},\"yaxis\":{\"gridcolor\":\"#EBF0F8\",\"linecolor\":\"#EBF0F8\",\"ticks\":\"\",\"title\":{\"standoff\":15},\"zerolinecolor\":\"#EBF0F8\",\"automargin\":true,\"zerolinewidth\":2},\"scene\":{\"xaxis\":{\"backgroundcolor\":\"white\",\"gridcolor\":\"#DFE8F3\",\"linecolor\":\"#EBF0F8\",\"showbackground\":true,\"ticks\":\"\",\"zerolinecolor\":\"#EBF0F8\",\"gridwidth\":2},\"yaxis\":{\"backgroundcolor\":\"white\",\"gridcolor\":\"#DFE8F3\",\"linecolor\":\"#EBF0F8\",\"showbackground\":true,\"ticks\":\"\",\"zerolinecolor\":\"#EBF0F8\",\"gridwidth\":2},\"zaxis\":{\"backgroundcolor\":\"white\",\"gridcolor\":\"#DFE8F3\",\"linecolor\":\"#EBF0F8\",\"showbackground\":true,\"ticks\":\"\",\"zerolinecolor\":\"#EBF0F8\",\"gridwidth\":2}},\"shapedefaults\":{\"line\":{\"color\":\"#2a3f5f\"}},\"annotationdefaults\":{\"arrowcolor\":\"#2a3f5f\",\"arrowhead\":0,\"arrowwidth\":1},\"geo\":{\"bgcolor\":\"white\",\"landcolor\":\"white\",\"subunitcolor\":\"#C8D4E3\",\"showland\":true,\"showlakes\":true,\"lakecolor\":\"white\"},\"title\":{\"x\":0.05},\"mapbox\":{\"style\":\"light\"}}},\"font\":{\"size\":16},\"legend\":{\"orientation\":\"h\",\"yanchor\":\"bottom\",\"y\":1,\"xanchor\":\"left\",\"x\":1},\"title\":{\"text\":\"Attrition by Educational Field\"}},                        {\"responsive\": true}                    ).then(function(){\n",
              "                            \n",
              "var gd = document.getElementById('8c904b59-d51b-4d06-bda6-ac70d69c3c62');\n",
              "var x = new MutationObserver(function (mutations, observer) {{\n",
              "        var display = window.getComputedStyle(gd).display;\n",
              "        if (!display || display === 'none') {{\n",
              "            console.log([gd, 'removed!']);\n",
              "            Plotly.purge(gd);\n",
              "            observer.disconnect();\n",
              "        }}\n",
              "}});\n",
              "\n",
              "// Listen for the removal of the full notebook cells\n",
              "var notebookContainer = gd.closest('#notebook-container');\n",
              "if (notebookContainer) {{\n",
              "    x.observe(notebookContainer, {childList: true});\n",
              "}}\n",
              "\n",
              "// Listen for the clearing of the current output cell\n",
              "var outputEl = gd.closest('.output');\n",
              "if (outputEl) {{\n",
              "    x.observe(outputEl, {childList: true});\n",
              "}}\n",
              "\n",
              "                        })                };                            </script>        </div>\n",
              "</body>\n",
              "</html>"
            ]
          },
          "metadata": {}
        }
      ],
      "source": [
        "# Create a donut chart\n",
        "fig = go.Figure(data=[go.Pie(\n",
        "                            labels=attrition_by_year_at_comp['YearsAtCompany'],\n",
        "                            values=attrition_by_year_at_comp['Count'],\n",
        "                            hole=0.6,\n",
        "                            marker=dict(colors=['#3CAEA3', '#F6D55C']),\n",
        "                            textposition='inside')]\n",
        "               )\n",
        "\n",
        "# Update the layout\n",
        "fig.update_layout(title='Attrition by Educational Field', font=dict(size=16), legend=dict(\n",
        "                    orientation=\"h\", yanchor=\"bottom\", y=1, xanchor=\"left\", x=1)\n",
        "                 )\n",
        "\n",
        "# Show the chart\n",
        "fig.show()"
      ]
    },
    {
      "cell_type": "markdown",
      "id": "98ba0e09",
      "metadata": {
        "id": "98ba0e09"
      },
      "source": [
        "We can see that most of the employees leave the organization after completing a year."
      ]
    },
    {
      "cell_type": "code",
      "execution_count": 40,
      "id": "78070245",
      "metadata": {
        "colab": {
          "base_uri": "https://localhost:8080/"
        },
        "id": "78070245",
        "outputId": "1bfdb9ec-6f80-481a-f1dc-30341595c4ce"
      },
      "outputs": [
        {
          "output_type": "stream",
          "name": "stdout",
          "text": [
            "    YearsAtCompany  Count\n",
            "0                0     16\n",
            "1                1     59\n",
            "2                2     27\n",
            "3                3     20\n",
            "4                4     19\n",
            "5                5     21\n",
            "6                6      9\n",
            "7                7     11\n",
            "8                8      9\n",
            "9                9      8\n",
            "10              10     18\n",
            "11              11      2\n",
            "12              13      2\n",
            "13              14      2\n",
            "14              15      1\n",
            "15              16      1\n",
            "16              17      1\n",
            "17              18      1\n",
            "18              19      1\n",
            "19              20      1\n",
            "20              21      1\n",
            "21              22      1\n",
            "22              23      1\n",
            "23              24      1\n",
            "24              31      1\n",
            "25              32      1\n",
            "26              33      1\n",
            "27              40      1\n"
          ]
        }
      ],
      "source": [
        "#the percentage of attrition by the number of years since the last promotion:\n",
        "attrition_by_year_at_comp = attrition_data.groupby(['YearsAtCompany']).size().reset_index(name='Count')\n",
        "\n",
        "print(attrition_by_year_at_comp)"
      ]
    },
    {
      "cell_type": "code",
      "execution_count": 41,
      "id": "ddcffab0",
      "metadata": {
        "colab": {
          "base_uri": "https://localhost:8080/",
          "height": 542
        },
        "id": "ddcffab0",
        "outputId": "7168b6f5-871d-43da-c2e2-610f1893a4bb"
      },
      "outputs": [
        {
          "output_type": "display_data",
          "data": {
            "text/html": [
              "<html>\n",
              "<head><meta charset=\"utf-8\" /></head>\n",
              "<body>\n",
              "    <div>            <script src=\"https://cdnjs.cloudflare.com/ajax/libs/mathjax/2.7.5/MathJax.js?config=TeX-AMS-MML_SVG\"></script><script type=\"text/javascript\">if (window.MathJax && window.MathJax.Hub && window.MathJax.Hub.Config) {window.MathJax.Hub.Config({SVG: {font: \"STIX-Web\"}});}</script>                <script type=\"text/javascript\">window.PlotlyConfig = {MathJaxConfig: 'local'};</script>\n",
              "        <script charset=\"utf-8\" src=\"https://cdn.plot.ly/plotly-2.24.1.min.js\"></script>                <div id=\"c5c01c58-d828-4d8c-87e4-2e8b3f179f14\" class=\"plotly-graph-div\" style=\"height:525px; width:100%;\"></div>            <script type=\"text/javascript\">                                    window.PLOTLYENV=window.PLOTLYENV || {};                                    if (document.getElementById(\"c5c01c58-d828-4d8c-87e4-2e8b3f179f14\")) {                    Plotly.newPlot(                        \"c5c01c58-d828-4d8c-87e4-2e8b3f179f14\",                        [{\"hole\":0.6,\"labels\":[0,1,2,3,4,5,6,7,8,9,10,11,13,14,15,16,17,18,19,20,21,22,23,24,31,32,33,40],\"marker\":{\"colors\":[\"#3CAEA3\",\"#F6D55C\"]},\"textposition\":\"inside\",\"values\":[16,59,27,20,19,21,9,11,9,8,18,2,2,2,1,1,1,1,1,1,1,1,1,1,1,1,1,1],\"type\":\"pie\"}],                        {\"template\":{\"data\":{\"histogram2dcontour\":[{\"type\":\"histogram2dcontour\",\"colorbar\":{\"outlinewidth\":0,\"ticks\":\"\"},\"colorscale\":[[0.0,\"#0d0887\"],[0.1111111111111111,\"#46039f\"],[0.2222222222222222,\"#7201a8\"],[0.3333333333333333,\"#9c179e\"],[0.4444444444444444,\"#bd3786\"],[0.5555555555555556,\"#d8576b\"],[0.6666666666666666,\"#ed7953\"],[0.7777777777777778,\"#fb9f3a\"],[0.8888888888888888,\"#fdca26\"],[1.0,\"#f0f921\"]]}],\"choropleth\":[{\"type\":\"choropleth\",\"colorbar\":{\"outlinewidth\":0,\"ticks\":\"\"}}],\"histogram2d\":[{\"type\":\"histogram2d\",\"colorbar\":{\"outlinewidth\":0,\"ticks\":\"\"},\"colorscale\":[[0.0,\"#0d0887\"],[0.1111111111111111,\"#46039f\"],[0.2222222222222222,\"#7201a8\"],[0.3333333333333333,\"#9c179e\"],[0.4444444444444444,\"#bd3786\"],[0.5555555555555556,\"#d8576b\"],[0.6666666666666666,\"#ed7953\"],[0.7777777777777778,\"#fb9f3a\"],[0.8888888888888888,\"#fdca26\"],[1.0,\"#f0f921\"]]}],\"heatmap\":[{\"type\":\"heatmap\",\"colorbar\":{\"outlinewidth\":0,\"ticks\":\"\"},\"colorscale\":[[0.0,\"#0d0887\"],[0.1111111111111111,\"#46039f\"],[0.2222222222222222,\"#7201a8\"],[0.3333333333333333,\"#9c179e\"],[0.4444444444444444,\"#bd3786\"],[0.5555555555555556,\"#d8576b\"],[0.6666666666666666,\"#ed7953\"],[0.7777777777777778,\"#fb9f3a\"],[0.8888888888888888,\"#fdca26\"],[1.0,\"#f0f921\"]]}],\"heatmapgl\":[{\"type\":\"heatmapgl\",\"colorbar\":{\"outlinewidth\":0,\"ticks\":\"\"},\"colorscale\":[[0.0,\"#0d0887\"],[0.1111111111111111,\"#46039f\"],[0.2222222222222222,\"#7201a8\"],[0.3333333333333333,\"#9c179e\"],[0.4444444444444444,\"#bd3786\"],[0.5555555555555556,\"#d8576b\"],[0.6666666666666666,\"#ed7953\"],[0.7777777777777778,\"#fb9f3a\"],[0.8888888888888888,\"#fdca26\"],[1.0,\"#f0f921\"]]}],\"contourcarpet\":[{\"type\":\"contourcarpet\",\"colorbar\":{\"outlinewidth\":0,\"ticks\":\"\"}}],\"contour\":[{\"type\":\"contour\",\"colorbar\":{\"outlinewidth\":0,\"ticks\":\"\"},\"colorscale\":[[0.0,\"#0d0887\"],[0.1111111111111111,\"#46039f\"],[0.2222222222222222,\"#7201a8\"],[0.3333333333333333,\"#9c179e\"],[0.4444444444444444,\"#bd3786\"],[0.5555555555555556,\"#d8576b\"],[0.6666666666666666,\"#ed7953\"],[0.7777777777777778,\"#fb9f3a\"],[0.8888888888888888,\"#fdca26\"],[1.0,\"#f0f921\"]]}],\"surface\":[{\"type\":\"surface\",\"colorbar\":{\"outlinewidth\":0,\"ticks\":\"\"},\"colorscale\":[[0.0,\"#0d0887\"],[0.1111111111111111,\"#46039f\"],[0.2222222222222222,\"#7201a8\"],[0.3333333333333333,\"#9c179e\"],[0.4444444444444444,\"#bd3786\"],[0.5555555555555556,\"#d8576b\"],[0.6666666666666666,\"#ed7953\"],[0.7777777777777778,\"#fb9f3a\"],[0.8888888888888888,\"#fdca26\"],[1.0,\"#f0f921\"]]}],\"mesh3d\":[{\"type\":\"mesh3d\",\"colorbar\":{\"outlinewidth\":0,\"ticks\":\"\"}}],\"scatter\":[{\"fillpattern\":{\"fillmode\":\"overlay\",\"size\":10,\"solidity\":0.2},\"type\":\"scatter\"}],\"parcoords\":[{\"type\":\"parcoords\",\"line\":{\"colorbar\":{\"outlinewidth\":0,\"ticks\":\"\"}}}],\"scatterpolargl\":[{\"type\":\"scatterpolargl\",\"marker\":{\"colorbar\":{\"outlinewidth\":0,\"ticks\":\"\"}}}],\"bar\":[{\"error_x\":{\"color\":\"#2a3f5f\"},\"error_y\":{\"color\":\"#2a3f5f\"},\"marker\":{\"line\":{\"color\":\"white\",\"width\":0.5},\"pattern\":{\"fillmode\":\"overlay\",\"size\":10,\"solidity\":0.2}},\"type\":\"bar\"}],\"scattergeo\":[{\"type\":\"scattergeo\",\"marker\":{\"colorbar\":{\"outlinewidth\":0,\"ticks\":\"\"}}}],\"scatterpolar\":[{\"type\":\"scatterpolar\",\"marker\":{\"colorbar\":{\"outlinewidth\":0,\"ticks\":\"\"}}}],\"histogram\":[{\"marker\":{\"pattern\":{\"fillmode\":\"overlay\",\"size\":10,\"solidity\":0.2}},\"type\":\"histogram\"}],\"scattergl\":[{\"type\":\"scattergl\",\"marker\":{\"colorbar\":{\"outlinewidth\":0,\"ticks\":\"\"}}}],\"scatter3d\":[{\"type\":\"scatter3d\",\"line\":{\"colorbar\":{\"outlinewidth\":0,\"ticks\":\"\"}},\"marker\":{\"colorbar\":{\"outlinewidth\":0,\"ticks\":\"\"}}}],\"scattermapbox\":[{\"type\":\"scattermapbox\",\"marker\":{\"colorbar\":{\"outlinewidth\":0,\"ticks\":\"\"}}}],\"scatterternary\":[{\"type\":\"scatterternary\",\"marker\":{\"colorbar\":{\"outlinewidth\":0,\"ticks\":\"\"}}}],\"scattercarpet\":[{\"type\":\"scattercarpet\",\"marker\":{\"colorbar\":{\"outlinewidth\":0,\"ticks\":\"\"}}}],\"carpet\":[{\"aaxis\":{\"endlinecolor\":\"#2a3f5f\",\"gridcolor\":\"#C8D4E3\",\"linecolor\":\"#C8D4E3\",\"minorgridcolor\":\"#C8D4E3\",\"startlinecolor\":\"#2a3f5f\"},\"baxis\":{\"endlinecolor\":\"#2a3f5f\",\"gridcolor\":\"#C8D4E3\",\"linecolor\":\"#C8D4E3\",\"minorgridcolor\":\"#C8D4E3\",\"startlinecolor\":\"#2a3f5f\"},\"type\":\"carpet\"}],\"table\":[{\"cells\":{\"fill\":{\"color\":\"#EBF0F8\"},\"line\":{\"color\":\"white\"}},\"header\":{\"fill\":{\"color\":\"#C8D4E3\"},\"line\":{\"color\":\"white\"}},\"type\":\"table\"}],\"barpolar\":[{\"marker\":{\"line\":{\"color\":\"white\",\"width\":0.5},\"pattern\":{\"fillmode\":\"overlay\",\"size\":10,\"solidity\":0.2}},\"type\":\"barpolar\"}],\"pie\":[{\"automargin\":true,\"type\":\"pie\"}]},\"layout\":{\"autotypenumbers\":\"strict\",\"colorway\":[\"#636efa\",\"#EF553B\",\"#00cc96\",\"#ab63fa\",\"#FFA15A\",\"#19d3f3\",\"#FF6692\",\"#B6E880\",\"#FF97FF\",\"#FECB52\"],\"font\":{\"color\":\"#2a3f5f\"},\"hovermode\":\"closest\",\"hoverlabel\":{\"align\":\"left\"},\"paper_bgcolor\":\"white\",\"plot_bgcolor\":\"white\",\"polar\":{\"bgcolor\":\"white\",\"angularaxis\":{\"gridcolor\":\"#EBF0F8\",\"linecolor\":\"#EBF0F8\",\"ticks\":\"\"},\"radialaxis\":{\"gridcolor\":\"#EBF0F8\",\"linecolor\":\"#EBF0F8\",\"ticks\":\"\"}},\"ternary\":{\"bgcolor\":\"white\",\"aaxis\":{\"gridcolor\":\"#DFE8F3\",\"linecolor\":\"#A2B1C6\",\"ticks\":\"\"},\"baxis\":{\"gridcolor\":\"#DFE8F3\",\"linecolor\":\"#A2B1C6\",\"ticks\":\"\"},\"caxis\":{\"gridcolor\":\"#DFE8F3\",\"linecolor\":\"#A2B1C6\",\"ticks\":\"\"}},\"coloraxis\":{\"colorbar\":{\"outlinewidth\":0,\"ticks\":\"\"}},\"colorscale\":{\"sequential\":[[0.0,\"#0d0887\"],[0.1111111111111111,\"#46039f\"],[0.2222222222222222,\"#7201a8\"],[0.3333333333333333,\"#9c179e\"],[0.4444444444444444,\"#bd3786\"],[0.5555555555555556,\"#d8576b\"],[0.6666666666666666,\"#ed7953\"],[0.7777777777777778,\"#fb9f3a\"],[0.8888888888888888,\"#fdca26\"],[1.0,\"#f0f921\"]],\"sequentialminus\":[[0.0,\"#0d0887\"],[0.1111111111111111,\"#46039f\"],[0.2222222222222222,\"#7201a8\"],[0.3333333333333333,\"#9c179e\"],[0.4444444444444444,\"#bd3786\"],[0.5555555555555556,\"#d8576b\"],[0.6666666666666666,\"#ed7953\"],[0.7777777777777778,\"#fb9f3a\"],[0.8888888888888888,\"#fdca26\"],[1.0,\"#f0f921\"]],\"diverging\":[[0,\"#8e0152\"],[0.1,\"#c51b7d\"],[0.2,\"#de77ae\"],[0.3,\"#f1b6da\"],[0.4,\"#fde0ef\"],[0.5,\"#f7f7f7\"],[0.6,\"#e6f5d0\"],[0.7,\"#b8e186\"],[0.8,\"#7fbc41\"],[0.9,\"#4d9221\"],[1,\"#276419\"]]},\"xaxis\":{\"gridcolor\":\"#EBF0F8\",\"linecolor\":\"#EBF0F8\",\"ticks\":\"\",\"title\":{\"standoff\":15},\"zerolinecolor\":\"#EBF0F8\",\"automargin\":true,\"zerolinewidth\":2},\"yaxis\":{\"gridcolor\":\"#EBF0F8\",\"linecolor\":\"#EBF0F8\",\"ticks\":\"\",\"title\":{\"standoff\":15},\"zerolinecolor\":\"#EBF0F8\",\"automargin\":true,\"zerolinewidth\":2},\"scene\":{\"xaxis\":{\"backgroundcolor\":\"white\",\"gridcolor\":\"#DFE8F3\",\"linecolor\":\"#EBF0F8\",\"showbackground\":true,\"ticks\":\"\",\"zerolinecolor\":\"#EBF0F8\",\"gridwidth\":2},\"yaxis\":{\"backgroundcolor\":\"white\",\"gridcolor\":\"#DFE8F3\",\"linecolor\":\"#EBF0F8\",\"showbackground\":true,\"ticks\":\"\",\"zerolinecolor\":\"#EBF0F8\",\"gridwidth\":2},\"zaxis\":{\"backgroundcolor\":\"white\",\"gridcolor\":\"#DFE8F3\",\"linecolor\":\"#EBF0F8\",\"showbackground\":true,\"ticks\":\"\",\"zerolinecolor\":\"#EBF0F8\",\"gridwidth\":2}},\"shapedefaults\":{\"line\":{\"color\":\"#2a3f5f\"}},\"annotationdefaults\":{\"arrowcolor\":\"#2a3f5f\",\"arrowhead\":0,\"arrowwidth\":1},\"geo\":{\"bgcolor\":\"white\",\"landcolor\":\"white\",\"subunitcolor\":\"#C8D4E3\",\"showland\":true,\"showlakes\":true,\"lakecolor\":\"white\"},\"title\":{\"x\":0.05},\"mapbox\":{\"style\":\"light\"}}},\"font\":{\"size\":16},\"legend\":{\"orientation\":\"h\",\"yanchor\":\"bottom\",\"y\":1,\"xanchor\":\"left\",\"x\":1},\"title\":{\"text\":\"Attrition by Educational Field\"}},                        {\"responsive\": true}                    ).then(function(){\n",
              "                            \n",
              "var gd = document.getElementById('c5c01c58-d828-4d8c-87e4-2e8b3f179f14');\n",
              "var x = new MutationObserver(function (mutations, observer) {{\n",
              "        var display = window.getComputedStyle(gd).display;\n",
              "        if (!display || display === 'none') {{\n",
              "            console.log([gd, 'removed!']);\n",
              "            Plotly.purge(gd);\n",
              "            observer.disconnect();\n",
              "        }}\n",
              "}});\n",
              "\n",
              "// Listen for the removal of the full notebook cells\n",
              "var notebookContainer = gd.closest('#notebook-container');\n",
              "if (notebookContainer) {{\n",
              "    x.observe(notebookContainer, {childList: true});\n",
              "}}\n",
              "\n",
              "// Listen for the clearing of the current output cell\n",
              "var outputEl = gd.closest('.output');\n",
              "if (outputEl) {{\n",
              "    x.observe(outputEl, {childList: true});\n",
              "}}\n",
              "\n",
              "                        })                };                            </script>        </div>\n",
              "</body>\n",
              "</html>"
            ]
          },
          "metadata": {}
        }
      ],
      "source": [
        "# Create a donut chart\n",
        "fig = go.Figure(data=[go.Pie(\n",
        "                            labels=attrition_by_year_at_comp['YearsAtCompany'],\n",
        "                            values=attrition_by_year_at_comp['Count'],\n",
        "                            hole=0.6,\n",
        "                            marker=dict(colors=['#3CAEA3', '#F6D55C']),\n",
        "                            textposition='inside')]\n",
        "               )\n",
        "\n",
        "# Update the layout\n",
        "fig.update_layout(title='Attrition by Educational Field', font=dict(size=16), legend=dict(\n",
        "                    orientation=\"h\", yanchor=\"bottom\", y=1, xanchor=\"left\", x=1)\n",
        "                 )\n",
        "\n",
        "# Show the chart\n",
        "fig.show()"
      ]
    },
    {
      "cell_type": "markdown",
      "id": "a7f6edea",
      "metadata": {
        "id": "a7f6edea"
      },
      "source": [
        "We can see that the employees who don’t get promotions leave the organization more compared to the employees who got promotions."
      ]
    },
    {
      "cell_type": "code",
      "execution_count": 42,
      "id": "6a3eff69",
      "metadata": {
        "id": "6a3eff69"
      },
      "outputs": [],
      "source": [
        "#the percentage of attrition by gender:"
      ]
    },
    {
      "cell_type": "code",
      "execution_count": 43,
      "id": "77516783",
      "metadata": {
        "colab": {
          "base_uri": "https://localhost:8080/"
        },
        "id": "77516783",
        "outputId": "0e09bc50-d2af-4d49-94b1-cd8b478ae3f1"
      },
      "outputs": [
        {
          "output_type": "stream",
          "name": "stdout",
          "text": [
            "   Gender  Count\n",
            "0  Female     87\n",
            "1    Male    150\n"
          ]
        }
      ],
      "source": [
        "attrition_by_gender = attrition_data.groupby(['Gender']).size().reset_index(name='Count')\n",
        "\n",
        "print(attrition_by_gender)"
      ]
    },
    {
      "cell_type": "code",
      "execution_count": 44,
      "id": "3d0476a4",
      "metadata": {
        "colab": {
          "base_uri": "https://localhost:8080/",
          "height": 542
        },
        "id": "3d0476a4",
        "outputId": "700892e5-ba3f-4197-e263-258034355199"
      },
      "outputs": [
        {
          "output_type": "display_data",
          "data": {
            "text/html": [
              "<html>\n",
              "<head><meta charset=\"utf-8\" /></head>\n",
              "<body>\n",
              "    <div>            <script src=\"https://cdnjs.cloudflare.com/ajax/libs/mathjax/2.7.5/MathJax.js?config=TeX-AMS-MML_SVG\"></script><script type=\"text/javascript\">if (window.MathJax && window.MathJax.Hub && window.MathJax.Hub.Config) {window.MathJax.Hub.Config({SVG: {font: \"STIX-Web\"}});}</script>                <script type=\"text/javascript\">window.PlotlyConfig = {MathJaxConfig: 'local'};</script>\n",
              "        <script charset=\"utf-8\" src=\"https://cdn.plot.ly/plotly-2.24.1.min.js\"></script>                <div id=\"5545c432-ca89-4ef4-a0fc-d9a9e1cad18a\" class=\"plotly-graph-div\" style=\"height:525px; width:100%;\"></div>            <script type=\"text/javascript\">                                    window.PLOTLYENV=window.PLOTLYENV || {};                                    if (document.getElementById(\"5545c432-ca89-4ef4-a0fc-d9a9e1cad18a\")) {                    Plotly.newPlot(                        \"5545c432-ca89-4ef4-a0fc-d9a9e1cad18a\",                        [{\"hole\":0.4,\"labels\":[\"Female\",\"Male\"],\"marker\":{\"colors\":[\"#3CAEA3\",\"#F6D55C\"]},\"textposition\":\"inside\",\"values\":[87,150],\"type\":\"pie\"}],                        {\"template\":{\"data\":{\"histogram2dcontour\":[{\"type\":\"histogram2dcontour\",\"colorbar\":{\"outlinewidth\":0,\"ticks\":\"\"},\"colorscale\":[[0.0,\"#0d0887\"],[0.1111111111111111,\"#46039f\"],[0.2222222222222222,\"#7201a8\"],[0.3333333333333333,\"#9c179e\"],[0.4444444444444444,\"#bd3786\"],[0.5555555555555556,\"#d8576b\"],[0.6666666666666666,\"#ed7953\"],[0.7777777777777778,\"#fb9f3a\"],[0.8888888888888888,\"#fdca26\"],[1.0,\"#f0f921\"]]}],\"choropleth\":[{\"type\":\"choropleth\",\"colorbar\":{\"outlinewidth\":0,\"ticks\":\"\"}}],\"histogram2d\":[{\"type\":\"histogram2d\",\"colorbar\":{\"outlinewidth\":0,\"ticks\":\"\"},\"colorscale\":[[0.0,\"#0d0887\"],[0.1111111111111111,\"#46039f\"],[0.2222222222222222,\"#7201a8\"],[0.3333333333333333,\"#9c179e\"],[0.4444444444444444,\"#bd3786\"],[0.5555555555555556,\"#d8576b\"],[0.6666666666666666,\"#ed7953\"],[0.7777777777777778,\"#fb9f3a\"],[0.8888888888888888,\"#fdca26\"],[1.0,\"#f0f921\"]]}],\"heatmap\":[{\"type\":\"heatmap\",\"colorbar\":{\"outlinewidth\":0,\"ticks\":\"\"},\"colorscale\":[[0.0,\"#0d0887\"],[0.1111111111111111,\"#46039f\"],[0.2222222222222222,\"#7201a8\"],[0.3333333333333333,\"#9c179e\"],[0.4444444444444444,\"#bd3786\"],[0.5555555555555556,\"#d8576b\"],[0.6666666666666666,\"#ed7953\"],[0.7777777777777778,\"#fb9f3a\"],[0.8888888888888888,\"#fdca26\"],[1.0,\"#f0f921\"]]}],\"heatmapgl\":[{\"type\":\"heatmapgl\",\"colorbar\":{\"outlinewidth\":0,\"ticks\":\"\"},\"colorscale\":[[0.0,\"#0d0887\"],[0.1111111111111111,\"#46039f\"],[0.2222222222222222,\"#7201a8\"],[0.3333333333333333,\"#9c179e\"],[0.4444444444444444,\"#bd3786\"],[0.5555555555555556,\"#d8576b\"],[0.6666666666666666,\"#ed7953\"],[0.7777777777777778,\"#fb9f3a\"],[0.8888888888888888,\"#fdca26\"],[1.0,\"#f0f921\"]]}],\"contourcarpet\":[{\"type\":\"contourcarpet\",\"colorbar\":{\"outlinewidth\":0,\"ticks\":\"\"}}],\"contour\":[{\"type\":\"contour\",\"colorbar\":{\"outlinewidth\":0,\"ticks\":\"\"},\"colorscale\":[[0.0,\"#0d0887\"],[0.1111111111111111,\"#46039f\"],[0.2222222222222222,\"#7201a8\"],[0.3333333333333333,\"#9c179e\"],[0.4444444444444444,\"#bd3786\"],[0.5555555555555556,\"#d8576b\"],[0.6666666666666666,\"#ed7953\"],[0.7777777777777778,\"#fb9f3a\"],[0.8888888888888888,\"#fdca26\"],[1.0,\"#f0f921\"]]}],\"surface\":[{\"type\":\"surface\",\"colorbar\":{\"outlinewidth\":0,\"ticks\":\"\"},\"colorscale\":[[0.0,\"#0d0887\"],[0.1111111111111111,\"#46039f\"],[0.2222222222222222,\"#7201a8\"],[0.3333333333333333,\"#9c179e\"],[0.4444444444444444,\"#bd3786\"],[0.5555555555555556,\"#d8576b\"],[0.6666666666666666,\"#ed7953\"],[0.7777777777777778,\"#fb9f3a\"],[0.8888888888888888,\"#fdca26\"],[1.0,\"#f0f921\"]]}],\"mesh3d\":[{\"type\":\"mesh3d\",\"colorbar\":{\"outlinewidth\":0,\"ticks\":\"\"}}],\"scatter\":[{\"fillpattern\":{\"fillmode\":\"overlay\",\"size\":10,\"solidity\":0.2},\"type\":\"scatter\"}],\"parcoords\":[{\"type\":\"parcoords\",\"line\":{\"colorbar\":{\"outlinewidth\":0,\"ticks\":\"\"}}}],\"scatterpolargl\":[{\"type\":\"scatterpolargl\",\"marker\":{\"colorbar\":{\"outlinewidth\":0,\"ticks\":\"\"}}}],\"bar\":[{\"error_x\":{\"color\":\"#2a3f5f\"},\"error_y\":{\"color\":\"#2a3f5f\"},\"marker\":{\"line\":{\"color\":\"white\",\"width\":0.5},\"pattern\":{\"fillmode\":\"overlay\",\"size\":10,\"solidity\":0.2}},\"type\":\"bar\"}],\"scattergeo\":[{\"type\":\"scattergeo\",\"marker\":{\"colorbar\":{\"outlinewidth\":0,\"ticks\":\"\"}}}],\"scatterpolar\":[{\"type\":\"scatterpolar\",\"marker\":{\"colorbar\":{\"outlinewidth\":0,\"ticks\":\"\"}}}],\"histogram\":[{\"marker\":{\"pattern\":{\"fillmode\":\"overlay\",\"size\":10,\"solidity\":0.2}},\"type\":\"histogram\"}],\"scattergl\":[{\"type\":\"scattergl\",\"marker\":{\"colorbar\":{\"outlinewidth\":0,\"ticks\":\"\"}}}],\"scatter3d\":[{\"type\":\"scatter3d\",\"line\":{\"colorbar\":{\"outlinewidth\":0,\"ticks\":\"\"}},\"marker\":{\"colorbar\":{\"outlinewidth\":0,\"ticks\":\"\"}}}],\"scattermapbox\":[{\"type\":\"scattermapbox\",\"marker\":{\"colorbar\":{\"outlinewidth\":0,\"ticks\":\"\"}}}],\"scatterternary\":[{\"type\":\"scatterternary\",\"marker\":{\"colorbar\":{\"outlinewidth\":0,\"ticks\":\"\"}}}],\"scattercarpet\":[{\"type\":\"scattercarpet\",\"marker\":{\"colorbar\":{\"outlinewidth\":0,\"ticks\":\"\"}}}],\"carpet\":[{\"aaxis\":{\"endlinecolor\":\"#2a3f5f\",\"gridcolor\":\"#C8D4E3\",\"linecolor\":\"#C8D4E3\",\"minorgridcolor\":\"#C8D4E3\",\"startlinecolor\":\"#2a3f5f\"},\"baxis\":{\"endlinecolor\":\"#2a3f5f\",\"gridcolor\":\"#C8D4E3\",\"linecolor\":\"#C8D4E3\",\"minorgridcolor\":\"#C8D4E3\",\"startlinecolor\":\"#2a3f5f\"},\"type\":\"carpet\"}],\"table\":[{\"cells\":{\"fill\":{\"color\":\"#EBF0F8\"},\"line\":{\"color\":\"white\"}},\"header\":{\"fill\":{\"color\":\"#C8D4E3\"},\"line\":{\"color\":\"white\"}},\"type\":\"table\"}],\"barpolar\":[{\"marker\":{\"line\":{\"color\":\"white\",\"width\":0.5},\"pattern\":{\"fillmode\":\"overlay\",\"size\":10,\"solidity\":0.2}},\"type\":\"barpolar\"}],\"pie\":[{\"automargin\":true,\"type\":\"pie\"}]},\"layout\":{\"autotypenumbers\":\"strict\",\"colorway\":[\"#636efa\",\"#EF553B\",\"#00cc96\",\"#ab63fa\",\"#FFA15A\",\"#19d3f3\",\"#FF6692\",\"#B6E880\",\"#FF97FF\",\"#FECB52\"],\"font\":{\"color\":\"#2a3f5f\"},\"hovermode\":\"closest\",\"hoverlabel\":{\"align\":\"left\"},\"paper_bgcolor\":\"white\",\"plot_bgcolor\":\"white\",\"polar\":{\"bgcolor\":\"white\",\"angularaxis\":{\"gridcolor\":\"#EBF0F8\",\"linecolor\":\"#EBF0F8\",\"ticks\":\"\"},\"radialaxis\":{\"gridcolor\":\"#EBF0F8\",\"linecolor\":\"#EBF0F8\",\"ticks\":\"\"}},\"ternary\":{\"bgcolor\":\"white\",\"aaxis\":{\"gridcolor\":\"#DFE8F3\",\"linecolor\":\"#A2B1C6\",\"ticks\":\"\"},\"baxis\":{\"gridcolor\":\"#DFE8F3\",\"linecolor\":\"#A2B1C6\",\"ticks\":\"\"},\"caxis\":{\"gridcolor\":\"#DFE8F3\",\"linecolor\":\"#A2B1C6\",\"ticks\":\"\"}},\"coloraxis\":{\"colorbar\":{\"outlinewidth\":0,\"ticks\":\"\"}},\"colorscale\":{\"sequential\":[[0.0,\"#0d0887\"],[0.1111111111111111,\"#46039f\"],[0.2222222222222222,\"#7201a8\"],[0.3333333333333333,\"#9c179e\"],[0.4444444444444444,\"#bd3786\"],[0.5555555555555556,\"#d8576b\"],[0.6666666666666666,\"#ed7953\"],[0.7777777777777778,\"#fb9f3a\"],[0.8888888888888888,\"#fdca26\"],[1.0,\"#f0f921\"]],\"sequentialminus\":[[0.0,\"#0d0887\"],[0.1111111111111111,\"#46039f\"],[0.2222222222222222,\"#7201a8\"],[0.3333333333333333,\"#9c179e\"],[0.4444444444444444,\"#bd3786\"],[0.5555555555555556,\"#d8576b\"],[0.6666666666666666,\"#ed7953\"],[0.7777777777777778,\"#fb9f3a\"],[0.8888888888888888,\"#fdca26\"],[1.0,\"#f0f921\"]],\"diverging\":[[0,\"#8e0152\"],[0.1,\"#c51b7d\"],[0.2,\"#de77ae\"],[0.3,\"#f1b6da\"],[0.4,\"#fde0ef\"],[0.5,\"#f7f7f7\"],[0.6,\"#e6f5d0\"],[0.7,\"#b8e186\"],[0.8,\"#7fbc41\"],[0.9,\"#4d9221\"],[1,\"#276419\"]]},\"xaxis\":{\"gridcolor\":\"#EBF0F8\",\"linecolor\":\"#EBF0F8\",\"ticks\":\"\",\"title\":{\"standoff\":15},\"zerolinecolor\":\"#EBF0F8\",\"automargin\":true,\"zerolinewidth\":2},\"yaxis\":{\"gridcolor\":\"#EBF0F8\",\"linecolor\":\"#EBF0F8\",\"ticks\":\"\",\"title\":{\"standoff\":15},\"zerolinecolor\":\"#EBF0F8\",\"automargin\":true,\"zerolinewidth\":2},\"scene\":{\"xaxis\":{\"backgroundcolor\":\"white\",\"gridcolor\":\"#DFE8F3\",\"linecolor\":\"#EBF0F8\",\"showbackground\":true,\"ticks\":\"\",\"zerolinecolor\":\"#EBF0F8\",\"gridwidth\":2},\"yaxis\":{\"backgroundcolor\":\"white\",\"gridcolor\":\"#DFE8F3\",\"linecolor\":\"#EBF0F8\",\"showbackground\":true,\"ticks\":\"\",\"zerolinecolor\":\"#EBF0F8\",\"gridwidth\":2},\"zaxis\":{\"backgroundcolor\":\"white\",\"gridcolor\":\"#DFE8F3\",\"linecolor\":\"#EBF0F8\",\"showbackground\":true,\"ticks\":\"\",\"zerolinecolor\":\"#EBF0F8\",\"gridwidth\":2}},\"shapedefaults\":{\"line\":{\"color\":\"#2a3f5f\"}},\"annotationdefaults\":{\"arrowcolor\":\"#2a3f5f\",\"arrowhead\":0,\"arrowwidth\":1},\"geo\":{\"bgcolor\":\"white\",\"landcolor\":\"white\",\"subunitcolor\":\"#C8D4E3\",\"showland\":true,\"showlakes\":true,\"lakecolor\":\"white\"},\"title\":{\"x\":0.05},\"mapbox\":{\"style\":\"light\"}}},\"font\":{\"size\":16},\"legend\":{\"orientation\":\"h\",\"yanchor\":\"bottom\",\"y\":1.02,\"xanchor\":\"right\",\"x\":1},\"title\":{\"text\":\"Attrition by Gender\"}},                        {\"responsive\": true}                    ).then(function(){\n",
              "                            \n",
              "var gd = document.getElementById('5545c432-ca89-4ef4-a0fc-d9a9e1cad18a');\n",
              "var x = new MutationObserver(function (mutations, observer) {{\n",
              "        var display = window.getComputedStyle(gd).display;\n",
              "        if (!display || display === 'none') {{\n",
              "            console.log([gd, 'removed!']);\n",
              "            Plotly.purge(gd);\n",
              "            observer.disconnect();\n",
              "        }}\n",
              "}});\n",
              "\n",
              "// Listen for the removal of the full notebook cells\n",
              "var notebookContainer = gd.closest('#notebook-container');\n",
              "if (notebookContainer) {{\n",
              "    x.observe(notebookContainer, {childList: true});\n",
              "}}\n",
              "\n",
              "// Listen for the clearing of the current output cell\n",
              "var outputEl = gd.closest('.output');\n",
              "if (outputEl) {{\n",
              "    x.observe(outputEl, {childList: true});\n",
              "}}\n",
              "\n",
              "                        })                };                            </script>        </div>\n",
              "</body>\n",
              "</html>"
            ]
          },
          "metadata": {}
        }
      ],
      "source": [
        "# Create a donut chart\n",
        "fig = go.Figure(data=[go.Pie(\n",
        "    labels=attrition_by_gender['Gender'],\n",
        "    values=attrition_by_gender['Count'],\n",
        "    hole=0.4,\n",
        "    marker=dict(colors=['#3CAEA3', '#F6D55C']),\n",
        "    textposition='inside'\n",
        ")])\n",
        "\n",
        "# Update the layout\n",
        "fig.update_layout(title='Attrition by Gender', font=dict(size=16), legend=dict(\n",
        "    orientation=\"h\", yanchor=\"bottom\", y=1.02, xanchor=\"right\", x=1\n",
        "))\n",
        "\n",
        "# Show the chart\n",
        "fig.show()"
      ]
    },
    {
      "cell_type": "markdown",
      "id": "51cdb37d",
      "metadata": {
        "id": "51cdb37d"
      },
      "source": [
        "Men have a high attrition rate compared to women."
      ]
    },
    {
      "cell_type": "code",
      "execution_count": 45,
      "id": "7ddfe85f",
      "metadata": {
        "colab": {
          "base_uri": "https://localhost:8080/",
          "height": 542
        },
        "id": "7ddfe85f",
        "outputId": "ebacfd91-285e-4cd2-dd06-c3c72727179b"
      },
      "outputs": [
        {
          "output_type": "display_data",
          "data": {
            "text/html": [
              "<html>\n",
              "<head><meta charset=\"utf-8\" /></head>\n",
              "<body>\n",
              "    <div>            <script src=\"https://cdnjs.cloudflare.com/ajax/libs/mathjax/2.7.5/MathJax.js?config=TeX-AMS-MML_SVG\"></script><script type=\"text/javascript\">if (window.MathJax && window.MathJax.Hub && window.MathJax.Hub.Config) {window.MathJax.Hub.Config({SVG: {font: \"STIX-Web\"}});}</script>                <script type=\"text/javascript\">window.PlotlyConfig = {MathJaxConfig: 'local'};</script>\n",
              "        <script charset=\"utf-8\" src=\"https://cdn.plot.ly/plotly-2.24.1.min.js\"></script>                <div id=\"b61705ed-2e04-4639-8be3-24da43b96063\" class=\"plotly-graph-div\" style=\"height:525px; width:100%;\"></div>            <script type=\"text/javascript\">                                    window.PLOTLYENV=window.PLOTLYENV || {};                                    if (document.getElementById(\"b61705ed-2e04-4639-8be3-24da43b96063\")) {                    Plotly.newPlot(                        \"b61705ed-2e04-4639-8be3-24da43b96063\",                        [{\"hovertemplate\":\"Attrition=Yes\\u003cbr\\u003eAge=%{x}\\u003cbr\\u003eMonthlyIncome=%{y}\\u003cextra\\u003e\\u003c\\u002fextra\\u003e\",\"legendgroup\":\"Yes\",\"marker\":{\"color\":\"#636efa\",\"symbol\":\"circle\"},\"mode\":\"markers\",\"name\":\"Yes\",\"showlegend\":true,\"x\":[41,37,28,36,34,32,39,24,50,26,41,48,28,36,46,37,20,25,34,56,31,58,19,31,51,32,19,19,41,35,38,29,32,30,30,29,29,33,33,32,37,31,28,47,44,26,26,18,52,28,39,29,21,33,41,40,21,34,26,30,25,24,34,29,19,33,33,31,34,22,26,18,26,32,24,30,31,27,45,20,33,24,50,28,42,33,47,55,26,23,29,33,58,28,49,55,26,35,29,32,58,20,21,22,41,39,25,19,20,36,37,58,40,31,29,30,35,20,30,37,26,52,36,36,26,20,21,51,28,44,35,33,25,26,33,28,50,39,18,33,31,29,42,28,43,44,22,41,24,19,25,45,21,44,29,32,39,40,52,31,44,58,55,31,35,31,27,49,29,31,31,25,46,39,31,31,34,28,29,34,24,28,29,40,31,30,35,53,38,28,18,35,35,40,35,23,48,32,23,24,47,36,32,30,29,33,31,43,21,22,44,35,34,37,26,46,31,29,32,29,46,30,22,34,56,29,28,32,27,28,31,53,23,29,56,50,50],\"xaxis\":\"x\",\"y\":[5993,2090,2028,3407,2960,3919,2086,2293,2683,2293,19545,5381,3441,3388,9619,2073,2926,5744,6074,4963,6172,10312,1675,4559,10650,4200,2325,1102,3140,5916,6673,7639,10400,2657,6696,2058,2389,2436,2707,3730,10048,3479,3485,11849,3161,2373,5828,1420,4941,3464,5238,2119,2174,2851,9355,6380,2716,5304,3102,2285,4031,3202,2351,2546,2564,13610,3408,9824,9950,3894,2741,1878,2340,4707,2886,2033,4233,3041,4286,1009,3348,4577,6796,2216,2759,2686,6397,19859,5326,1601,2319,5324,19246,4382,7654,5160,2366,2022,2800,2795,2380,2044,2693,4171,2778,2404,2413,2121,2973,10325,10609,2479,13194,2321,2404,2132,3743,2600,2422,4777,4969,19845,2743,4834,2042,2323,1416,2461,8722,10482,9582,4508,3691,2377,2313,2596,4728,12169,1904,8224,2610,7336,13758,2515,5346,2936,2853,2107,2210,1859,1118,18824,2625,7978,3339,4883,3904,9094,8446,2302,2362,10008,13695,2785,4614,6179,2394,4284,7553,1359,1261,4400,10096,3646,7446,3722,2742,2909,5765,4599,3172,2561,2362,2018,4084,9714,2074,10169,4855,2408,1569,10306,5440,2166,4581,3989,2655,1393,2275,1555,12936,6134,6735,2180,2760,8564,8161,2437,2679,2398,2342,5813,5346,4213,2148,8926,2956,2335,9907,2439,7314,1081,2472,2307,2587,1091,9854,2432,2863,2367,5617,10448,1790,4787,2339,6728,10854],\"yaxis\":\"y\",\"type\":\"scattergl\"},{\"hovertemplate\":\"\\u003cb\\u003eOLS trendline\\u003c\\u002fb\\u003e\\u003cbr\\u003eMonthlyIncome = 188.072 * Age + -1533.56\\u003cbr\\u003eR\\u003csup\\u003e2\\u003c\\u002fsup\\u003e=0.250603\\u003cbr\\u003e\\u003cbr\\u003eAttrition=Yes\\u003cbr\\u003eAge=%{x}\\u003cbr\\u003eMonthlyIncome=%{y} \\u003cb\\u003e(trend)\\u003c\\u002fb\\u003e\\u003cextra\\u003e\\u003c\\u002fextra\\u003e\",\"legendgroup\":\"Yes\",\"marker\":{\"color\":\"#636efa\",\"symbol\":\"circle\"},\"mode\":\"lines\",\"name\":\"Yes\",\"showlegend\":false,\"x\":[18,18,18,18,19,19,19,19,19,19,20,20,20,20,20,20,21,21,21,21,21,21,22,22,22,22,22,23,23,23,23,24,24,24,24,24,24,24,25,25,25,25,25,25,26,26,26,26,26,26,26,26,26,26,26,26,27,27,27,28,28,28,28,28,28,28,28,28,28,28,28,28,28,29,29,29,29,29,29,29,29,29,29,29,29,29,29,29,29,29,29,30,30,30,30,30,30,30,30,30,31,31,31,31,31,31,31,31,31,31,31,31,31,31,31,31,31,31,32,32,32,32,32,32,32,32,32,32,32,33,33,33,33,33,33,33,33,33,33,33,33,34,34,34,34,34,34,34,34,34,35,35,35,35,35,35,35,35,35,35,36,36,36,36,36,36,37,37,37,37,37,37,38,38,39,39,39,39,39,39,40,40,40,40,40,41,41,41,41,41,41,42,42,43,43,44,44,44,44,44,44,45,45,46,46,46,46,47,47,47,48,48,49,49,50,50,50,50,50,51,51,52,52,52,53,53,55,55,55,56,56,56,58,58,58,58,58],\"xaxis\":\"x\",\"y\":[1851.737586962865,1851.737586962865,1851.737586962865,1851.737586962865,2039.8098205097158,2039.8098205097158,2039.8098205097158,2039.8098205097158,2039.8098205097158,2039.8098205097158,2227.8820540565666,2227.8820540565666,2227.8820540565666,2227.8820540565666,2227.8820540565666,2227.8820540565666,2415.954287603417,2415.954287603417,2415.954287603417,2415.954287603417,2415.954287603417,2415.954287603417,2604.0265211502683,2604.0265211502683,2604.0265211502683,2604.0265211502683,2604.0265211502683,2792.098754697119,2792.098754697119,2792.098754697119,2792.098754697119,2980.170988243969,2980.170988243969,2980.170988243969,2980.170988243969,2980.170988243969,2980.170988243969,2980.170988243969,3168.24322179082,3168.24322179082,3168.24322179082,3168.24322179082,3168.24322179082,3168.24322179082,3356.3154553376708,3356.3154553376708,3356.3154553376708,3356.3154553376708,3356.3154553376708,3356.3154553376708,3356.3154553376708,3356.3154553376708,3356.3154553376708,3356.3154553376708,3356.3154553376708,3356.3154553376708,3544.3876888845216,3544.3876888845216,3544.3876888845216,3732.4599224313724,3732.4599224313724,3732.4599224313724,3732.4599224313724,3732.4599224313724,3732.4599224313724,3732.4599224313724,3732.4599224313724,3732.4599224313724,3732.4599224313724,3732.4599224313724,3732.4599224313724,3732.4599224313724,3732.4599224313724,3920.5321559782233,3920.5321559782233,3920.5321559782233,3920.5321559782233,3920.5321559782233,3920.5321559782233,3920.5321559782233,3920.5321559782233,3920.5321559782233,3920.5321559782233,3920.5321559782233,3920.5321559782233,3920.5321559782233,3920.5321559782233,3920.5321559782233,3920.5321559782233,3920.5321559782233,3920.5321559782233,4108.604389525074,4108.604389525074,4108.604389525074,4108.604389525074,4108.604389525074,4108.604389525074,4108.604389525074,4108.604389525074,4108.604389525074,4296.676623071925,4296.676623071925,4296.676623071925,4296.676623071925,4296.676623071925,4296.676623071925,4296.676623071925,4296.676623071925,4296.676623071925,4296.676623071925,4296.676623071925,4296.676623071925,4296.676623071925,4296.676623071925,4296.676623071925,4296.676623071925,4296.676623071925,4296.676623071925,4484.748856618776,4484.748856618776,4484.748856618776,4484.748856618776,4484.748856618776,4484.748856618776,4484.748856618776,4484.748856618776,4484.748856618776,4484.748856618776,4484.748856618776,4672.821090165627,4672.821090165627,4672.821090165627,4672.821090165627,4672.821090165627,4672.821090165627,4672.821090165627,4672.821090165627,4672.821090165627,4672.821090165627,4672.821090165627,4672.821090165627,4860.8933237124775,4860.8933237124775,4860.8933237124775,4860.8933237124775,4860.8933237124775,4860.8933237124775,4860.8933237124775,4860.8933237124775,4860.8933237124775,5048.965557259328,5048.965557259328,5048.965557259328,5048.965557259328,5048.965557259328,5048.965557259328,5048.965557259328,5048.965557259328,5048.965557259328,5048.965557259328,5237.037790806179,5237.037790806179,5237.037790806179,5237.037790806179,5237.037790806179,5237.037790806179,5425.11002435303,5425.11002435303,5425.11002435303,5425.11002435303,5425.11002435303,5425.11002435303,5613.182257899881,5613.182257899881,5801.254491446732,5801.254491446732,5801.254491446732,5801.254491446732,5801.254491446732,5801.254491446732,5989.3267249935825,5989.3267249935825,5989.3267249935825,5989.3267249935825,5989.3267249935825,6177.398958540432,6177.398958540432,6177.398958540432,6177.398958540432,6177.398958540432,6177.398958540432,6365.471192087283,6365.471192087283,6553.543425634134,6553.543425634134,6741.615659180986,6741.615659180986,6741.615659180986,6741.615659180986,6741.615659180986,6741.615659180986,6929.687892727837,6929.687892727837,7117.7601262746875,7117.7601262746875,7117.7601262746875,7117.7601262746875,7305.832359821538,7305.832359821538,7305.832359821538,7493.904593368387,7493.904593368387,7681.976826915238,7681.976826915238,7870.049060462089,7870.049060462089,7870.049060462089,7870.049060462089,7870.049060462089,8058.12129400894,8058.12129400894,8246.193527555792,8246.193527555792,8246.193527555792,8434.26576110264,8434.26576110264,8810.410228196342,8810.410228196342,8810.410228196342,8998.482461743195,8998.482461743195,8998.482461743195,9374.626928836897,9374.626928836897,9374.626928836897,9374.626928836897,9374.626928836897],\"yaxis\":\"y\",\"type\":\"scattergl\"},{\"hovertemplate\":\"Attrition=No\\u003cbr\\u003eAge=%{x}\\u003cbr\\u003eMonthlyIncome=%{y}\\u003cextra\\u003e\\u003c\\u002fextra\\u003e\",\"legendgroup\":\"No\",\"marker\":{\"color\":\"#EF553B\",\"symbol\":\"circle\"},\"mode\":\"markers\",\"name\":\"No\",\"showlegend\":true,\"x\":[49,33,27,32,59,30,38,36,35,29,31,34,29,32,22,53,38,24,34,21,53,42,44,46,33,44,30,43,35,36,33,35,27,27,30,34,37,46,35,44,35,26,33,35,35,31,37,32,38,50,59,36,55,36,45,35,59,29,31,32,36,31,35,45,37,46,30,35,55,38,34,56,23,51,30,40,51,30,46,32,54,24,28,58,44,32,34,37,59,50,25,22,51,54,24,34,37,34,36,36,43,30,33,51,26,22,49,43,50,41,26,36,39,25,30,45,38,30,32,30,30,41,41,19,40,35,53,45,32,29,51,58,40,34,22,27,28,57,27,50,41,30,38,32,27,36,30,45,56,33,46,38,31,34,50,53,33,40,55,34,51,52,27,43,45,37,35,42,38,38,27,49,34,40,22,36,40,46,30,27,51,41,45,54,36,33,37,38,31,59,37,29,35,52,42,59,50,43,52,32,39,32,41,40,45,31,33,34,37,45,39,29,42,29,25,42,40,51,32,38,32,46,29,31,25,45,36,55,28,37,21,37,35,38,26,50,53,42,29,55,26,37,38,28,49,36,31,37,42,35,36,51,41,18,28,31,39,36,32,38,58,31,31,45,31,33,39,43,49,27,32,27,31,32,30,31,39,33,47,43,27,54,43,45,40,29,30,27,37,38,31,29,35,23,41,47,42,29,42,32,48,37,30,26,42,36,36,57,40,21,37,46,50,31,29,35,27,28,49,51,36,55,24,30,22,36,37,40,42,37,43,40,54,34,31,43,43,25,37,31,39,56,30,41,28,52,45,52,42,30,60,46,42,38,40,26,30,29,30,57,50,30,60,47,46,35,54,34,46,31,30,35,42,36,48,55,41,35,40,39,31,42,45,29,33,31,40,41,26,35,34,37,46,41,37,52,24,38,37,49,24,26,24,50,25,34,35,31,27,37,20,42,43,38,43,48,44,34,21,44,22,33,32,30,53,34,26,37,29,35,33,54,36,27,35,23,25,38,29,48,27,37,50,34,39,32,38,27,32,47,40,53,41,60,27,41,50,36,38,44,47,30,29,43,34,23,39,56,40,27,29,53,35,32,38,34,52,25,45,23,34,36,52,26,29,34,54,27,37,38,34,35,30,40,34,42,24,52,50,33,47,36,29,35,42,36,32,40,30,45,42,38,34,43,27,35,28,34,27,51,44,25,33,35,36,32,30,53,45,32,52,37,28,22,44,42,36,25,35,32,25,49,24,32,38,42,31,53,35,37,53,43,47,37,50,39,33,29,44,28,43,36,47,28,27,34,42,33,58,31,35,49,48,31,36,38,32,40,26,41,36,31,40,32,33,45,29,35,52,53,30,38,35,39,47,36,33,33,45,50,33,41,27,45,47,50,38,46,24,31,18,54,35,30,26,22,48,48,41,39,27,35,42,50,59,55,41,38,44,50,39,33,45,32,34,59,45,53,34,28,38,50,37,40,26,46,54,56,36,55,43,46,26,30,41,38,40,27,55,28,33,28,34,37,42,33,34,48,45,52,38,29,28,46,38,43,40,21,39,36,31,28,35,49,34,29,42,29,38,28,41,37,27,34,35,40,42,35,24,26,30,40,35,34,35,32,56,29,19,45,37,20,53,29,46,44,33,30,40,50,28,46,35,33,36,30,44,20,46,42,60,32,32,36,33,40,25,30,42,35,27,54,44,29,54,31,31,59,43,49,36,48,27,29,48,29,34,44,33,19,23,26,55,46,34,51,59,34,28,44,34,35,42,43,36,28,51,30,28,25,32,45,39,58,30,36,46,28,50,30,39,31,41,42,55,56,40,34,40,41,35,51,38,34,25,40,36,48,27,51,18,35,27,56,34,40,34,38,34,28,39,51,41,37,33,32,39,25,52,43,27,26,42,52,37,35,25,26,29,54,58,55,36,30,31,34,27,36,36,47,37,56,47,24,32,34,41,40,31,45,31,45,48,40,28,44,53,49,40,44,33,34,30,42,44,30,57,49,34,35,24,44,29,30,55,33,47,28,28,49,29,28,33,32,54,44,39,46,35,23,34,50,34,42,37,29,33,45,42,40,33,40,24,40,45,35,32,36,48,29,33,38,35,30,32,48,34,55,34,26,38,38,36,29,35,39,29,50,23,36,42,35,34,40,43,35,46,22,50,32,44,30,45,45,31,36,34,49,39,27,35,28,21,47,39,40,35,37,39,45,38,37,40,44,48,24,27,27,29,36,25,39,49,50,20,34,36,49,36,36,54,43,38,29,33,32,31,49,38,47,49,41,20,33,36,44,38,53,26,55,34,60,33,37,34,44,35,43,24,41,29,36,45,26,45,32,31,41,40,24,46,35,30,47,46,23,31,39,32,40,45,30,24,31,27,29,30,34,33,49,38,29,30,32,38,42,55,33,41,34,53,43,34,38,31,51,37,46,36,37,33,28,39,46,40,42,35,38,39,43,41,41,30,40,34,58,35,47,40,54,31,28,38,26,58,18,45,36,43,27,29,32,42,47,46,28,29,42,46,27,29,43,48,27,39,55,28,36,31,34,29,37,35,45,36,40,26,27,48,44,36,41,42,31,34,31,26,45,33,28,39,27,34,47,56,39,38,58,38,49,42,35,28,31,36,34,34,26,29,32,31,38,35,27,32,54,33,43,38,55,31,39,42,31,54,24,23,40,40,25,30,25,47,33,38,31,38,42,41,47,35,22,35,33,32,40,32,39,38,32,37,25,52,44,21,39,36,36,56,42,41,34,36,41,32,35,38,36,45,40,35,40,35,29,29,39,31,26,36,39,27,49,34],\"xaxis\":\"x\",\"y\":[5130,2909,3468,3068,2670,2693,9526,5237,2426,4193,2911,2661,9980,3298,2935,15427,3944,4011,11994,1232,19094,6825,10248,18947,2496,6465,2206,2645,2014,3419,5376,1951,2341,8726,4011,4568,3022,5772,2269,5454,9884,4157,13458,9069,4014,5915,5993,6162,2406,18740,7637,10096,14756,6499,9724,2194,5473,2703,2501,6220,3038,4424,4312,13245,13664,5021,5126,2859,10239,5329,4325,7260,2322,2075,4152,13503,5441,5209,10673,5010,13549,4999,4221,13872,2042,2956,4809,5163,18844,18172,2889,2871,7484,17328,2774,4505,7428,11631,9738,2835,16959,2613,6146,19537,2368,2523,6567,4739,9208,8189,2942,4941,5902,8639,6347,3452,4317,2632,4668,3204,2720,17181,2238,1483,5605,7295,2306,2348,8998,4319,6132,3346,10855,2231,2323,2024,2713,9439,2566,19926,2451,9419,8686,3038,3058,2088,3072,5006,4257,2500,10453,2288,3929,2311,3690,4450,2756,19033,18722,9547,13734,19999,2279,2089,16792,3564,4425,5265,6553,6261,4298,6804,3815,2741,2328,2153,4876,9396,8474,9981,12490,13591,8865,5940,5914,2622,12185,10609,4345,2177,2793,7918,8789,3212,19232,2267,19517,16064,19068,3931,2232,4465,3072,3319,19202,13675,2911,5957,3920,6434,10938,2340,6545,6931,4898,2593,19436,2723,2794,5249,2176,16872,6644,5582,4000,13496,3210,19045,2070,6502,3230,13603,11996,5605,6397,19144,17584,4907,4554,5415,4741,2115,5745,3310,18665,4485,2789,2326,13525,8020,3688,5482,16015,1200,5661,6929,9613,5674,5484,12061,5660,4821,6410,5210,2695,11878,17068,2455,13964,2478,5228,4478,7547,5055,5775,8943,19272,4682,18300,5257,6349,4869,9985,3697,7457,3983,6118,6214,6347,11510,7143,8268,8095,2904,6032,2976,15992,4649,2696,2370,12504,5974,4736,5296,6781,6653,9699,6755,2213,2610,3452,5258,10496,2657,2201,6540,3816,5253,10965,4936,2543,16659,4260,2476,2244,7596,3034,5715,2576,4197,14336,3448,19406,6538,4306,2258,4522,4487,4449,2218,19197,13212,6577,8392,4558,7969,2654,16555,4556,6091,19566,4810,4523,1702,18041,2886,2097,11935,8412,14118,17046,2564,10266,5070,17861,4230,3780,2768,9071,10648,2983,7632,2093,9980,4051,16835,6230,4717,13237,3755,6582,7406,4805,4262,16184,11557,10932,6811,4306,4859,5337,7491,10527,16595,8834,5577,2400,9824,6447,19502,2725,6272,2127,18200,2096,3622,3681,5460,2187,9602,2836,4089,16627,2619,5679,15402,5985,2579,3447,19513,2773,7104,6322,2083,8381,2691,2659,9434,5561,6646,7725,10725,8847,2045,1281,2819,4851,4028,2720,8120,4647,4680,3221,8621,4553,5396,7625,7412,11159,4960,10475,14814,19141,5405,8793,19189,3875,11713,7861,3708,13770,5304,2642,6804,6142,2500,6389,11103,2342,6811,2297,2450,5093,5309,3057,5121,16856,6180,6632,3505,6274,7587,4258,4364,4335,3280,5485,4342,2782,5980,4381,2572,3833,4244,6500,18430,2694,3149,17639,11691,16752,5228,2700,2506,6062,2143,6162,5094,6877,2274,4434,6288,2553,17159,12808,10221,4779,3737,1706,16307,5933,3424,4037,2559,6201,4403,3761,10934,10761,5175,13826,6334,4936,4775,2818,2515,2342,4194,10685,2314,4256,3580,3162,6524,2899,5231,2356,11836,10903,2973,14275,5562,4537,7642,17924,5204,2277,2532,2559,4908,4765,6586,3294,2377,2318,2008,6244,2799,10552,2329,4014,7403,2259,6932,4678,13582,2332,9705,4294,4721,2519,5855,3617,6725,6949,4447,2157,4601,17099,14852,7264,5666,7823,7880,5067,5079,17444,3452,2270,17399,5488,19419,2811,3633,4163,13973,2684,10845,4377,4148,1051,10739,10388,11416,5472,2451,4240,10999,5003,12742,4227,3917,18303,2380,13726,6385,19973,6861,13320,6347,10880,2342,17650,4025,9725,11904,2177,7525,2220,1052,2821,19237,4107,8396,2007,19627,10686,2942,8858,16756,10798,4615,3955,9957,3376,8823,10322,4621,10976,3660,7119,2207,7756,6694,17665,4302,2979,16885,5593,10445,8740,2514,7655,17465,7351,10820,19626,2070,6782,7779,2791,3201,4968,13120,4033,3291,4272,5056,2844,2703,4766,5731,2539,5714,4323,13499,5155,2258,3597,4420,6578,4422,10274,5343,2376,2827,19943,3131,2552,4477,6474,3033,18606,2168,17048,2290,3600,4115,4327,17856,3196,19081,8966,4539,2741,3491,4541,2678,7379,6272,5220,2743,4998,10252,2781,6852,4950,3579,13191,10377,2235,10502,2011,3760,17779,6833,6812,5171,19740,18711,3692,2559,2517,6623,18265,16124,2585,18213,8380,2994,1223,2875,13577,18789,4538,19847,10512,4444,2154,19190,4490,3506,2372,10231,5410,3867,2838,4695,2080,2096,6209,18061,17123,2372,4627,7094,3423,6674,16880,11916,4534,9852,6151,17861,19187,19717,3544,8500,4661,4103,4249,14026,6893,6125,3669,2387,4639,7898,2534,13142,1611,5363,5071,13402,2029,6377,5429,2610,6687,4724,6120,10596,5467,2996,9998,4078,10920,6232,13247,4081,5769,3904,16799,2950,3629,9362,3229,3578,7988,17328,19701,14732,9278,4779,16422,2996,2099,5810,5647,3420,3500,2066,17169,4162,9204,3294,2127,3975,10793,10851,2109,9380,5486,13757,8463,3162,16598,6651,2345,3420,4373,4759,5301,3673,4768,1274,4900,10466,17007,2404,2033,10209,8620,2064,4035,3838,4591,1563,4898,4789,3180,6549,6388,11244,16032,16328,8376,16606,8606,2272,7083,14411,2308,4841,4285,9715,4320,2132,10124,5473,5207,16437,2296,4069,7441,2430,5878,2644,6439,2451,6392,6077,2450,9250,4087,2367,2972,19586,5484,2061,9924,4198,6815,4723,6142,8237,8853,19331,2073,5562,19613,3407,5063,4639,4876,2690,17567,2814,11245,3312,19049,2141,5769,4385,5332,4663,4724,3211,5377,4066,5208,4877,3117,19658,3069,10435,4148,5768,5042,5770,7756,3936,7945,5743,15202,3760,3517,2580,5869,8008,5206,5295,16413,13269,2783,5433,2013,13966,4374,6842,17426,17603,4735,4187,5505,5470,5476,2587,2440,15972,15379,7082,2728,5368,5347,3195,3306,7005,2570,3537,3986,10883,2028,9525,2929,7879,4930,7847,4401,9241,2974,4502,10748,2305,16704,3433,3477,6430,6516,3907,5562,6883,2862,4978,10368,3295,5238,6472,9610,19833,9756,4968,2145,8346,3445,6294,7140,2932,5147,4507,2468,2109,5294,2718,5811,2766,19038,3055,2289,4001,12965,3539,6029,3702,5468,13116,4189,19328,8321,4071,3143,2044,13464,7991,3377,5538,5762,2592,4127,2438,6870,10447,9667,6513,6799,16291,2705,10333,4448,6854,9637,3591,5405,4684,15787,1514,5154,6962,5675,2379,3812,4648,2936,2105,8578,2706,6384,3968,13225,3540,2804,19392,19665,4774,3902,2662,2856,5673,4197,9713,2062,4284,4788,5906,3886,16823,2933,6500,17174,5033,5507,4393,13348,6583,8103,3978,2544,5399,5487,6834,5736,2226,5747,5467,5380,5151,2133,17875,4771,19161,5087,5561,2144,3065,2810,9888,8628,2867,5373,6667,5003,2858,5204,4105,9679,2897,5968,7510,2991,19636,1129,13341,4332,11031,4440,4617,2647,6323,5677,2187,3748,3977,8633,2008,4440,3067,5321,5410,2782,11957,2660,3375,5098,4878,2837,2406,2269,4108,13206,10422,13744,4907,3482,2436,2380,19431,7644,5131,6306,18880,13570,6712,5406,8938,2439,8837,5343,6652,4850,2809,5689,2001,2977,4025,3785,12031,9936,2966,2571,9991,6142,5390,4404],\"yaxis\":\"y\",\"type\":\"scattergl\"},{\"hovertemplate\":\"\\u003cb\\u003eOLS trendline\\u003c\\u002fb\\u003e\\u003cbr\\u003eMonthlyIncome = 263.838 * Age + -3077.32\\u003cbr\\u003eR\\u003csup\\u003e2\\u003c\\u002fsup\\u003e=0.236889\\u003cbr\\u003e\\u003cbr\\u003eAttrition=No\\u003cbr\\u003eAge=%{x}\\u003cbr\\u003eMonthlyIncome=%{y} \\u003cb\\u003e(trend)\\u003c\\u002fb\\u003e\\u003cextra\\u003e\\u003c\\u002fextra\\u003e\",\"legendgroup\":\"No\",\"marker\":{\"color\":\"#EF553B\",\"symbol\":\"circle\"},\"mode\":\"lines\",\"name\":\"No\",\"showlegend\":false,\"x\":[18,18,18,18,19,19,19,20,20,20,20,20,21,21,21,21,21,21,21,22,22,22,22,22,22,22,22,22,22,22,23,23,23,23,23,23,23,23,23,23,24,24,24,24,24,24,24,24,24,24,24,24,24,24,24,24,24,24,24,25,25,25,25,25,25,25,25,25,25,25,25,25,25,25,25,25,25,25,25,26,26,26,26,26,26,26,26,26,26,26,26,26,26,26,26,26,26,26,26,26,26,26,26,26,26,26,27,27,27,27,27,27,27,27,27,27,27,27,27,27,27,27,27,27,27,27,27,27,27,27,27,27,27,27,27,27,27,27,27,27,27,27,27,27,27,27,27,27,27,27,27,28,28,28,28,28,28,28,28,28,28,28,28,28,28,28,28,28,28,28,28,28,28,28,28,28,28,28,28,28,28,28,28,28,28,29,29,29,29,29,29,29,29,29,29,29,29,29,29,29,29,29,29,29,29,29,29,29,29,29,29,29,29,29,29,29,29,29,29,29,29,29,29,29,29,29,29,29,29,29,29,29,29,29,29,30,30,30,30,30,30,30,30,30,30,30,30,30,30,30,30,30,30,30,30,30,30,30,30,30,30,30,30,30,30,30,30,30,30,30,30,30,30,30,30,30,30,30,30,30,30,30,30,30,30,30,31,31,31,31,31,31,31,31,31,31,31,31,31,31,31,31,31,31,31,31,31,31,31,31,31,31,31,31,31,31,31,31,31,31,31,31,31,31,31,31,31,31,31,31,31,31,31,31,31,31,31,32,32,32,32,32,32,32,32,32,32,32,32,32,32,32,32,32,32,32,32,32,32,32,32,32,32,32,32,32,32,32,32,32,32,32,32,32,32,32,32,32,32,32,32,32,32,32,32,32,32,33,33,33,33,33,33,33,33,33,33,33,33,33,33,33,33,33,33,33,33,33,33,33,33,33,33,33,33,33,33,33,33,33,33,33,33,33,33,33,33,33,33,33,33,33,33,34,34,34,34,34,34,34,34,34,34,34,34,34,34,34,34,34,34,34,34,34,34,34,34,34,34,34,34,34,34,34,34,34,34,34,34,34,34,34,34,34,34,34,34,34,34,34,34,34,34,34,34,34,34,34,34,34,34,34,34,34,34,34,34,34,34,34,34,35,35,35,35,35,35,35,35,35,35,35,35,35,35,35,35,35,35,35,35,35,35,35,35,35,35,35,35,35,35,35,35,35,35,35,35,35,35,35,35,35,35,35,35,35,35,35,35,35,35,35,35,35,35,35,35,35,35,35,35,35,35,35,35,35,35,35,35,36,36,36,36,36,36,36,36,36,36,36,36,36,36,36,36,36,36,36,36,36,36,36,36,36,36,36,36,36,36,36,36,36,36,36,36,36,36,36,36,36,36,36,36,36,36,36,36,36,36,36,36,36,36,36,36,36,36,36,36,36,36,36,37,37,37,37,37,37,37,37,37,37,37,37,37,37,37,37,37,37,37,37,37,37,37,37,37,37,37,37,37,37,37,37,37,37,37,37,37,37,37,37,37,37,37,37,38,38,38,38,38,38,38,38,38,38,38,38,38,38,38,38,38,38,38,38,38,38,38,38,38,38,38,38,38,38,38,38,38,38,38,38,38,38,38,38,38,38,38,38,38,38,38,38,38,38,38,38,38,38,38,38,39,39,39,39,39,39,39,39,39,39,39,39,39,39,39,39,39,39,39,39,39,39,39,39,39,39,39,39,39,39,39,39,39,39,39,39,40,40,40,40,40,40,40,40,40,40,40,40,40,40,40,40,40,40,40,40,40,40,40,40,40,40,40,40,40,40,40,40,40,40,40,40,40,40,40,40,40,40,40,40,40,40,40,40,40,40,40,40,41,41,41,41,41,41,41,41,41,41,41,41,41,41,41,41,41,41,41,41,41,41,41,41,41,41,41,41,41,41,41,41,41,41,42,42,42,42,42,42,42,42,42,42,42,42,42,42,42,42,42,42,42,42,42,42,42,42,42,42,42,42,42,42,42,42,42,42,42,42,42,42,42,42,42,42,42,42,43,43,43,43,43,43,43,43,43,43,43,43,43,43,43,43,43,43,43,43,43,43,43,43,43,43,43,43,43,43,44,44,44,44,44,44,44,44,44,44,44,44,44,44,44,44,44,44,44,44,44,44,44,44,44,44,44,45,45,45,45,45,45,45,45,45,45,45,45,45,45,45,45,45,45,45,45,45,45,45,45,45,45,45,45,45,45,45,45,45,45,45,45,45,45,45,46,46,46,46,46,46,46,46,46,46,46,46,46,46,46,46,46,46,46,46,46,46,46,46,46,46,46,46,46,47,47,47,47,47,47,47,47,47,47,47,47,47,47,47,47,47,47,47,47,47,48,48,48,48,48,48,48,48,48,48,48,48,48,48,48,48,48,49,49,49,49,49,49,49,49,49,49,49,49,49,49,49,49,49,49,49,49,49,49,50,50,50,50,50,50,50,50,50,50,50,50,50,50,50,50,50,50,50,50,50,50,50,50,50,51,51,51,51,51,51,51,51,51,51,51,51,51,51,51,51,51,52,52,52,52,52,52,52,52,52,52,52,52,52,52,52,53,53,53,53,53,53,53,53,53,53,53,53,53,53,53,53,53,54,54,54,54,54,54,54,54,54,54,54,54,54,54,54,54,54,54,55,55,55,55,55,55,55,55,55,55,55,55,55,55,55,55,55,55,55,56,56,56,56,56,56,56,56,56,56,56,57,57,57,57,58,58,58,58,58,58,58,58,58,59,59,59,59,59,59,59,59,59,59,60,60,60,60,60],\"xaxis\":\"x\",\"y\":[1671.7525002687944,1671.7525002687944,1671.7525002687944,1671.7525002687944,1935.590021192903,1935.590021192903,1935.590021192903,2199.4275421170105,2199.4275421170105,2199.4275421170105,2199.4275421170105,2199.4275421170105,2463.265063041119,2463.265063041119,2463.265063041119,2463.265063041119,2463.265063041119,2463.265063041119,2463.265063041119,2727.1025839652275,2727.1025839652275,2727.1025839652275,2727.1025839652275,2727.1025839652275,2727.1025839652275,2727.1025839652275,2727.1025839652275,2727.1025839652275,2727.1025839652275,2727.1025839652275,2990.940104889335,2990.940104889335,2990.940104889335,2990.940104889335,2990.940104889335,2990.940104889335,2990.940104889335,2990.940104889335,2990.940104889335,2990.940104889335,3254.7776258134436,3254.7776258134436,3254.7776258134436,3254.7776258134436,3254.7776258134436,3254.7776258134436,3254.7776258134436,3254.7776258134436,3254.7776258134436,3254.7776258134436,3254.7776258134436,3254.7776258134436,3254.7776258134436,3254.7776258134436,3254.7776258134436,3254.7776258134436,3254.7776258134436,3254.7776258134436,3254.7776258134436,3518.615146737552,3518.615146737552,3518.615146737552,3518.615146737552,3518.615146737552,3518.615146737552,3518.615146737552,3518.615146737552,3518.615146737552,3518.615146737552,3518.615146737552,3518.615146737552,3518.615146737552,3518.615146737552,3518.615146737552,3518.615146737552,3518.615146737552,3518.615146737552,3518.615146737552,3518.615146737552,3782.4526676616597,3782.4526676616597,3782.4526676616597,3782.4526676616597,3782.4526676616597,3782.4526676616597,3782.4526676616597,3782.4526676616597,3782.4526676616597,3782.4526676616597,3782.4526676616597,3782.4526676616597,3782.4526676616597,3782.4526676616597,3782.4526676616597,3782.4526676616597,3782.4526676616597,3782.4526676616597,3782.4526676616597,3782.4526676616597,3782.4526676616597,3782.4526676616597,3782.4526676616597,3782.4526676616597,3782.4526676616597,3782.4526676616597,3782.4526676616597,4046.290188585768,4046.290188585768,4046.290188585768,4046.290188585768,4046.290188585768,4046.290188585768,4046.290188585768,4046.290188585768,4046.290188585768,4046.290188585768,4046.290188585768,4046.290188585768,4046.290188585768,4046.290188585768,4046.290188585768,4046.290188585768,4046.290188585768,4046.290188585768,4046.290188585768,4046.290188585768,4046.290188585768,4046.290188585768,4046.290188585768,4046.290188585768,4046.290188585768,4046.290188585768,4046.290188585768,4046.290188585768,4046.290188585768,4046.290188585768,4046.290188585768,4046.290188585768,4046.290188585768,4046.290188585768,4046.290188585768,4046.290188585768,4046.290188585768,4046.290188585768,4046.290188585768,4046.290188585768,4046.290188585768,4046.290188585768,4046.290188585768,4046.290188585768,4046.290188585768,4310.127709509877,4310.127709509877,4310.127709509877,4310.127709509877,4310.127709509877,4310.127709509877,4310.127709509877,4310.127709509877,4310.127709509877,4310.127709509877,4310.127709509877,4310.127709509877,4310.127709509877,4310.127709509877,4310.127709509877,4310.127709509877,4310.127709509877,4310.127709509877,4310.127709509877,4310.127709509877,4310.127709509877,4310.127709509877,4310.127709509877,4310.127709509877,4310.127709509877,4310.127709509877,4310.127709509877,4310.127709509877,4310.127709509877,4310.127709509877,4310.127709509877,4310.127709509877,4310.127709509877,4310.127709509877,4573.965230433984,4573.965230433984,4573.965230433984,4573.965230433984,4573.965230433984,4573.965230433984,4573.965230433984,4573.965230433984,4573.965230433984,4573.965230433984,4573.965230433984,4573.965230433984,4573.965230433984,4573.965230433984,4573.965230433984,4573.965230433984,4573.965230433984,4573.965230433984,4573.965230433984,4573.965230433984,4573.965230433984,4573.965230433984,4573.965230433984,4573.965230433984,4573.965230433984,4573.965230433984,4573.965230433984,4573.965230433984,4573.965230433984,4573.965230433984,4573.965230433984,4573.965230433984,4573.965230433984,4573.965230433984,4573.965230433984,4573.965230433984,4573.965230433984,4573.965230433984,4573.965230433984,4573.965230433984,4573.965230433984,4573.965230433984,4573.965230433984,4573.965230433984,4573.965230433984,4573.965230433984,4573.965230433984,4573.965230433984,4573.965230433984,4573.965230433984,4837.802751358093,4837.802751358093,4837.802751358093,4837.802751358093,4837.802751358093,4837.802751358093,4837.802751358093,4837.802751358093,4837.802751358093,4837.802751358093,4837.802751358093,4837.802751358093,4837.802751358093,4837.802751358093,4837.802751358093,4837.802751358093,4837.802751358093,4837.802751358093,4837.802751358093,4837.802751358093,4837.802751358093,4837.802751358093,4837.802751358093,4837.802751358093,4837.802751358093,4837.802751358093,4837.802751358093,4837.802751358093,4837.802751358093,4837.802751358093,4837.802751358093,4837.802751358093,4837.802751358093,4837.802751358093,4837.802751358093,4837.802751358093,4837.802751358093,4837.802751358093,4837.802751358093,4837.802751358093,4837.802751358093,4837.802751358093,4837.802751358093,4837.802751358093,4837.802751358093,4837.802751358093,4837.802751358093,4837.802751358093,4837.802751358093,4837.802751358093,4837.802751358093,5101.6402722822,5101.6402722822,5101.6402722822,5101.6402722822,5101.6402722822,5101.6402722822,5101.6402722822,5101.6402722822,5101.6402722822,5101.6402722822,5101.6402722822,5101.6402722822,5101.6402722822,5101.6402722822,5101.6402722822,5101.6402722822,5101.6402722822,5101.6402722822,5101.6402722822,5101.6402722822,5101.6402722822,5101.6402722822,5101.6402722822,5101.6402722822,5101.6402722822,5101.6402722822,5101.6402722822,5101.6402722822,5101.6402722822,5101.6402722822,5101.6402722822,5101.6402722822,5101.6402722822,5101.6402722822,5101.6402722822,5101.6402722822,5101.6402722822,5101.6402722822,5101.6402722822,5101.6402722822,5101.6402722822,5101.6402722822,5101.6402722822,5101.6402722822,5101.6402722822,5101.6402722822,5101.6402722822,5101.6402722822,5101.6402722822,5101.6402722822,5101.6402722822,5365.477793206309,5365.477793206309,5365.477793206309,5365.477793206309,5365.477793206309,5365.477793206309,5365.477793206309,5365.477793206309,5365.477793206309,5365.477793206309,5365.477793206309,5365.477793206309,5365.477793206309,5365.477793206309,5365.477793206309,5365.477793206309,5365.477793206309,5365.477793206309,5365.477793206309,5365.477793206309,5365.477793206309,5365.477793206309,5365.477793206309,5365.477793206309,5365.477793206309,5365.477793206309,5365.477793206309,5365.477793206309,5365.477793206309,5365.477793206309,5365.477793206309,5365.477793206309,5365.477793206309,5365.477793206309,5365.477793206309,5365.477793206309,5365.477793206309,5365.477793206309,5365.477793206309,5365.477793206309,5365.477793206309,5365.477793206309,5365.477793206309,5365.477793206309,5365.477793206309,5365.477793206309,5365.477793206309,5365.477793206309,5365.477793206309,5365.477793206309,5629.3153141304165,5629.3153141304165,5629.3153141304165,5629.3153141304165,5629.3153141304165,5629.3153141304165,5629.3153141304165,5629.3153141304165,5629.3153141304165,5629.3153141304165,5629.3153141304165,5629.3153141304165,5629.3153141304165,5629.3153141304165,5629.3153141304165,5629.3153141304165,5629.3153141304165,5629.3153141304165,5629.3153141304165,5629.3153141304165,5629.3153141304165,5629.3153141304165,5629.3153141304165,5629.3153141304165,5629.3153141304165,5629.3153141304165,5629.3153141304165,5629.3153141304165,5629.3153141304165,5629.3153141304165,5629.3153141304165,5629.3153141304165,5629.3153141304165,5629.3153141304165,5629.3153141304165,5629.3153141304165,5629.3153141304165,5629.3153141304165,5629.3153141304165,5629.3153141304165,5629.3153141304165,5629.3153141304165,5629.3153141304165,5629.3153141304165,5629.3153141304165,5629.3153141304165,5893.152835054526,5893.152835054526,5893.152835054526,5893.152835054526,5893.152835054526,5893.152835054526,5893.152835054526,5893.152835054526,5893.152835054526,5893.152835054526,5893.152835054526,5893.152835054526,5893.152835054526,5893.152835054526,5893.152835054526,5893.152835054526,5893.152835054526,5893.152835054526,5893.152835054526,5893.152835054526,5893.152835054526,5893.152835054526,5893.152835054526,5893.152835054526,5893.152835054526,5893.152835054526,5893.152835054526,5893.152835054526,5893.152835054526,5893.152835054526,5893.152835054526,5893.152835054526,5893.152835054526,5893.152835054526,5893.152835054526,5893.152835054526,5893.152835054526,5893.152835054526,5893.152835054526,5893.152835054526,5893.152835054526,5893.152835054526,5893.152835054526,5893.152835054526,5893.152835054526,5893.152835054526,5893.152835054526,5893.152835054526,5893.152835054526,5893.152835054526,5893.152835054526,5893.152835054526,5893.152835054526,5893.152835054526,5893.152835054526,5893.152835054526,5893.152835054526,5893.152835054526,5893.152835054526,5893.152835054526,5893.152835054526,5893.152835054526,5893.152835054526,5893.152835054526,5893.152835054526,5893.152835054526,5893.152835054526,5893.152835054526,6156.9903559786335,6156.9903559786335,6156.9903559786335,6156.9903559786335,6156.9903559786335,6156.9903559786335,6156.9903559786335,6156.9903559786335,6156.9903559786335,6156.9903559786335,6156.9903559786335,6156.9903559786335,6156.9903559786335,6156.9903559786335,6156.9903559786335,6156.9903559786335,6156.9903559786335,6156.9903559786335,6156.9903559786335,6156.9903559786335,6156.9903559786335,6156.9903559786335,6156.9903559786335,6156.9903559786335,6156.9903559786335,6156.9903559786335,6156.9903559786335,6156.9903559786335,6156.9903559786335,6156.9903559786335,6156.9903559786335,6156.9903559786335,6156.9903559786335,6156.9903559786335,6156.9903559786335,6156.9903559786335,6156.9903559786335,6156.9903559786335,6156.9903559786335,6156.9903559786335,6156.9903559786335,6156.9903559786335,6156.9903559786335,6156.9903559786335,6156.9903559786335,6156.9903559786335,6156.9903559786335,6156.9903559786335,6156.9903559786335,6156.9903559786335,6156.9903559786335,6156.9903559786335,6156.9903559786335,6156.9903559786335,6156.9903559786335,6156.9903559786335,6156.9903559786335,6156.9903559786335,6156.9903559786335,6156.9903559786335,6156.9903559786335,6156.9903559786335,6156.9903559786335,6156.9903559786335,6156.9903559786335,6156.9903559786335,6156.9903559786335,6156.9903559786335,6420.827876902741,6420.827876902741,6420.827876902741,6420.827876902741,6420.827876902741,6420.827876902741,6420.827876902741,6420.827876902741,6420.827876902741,6420.827876902741,6420.827876902741,6420.827876902741,6420.827876902741,6420.827876902741,6420.827876902741,6420.827876902741,6420.827876902741,6420.827876902741,6420.827876902741,6420.827876902741,6420.827876902741,6420.827876902741,6420.827876902741,6420.827876902741,6420.827876902741,6420.827876902741,6420.827876902741,6420.827876902741,6420.827876902741,6420.827876902741,6420.827876902741,6420.827876902741,6420.827876902741,6420.827876902741,6420.827876902741,6420.827876902741,6420.827876902741,6420.827876902741,6420.827876902741,6420.827876902741,6420.827876902741,6420.827876902741,6420.827876902741,6420.827876902741,6420.827876902741,6420.827876902741,6420.827876902741,6420.827876902741,6420.827876902741,6420.827876902741,6420.827876902741,6420.827876902741,6420.827876902741,6420.827876902741,6420.827876902741,6420.827876902741,6420.827876902741,6420.827876902741,6420.827876902741,6420.827876902741,6420.827876902741,6420.827876902741,6420.827876902741,6684.6653978268505,6684.6653978268505,6684.6653978268505,6684.6653978268505,6684.6653978268505,6684.6653978268505,6684.6653978268505,6684.6653978268505,6684.6653978268505,6684.6653978268505,6684.6653978268505,6684.6653978268505,6684.6653978268505,6684.6653978268505,6684.6653978268505,6684.6653978268505,6684.6653978268505,6684.6653978268505,6684.6653978268505,6684.6653978268505,6684.6653978268505,6684.6653978268505,6684.6653978268505,6684.6653978268505,6684.6653978268505,6684.6653978268505,6684.6653978268505,6684.6653978268505,6684.6653978268505,6684.6653978268505,6684.6653978268505,6684.6653978268505,6684.6653978268505,6684.6653978268505,6684.6653978268505,6684.6653978268505,6684.6653978268505,6684.6653978268505,6684.6653978268505,6684.6653978268505,6684.6653978268505,6684.6653978268505,6684.6653978268505,6684.6653978268505,6948.502918750958,6948.502918750958,6948.502918750958,6948.502918750958,6948.502918750958,6948.502918750958,6948.502918750958,6948.502918750958,6948.502918750958,6948.502918750958,6948.502918750958,6948.502918750958,6948.502918750958,6948.502918750958,6948.502918750958,6948.502918750958,6948.502918750958,6948.502918750958,6948.502918750958,6948.502918750958,6948.502918750958,6948.502918750958,6948.502918750958,6948.502918750958,6948.502918750958,6948.502918750958,6948.502918750958,6948.502918750958,6948.502918750958,6948.502918750958,6948.502918750958,6948.502918750958,6948.502918750958,6948.502918750958,6948.502918750958,6948.502918750958,6948.502918750958,6948.502918750958,6948.502918750958,6948.502918750958,6948.502918750958,6948.502918750958,6948.502918750958,6948.502918750958,6948.502918750958,6948.502918750958,6948.502918750958,6948.502918750958,6948.502918750958,6948.502918750958,6948.502918750958,6948.502918750958,6948.502918750958,6948.502918750958,6948.502918750958,6948.502918750958,7212.340439675066,7212.340439675066,7212.340439675066,7212.340439675066,7212.340439675066,7212.340439675066,7212.340439675066,7212.340439675066,7212.340439675066,7212.340439675066,7212.340439675066,7212.340439675066,7212.340439675066,7212.340439675066,7212.340439675066,7212.340439675066,7212.340439675066,7212.340439675066,7212.340439675066,7212.340439675066,7212.340439675066,7212.340439675066,7212.340439675066,7212.340439675066,7212.340439675066,7212.340439675066,7212.340439675066,7212.340439675066,7212.340439675066,7212.340439675066,7212.340439675066,7212.340439675066,7212.340439675066,7212.340439675066,7212.340439675066,7212.340439675066,7476.177960599173,7476.177960599173,7476.177960599173,7476.177960599173,7476.177960599173,7476.177960599173,7476.177960599173,7476.177960599173,7476.177960599173,7476.177960599173,7476.177960599173,7476.177960599173,7476.177960599173,7476.177960599173,7476.177960599173,7476.177960599173,7476.177960599173,7476.177960599173,7476.177960599173,7476.177960599173,7476.177960599173,7476.177960599173,7476.177960599173,7476.177960599173,7476.177960599173,7476.177960599173,7476.177960599173,7476.177960599173,7476.177960599173,7476.177960599173,7476.177960599173,7476.177960599173,7476.177960599173,7476.177960599173,7476.177960599173,7476.177960599173,7476.177960599173,7476.177960599173,7476.177960599173,7476.177960599173,7476.177960599173,7476.177960599173,7476.177960599173,7476.177960599173,7476.177960599173,7476.177960599173,7476.177960599173,7476.177960599173,7476.177960599173,7476.177960599173,7476.177960599173,7476.177960599173,7740.015481523283,7740.015481523283,7740.015481523283,7740.015481523283,7740.015481523283,7740.015481523283,7740.015481523283,7740.015481523283,7740.015481523283,7740.015481523283,7740.015481523283,7740.015481523283,7740.015481523283,7740.015481523283,7740.015481523283,7740.015481523283,7740.015481523283,7740.015481523283,7740.015481523283,7740.015481523283,7740.015481523283,7740.015481523283,7740.015481523283,7740.015481523283,7740.015481523283,7740.015481523283,7740.015481523283,7740.015481523283,7740.015481523283,7740.015481523283,7740.015481523283,7740.015481523283,7740.015481523283,7740.015481523283,8003.85300244739,8003.85300244739,8003.85300244739,8003.85300244739,8003.85300244739,8003.85300244739,8003.85300244739,8003.85300244739,8003.85300244739,8003.85300244739,8003.85300244739,8003.85300244739,8003.85300244739,8003.85300244739,8003.85300244739,8003.85300244739,8003.85300244739,8003.85300244739,8003.85300244739,8003.85300244739,8003.85300244739,8003.85300244739,8003.85300244739,8003.85300244739,8003.85300244739,8003.85300244739,8003.85300244739,8003.85300244739,8003.85300244739,8003.85300244739,8003.85300244739,8003.85300244739,8003.85300244739,8003.85300244739,8003.85300244739,8003.85300244739,8003.85300244739,8003.85300244739,8003.85300244739,8003.85300244739,8003.85300244739,8003.85300244739,8003.85300244739,8003.85300244739,8267.690523371497,8267.690523371497,8267.690523371497,8267.690523371497,8267.690523371497,8267.690523371497,8267.690523371497,8267.690523371497,8267.690523371497,8267.690523371497,8267.690523371497,8267.690523371497,8267.690523371497,8267.690523371497,8267.690523371497,8267.690523371497,8267.690523371497,8267.690523371497,8267.690523371497,8267.690523371497,8267.690523371497,8267.690523371497,8267.690523371497,8267.690523371497,8267.690523371497,8267.690523371497,8267.690523371497,8267.690523371497,8267.690523371497,8267.690523371497,8531.528044295606,8531.528044295606,8531.528044295606,8531.528044295606,8531.528044295606,8531.528044295606,8531.528044295606,8531.528044295606,8531.528044295606,8531.528044295606,8531.528044295606,8531.528044295606,8531.528044295606,8531.528044295606,8531.528044295606,8531.528044295606,8531.528044295606,8531.528044295606,8531.528044295606,8531.528044295606,8531.528044295606,8531.528044295606,8531.528044295606,8531.528044295606,8531.528044295606,8531.528044295606,8531.528044295606,8795.365565219716,8795.365565219716,8795.365565219716,8795.365565219716,8795.365565219716,8795.365565219716,8795.365565219716,8795.365565219716,8795.365565219716,8795.365565219716,8795.365565219716,8795.365565219716,8795.365565219716,8795.365565219716,8795.365565219716,8795.365565219716,8795.365565219716,8795.365565219716,8795.365565219716,8795.365565219716,8795.365565219716,8795.365565219716,8795.365565219716,8795.365565219716,8795.365565219716,8795.365565219716,8795.365565219716,8795.365565219716,8795.365565219716,8795.365565219716,8795.365565219716,8795.365565219716,8795.365565219716,8795.365565219716,8795.365565219716,8795.365565219716,8795.365565219716,8795.365565219716,8795.365565219716,9059.203086143822,9059.203086143822,9059.203086143822,9059.203086143822,9059.203086143822,9059.203086143822,9059.203086143822,9059.203086143822,9059.203086143822,9059.203086143822,9059.203086143822,9059.203086143822,9059.203086143822,9059.203086143822,9059.203086143822,9059.203086143822,9059.203086143822,9059.203086143822,9059.203086143822,9059.203086143822,9059.203086143822,9059.203086143822,9059.203086143822,9059.203086143822,9059.203086143822,9059.203086143822,9059.203086143822,9059.203086143822,9059.203086143822,9323.040607067931,9323.040607067931,9323.040607067931,9323.040607067931,9323.040607067931,9323.040607067931,9323.040607067931,9323.040607067931,9323.040607067931,9323.040607067931,9323.040607067931,9323.040607067931,9323.040607067931,9323.040607067931,9323.040607067931,9323.040607067931,9323.040607067931,9323.040607067931,9323.040607067931,9323.040607067931,9323.040607067931,9586.87812799204,9586.87812799204,9586.87812799204,9586.87812799204,9586.87812799204,9586.87812799204,9586.87812799204,9586.87812799204,9586.87812799204,9586.87812799204,9586.87812799204,9586.87812799204,9586.87812799204,9586.87812799204,9586.87812799204,9586.87812799204,9586.87812799204,9850.715648916146,9850.715648916146,9850.715648916146,9850.715648916146,9850.715648916146,9850.715648916146,9850.715648916146,9850.715648916146,9850.715648916146,9850.715648916146,9850.715648916146,9850.715648916146,9850.715648916146,9850.715648916146,9850.715648916146,9850.715648916146,9850.715648916146,9850.715648916146,9850.715648916146,9850.715648916146,9850.715648916146,9850.715648916146,10114.553169840256,10114.553169840256,10114.553169840256,10114.553169840256,10114.553169840256,10114.553169840256,10114.553169840256,10114.553169840256,10114.553169840256,10114.553169840256,10114.553169840256,10114.553169840256,10114.553169840256,10114.553169840256,10114.553169840256,10114.553169840256,10114.553169840256,10114.553169840256,10114.553169840256,10114.553169840256,10114.553169840256,10114.553169840256,10114.553169840256,10114.553169840256,10114.553169840256,10378.390690764365,10378.390690764365,10378.390690764365,10378.390690764365,10378.390690764365,10378.390690764365,10378.390690764365,10378.390690764365,10378.390690764365,10378.390690764365,10378.390690764365,10378.390690764365,10378.390690764365,10378.390690764365,10378.390690764365,10378.390690764365,10378.390690764365,10642.22821168847,10642.22821168847,10642.22821168847,10642.22821168847,10642.22821168847,10642.22821168847,10642.22821168847,10642.22821168847,10642.22821168847,10642.22821168847,10642.22821168847,10642.22821168847,10642.22821168847,10642.22821168847,10642.22821168847,10906.06573261258,10906.06573261258,10906.06573261258,10906.06573261258,10906.06573261258,10906.06573261258,10906.06573261258,10906.06573261258,10906.06573261258,10906.06573261258,10906.06573261258,10906.06573261258,10906.06573261258,10906.06573261258,10906.06573261258,10906.06573261258,10906.06573261258,11169.90325353669,11169.90325353669,11169.90325353669,11169.90325353669,11169.90325353669,11169.90325353669,11169.90325353669,11169.90325353669,11169.90325353669,11169.90325353669,11169.90325353669,11169.90325353669,11169.90325353669,11169.90325353669,11169.90325353669,11169.90325353669,11169.90325353669,11169.90325353669,11433.740774460795,11433.740774460795,11433.740774460795,11433.740774460795,11433.740774460795,11433.740774460795,11433.740774460795,11433.740774460795,11433.740774460795,11433.740774460795,11433.740774460795,11433.740774460795,11433.740774460795,11433.740774460795,11433.740774460795,11433.740774460795,11433.740774460795,11433.740774460795,11433.740774460795,11697.578295384905,11697.578295384905,11697.578295384905,11697.578295384905,11697.578295384905,11697.578295384905,11697.578295384905,11697.578295384905,11697.578295384905,11697.578295384905,11697.578295384905,11961.415816309014,11961.415816309014,11961.415816309014,11961.415816309014,12225.25333723312,12225.25333723312,12225.25333723312,12225.25333723312,12225.25333723312,12225.25333723312,12225.25333723312,12225.25333723312,12225.25333723312,12489.09085815723,12489.09085815723,12489.09085815723,12489.09085815723,12489.09085815723,12489.09085815723,12489.09085815723,12489.09085815723,12489.09085815723,12489.09085815723,12752.928379081339,12752.928379081339,12752.928379081339,12752.928379081339,12752.928379081339],\"yaxis\":\"y\",\"type\":\"scattergl\"}],                        {\"template\":{\"data\":{\"histogram2dcontour\":[{\"type\":\"histogram2dcontour\",\"colorbar\":{\"outlinewidth\":0,\"ticks\":\"\"},\"colorscale\":[[0.0,\"#0d0887\"],[0.1111111111111111,\"#46039f\"],[0.2222222222222222,\"#7201a8\"],[0.3333333333333333,\"#9c179e\"],[0.4444444444444444,\"#bd3786\"],[0.5555555555555556,\"#d8576b\"],[0.6666666666666666,\"#ed7953\"],[0.7777777777777778,\"#fb9f3a\"],[0.8888888888888888,\"#fdca26\"],[1.0,\"#f0f921\"]]}],\"choropleth\":[{\"type\":\"choropleth\",\"colorbar\":{\"outlinewidth\":0,\"ticks\":\"\"}}],\"histogram2d\":[{\"type\":\"histogram2d\",\"colorbar\":{\"outlinewidth\":0,\"ticks\":\"\"},\"colorscale\":[[0.0,\"#0d0887\"],[0.1111111111111111,\"#46039f\"],[0.2222222222222222,\"#7201a8\"],[0.3333333333333333,\"#9c179e\"],[0.4444444444444444,\"#bd3786\"],[0.5555555555555556,\"#d8576b\"],[0.6666666666666666,\"#ed7953\"],[0.7777777777777778,\"#fb9f3a\"],[0.8888888888888888,\"#fdca26\"],[1.0,\"#f0f921\"]]}],\"heatmap\":[{\"type\":\"heatmap\",\"colorbar\":{\"outlinewidth\":0,\"ticks\":\"\"},\"colorscale\":[[0.0,\"#0d0887\"],[0.1111111111111111,\"#46039f\"],[0.2222222222222222,\"#7201a8\"],[0.3333333333333333,\"#9c179e\"],[0.4444444444444444,\"#bd3786\"],[0.5555555555555556,\"#d8576b\"],[0.6666666666666666,\"#ed7953\"],[0.7777777777777778,\"#fb9f3a\"],[0.8888888888888888,\"#fdca26\"],[1.0,\"#f0f921\"]]}],\"heatmapgl\":[{\"type\":\"heatmapgl\",\"colorbar\":{\"outlinewidth\":0,\"ticks\":\"\"},\"colorscale\":[[0.0,\"#0d0887\"],[0.1111111111111111,\"#46039f\"],[0.2222222222222222,\"#7201a8\"],[0.3333333333333333,\"#9c179e\"],[0.4444444444444444,\"#bd3786\"],[0.5555555555555556,\"#d8576b\"],[0.6666666666666666,\"#ed7953\"],[0.7777777777777778,\"#fb9f3a\"],[0.8888888888888888,\"#fdca26\"],[1.0,\"#f0f921\"]]}],\"contourcarpet\":[{\"type\":\"contourcarpet\",\"colorbar\":{\"outlinewidth\":0,\"ticks\":\"\"}}],\"contour\":[{\"type\":\"contour\",\"colorbar\":{\"outlinewidth\":0,\"ticks\":\"\"},\"colorscale\":[[0.0,\"#0d0887\"],[0.1111111111111111,\"#46039f\"],[0.2222222222222222,\"#7201a8\"],[0.3333333333333333,\"#9c179e\"],[0.4444444444444444,\"#bd3786\"],[0.5555555555555556,\"#d8576b\"],[0.6666666666666666,\"#ed7953\"],[0.7777777777777778,\"#fb9f3a\"],[0.8888888888888888,\"#fdca26\"],[1.0,\"#f0f921\"]]}],\"surface\":[{\"type\":\"surface\",\"colorbar\":{\"outlinewidth\":0,\"ticks\":\"\"},\"colorscale\":[[0.0,\"#0d0887\"],[0.1111111111111111,\"#46039f\"],[0.2222222222222222,\"#7201a8\"],[0.3333333333333333,\"#9c179e\"],[0.4444444444444444,\"#bd3786\"],[0.5555555555555556,\"#d8576b\"],[0.6666666666666666,\"#ed7953\"],[0.7777777777777778,\"#fb9f3a\"],[0.8888888888888888,\"#fdca26\"],[1.0,\"#f0f921\"]]}],\"mesh3d\":[{\"type\":\"mesh3d\",\"colorbar\":{\"outlinewidth\":0,\"ticks\":\"\"}}],\"scatter\":[{\"fillpattern\":{\"fillmode\":\"overlay\",\"size\":10,\"solidity\":0.2},\"type\":\"scatter\"}],\"parcoords\":[{\"type\":\"parcoords\",\"line\":{\"colorbar\":{\"outlinewidth\":0,\"ticks\":\"\"}}}],\"scatterpolargl\":[{\"type\":\"scatterpolargl\",\"marker\":{\"colorbar\":{\"outlinewidth\":0,\"ticks\":\"\"}}}],\"bar\":[{\"error_x\":{\"color\":\"#2a3f5f\"},\"error_y\":{\"color\":\"#2a3f5f\"},\"marker\":{\"line\":{\"color\":\"white\",\"width\":0.5},\"pattern\":{\"fillmode\":\"overlay\",\"size\":10,\"solidity\":0.2}},\"type\":\"bar\"}],\"scattergeo\":[{\"type\":\"scattergeo\",\"marker\":{\"colorbar\":{\"outlinewidth\":0,\"ticks\":\"\"}}}],\"scatterpolar\":[{\"type\":\"scatterpolar\",\"marker\":{\"colorbar\":{\"outlinewidth\":0,\"ticks\":\"\"}}}],\"histogram\":[{\"marker\":{\"pattern\":{\"fillmode\":\"overlay\",\"size\":10,\"solidity\":0.2}},\"type\":\"histogram\"}],\"scattergl\":[{\"type\":\"scattergl\",\"marker\":{\"colorbar\":{\"outlinewidth\":0,\"ticks\":\"\"}}}],\"scatter3d\":[{\"type\":\"scatter3d\",\"line\":{\"colorbar\":{\"outlinewidth\":0,\"ticks\":\"\"}},\"marker\":{\"colorbar\":{\"outlinewidth\":0,\"ticks\":\"\"}}}],\"scattermapbox\":[{\"type\":\"scattermapbox\",\"marker\":{\"colorbar\":{\"outlinewidth\":0,\"ticks\":\"\"}}}],\"scatterternary\":[{\"type\":\"scatterternary\",\"marker\":{\"colorbar\":{\"outlinewidth\":0,\"ticks\":\"\"}}}],\"scattercarpet\":[{\"type\":\"scattercarpet\",\"marker\":{\"colorbar\":{\"outlinewidth\":0,\"ticks\":\"\"}}}],\"carpet\":[{\"aaxis\":{\"endlinecolor\":\"#2a3f5f\",\"gridcolor\":\"#C8D4E3\",\"linecolor\":\"#C8D4E3\",\"minorgridcolor\":\"#C8D4E3\",\"startlinecolor\":\"#2a3f5f\"},\"baxis\":{\"endlinecolor\":\"#2a3f5f\",\"gridcolor\":\"#C8D4E3\",\"linecolor\":\"#C8D4E3\",\"minorgridcolor\":\"#C8D4E3\",\"startlinecolor\":\"#2a3f5f\"},\"type\":\"carpet\"}],\"table\":[{\"cells\":{\"fill\":{\"color\":\"#EBF0F8\"},\"line\":{\"color\":\"white\"}},\"header\":{\"fill\":{\"color\":\"#C8D4E3\"},\"line\":{\"color\":\"white\"}},\"type\":\"table\"}],\"barpolar\":[{\"marker\":{\"line\":{\"color\":\"white\",\"width\":0.5},\"pattern\":{\"fillmode\":\"overlay\",\"size\":10,\"solidity\":0.2}},\"type\":\"barpolar\"}],\"pie\":[{\"automargin\":true,\"type\":\"pie\"}]},\"layout\":{\"autotypenumbers\":\"strict\",\"colorway\":[\"#636efa\",\"#EF553B\",\"#00cc96\",\"#ab63fa\",\"#FFA15A\",\"#19d3f3\",\"#FF6692\",\"#B6E880\",\"#FF97FF\",\"#FECB52\"],\"font\":{\"color\":\"#2a3f5f\"},\"hovermode\":\"closest\",\"hoverlabel\":{\"align\":\"left\"},\"paper_bgcolor\":\"white\",\"plot_bgcolor\":\"white\",\"polar\":{\"bgcolor\":\"white\",\"angularaxis\":{\"gridcolor\":\"#EBF0F8\",\"linecolor\":\"#EBF0F8\",\"ticks\":\"\"},\"radialaxis\":{\"gridcolor\":\"#EBF0F8\",\"linecolor\":\"#EBF0F8\",\"ticks\":\"\"}},\"ternary\":{\"bgcolor\":\"white\",\"aaxis\":{\"gridcolor\":\"#DFE8F3\",\"linecolor\":\"#A2B1C6\",\"ticks\":\"\"},\"baxis\":{\"gridcolor\":\"#DFE8F3\",\"linecolor\":\"#A2B1C6\",\"ticks\":\"\"},\"caxis\":{\"gridcolor\":\"#DFE8F3\",\"linecolor\":\"#A2B1C6\",\"ticks\":\"\"}},\"coloraxis\":{\"colorbar\":{\"outlinewidth\":0,\"ticks\":\"\"}},\"colorscale\":{\"sequential\":[[0.0,\"#0d0887\"],[0.1111111111111111,\"#46039f\"],[0.2222222222222222,\"#7201a8\"],[0.3333333333333333,\"#9c179e\"],[0.4444444444444444,\"#bd3786\"],[0.5555555555555556,\"#d8576b\"],[0.6666666666666666,\"#ed7953\"],[0.7777777777777778,\"#fb9f3a\"],[0.8888888888888888,\"#fdca26\"],[1.0,\"#f0f921\"]],\"sequentialminus\":[[0.0,\"#0d0887\"],[0.1111111111111111,\"#46039f\"],[0.2222222222222222,\"#7201a8\"],[0.3333333333333333,\"#9c179e\"],[0.4444444444444444,\"#bd3786\"],[0.5555555555555556,\"#d8576b\"],[0.6666666666666666,\"#ed7953\"],[0.7777777777777778,\"#fb9f3a\"],[0.8888888888888888,\"#fdca26\"],[1.0,\"#f0f921\"]],\"diverging\":[[0,\"#8e0152\"],[0.1,\"#c51b7d\"],[0.2,\"#de77ae\"],[0.3,\"#f1b6da\"],[0.4,\"#fde0ef\"],[0.5,\"#f7f7f7\"],[0.6,\"#e6f5d0\"],[0.7,\"#b8e186\"],[0.8,\"#7fbc41\"],[0.9,\"#4d9221\"],[1,\"#276419\"]]},\"xaxis\":{\"gridcolor\":\"#EBF0F8\",\"linecolor\":\"#EBF0F8\",\"ticks\":\"\",\"title\":{\"standoff\":15},\"zerolinecolor\":\"#EBF0F8\",\"automargin\":true,\"zerolinewidth\":2},\"yaxis\":{\"gridcolor\":\"#EBF0F8\",\"linecolor\":\"#EBF0F8\",\"ticks\":\"\",\"title\":{\"standoff\":15},\"zerolinecolor\":\"#EBF0F8\",\"automargin\":true,\"zerolinewidth\":2},\"scene\":{\"xaxis\":{\"backgroundcolor\":\"white\",\"gridcolor\":\"#DFE8F3\",\"linecolor\":\"#EBF0F8\",\"showbackground\":true,\"ticks\":\"\",\"zerolinecolor\":\"#EBF0F8\",\"gridwidth\":2},\"yaxis\":{\"backgroundcolor\":\"white\",\"gridcolor\":\"#DFE8F3\",\"linecolor\":\"#EBF0F8\",\"showbackground\":true,\"ticks\":\"\",\"zerolinecolor\":\"#EBF0F8\",\"gridwidth\":2},\"zaxis\":{\"backgroundcolor\":\"white\",\"gridcolor\":\"#DFE8F3\",\"linecolor\":\"#EBF0F8\",\"showbackground\":true,\"ticks\":\"\",\"zerolinecolor\":\"#EBF0F8\",\"gridwidth\":2}},\"shapedefaults\":{\"line\":{\"color\":\"#2a3f5f\"}},\"annotationdefaults\":{\"arrowcolor\":\"#2a3f5f\",\"arrowhead\":0,\"arrowwidth\":1},\"geo\":{\"bgcolor\":\"white\",\"landcolor\":\"white\",\"subunitcolor\":\"#C8D4E3\",\"showland\":true,\"showlakes\":true,\"lakecolor\":\"white\"},\"title\":{\"x\":0.05},\"mapbox\":{\"style\":\"light\"}}},\"xaxis\":{\"anchor\":\"y\",\"domain\":[0.0,1.0],\"title\":{\"text\":\"Age\"}},\"yaxis\":{\"anchor\":\"x\",\"domain\":[0.0,1.0],\"title\":{\"text\":\"MonthlyIncome\"}},\"legend\":{\"title\":{\"text\":\"Attrition\"},\"tracegroupgap\":0},\"margin\":{\"t\":60},\"title\":{\"text\":\"Age vs. Monthly Income by Attrition\"}},                        {\"responsive\": true}                    ).then(function(){\n",
              "                            \n",
              "var gd = document.getElementById('b61705ed-2e04-4639-8be3-24da43b96063');\n",
              "var x = new MutationObserver(function (mutations, observer) {{\n",
              "        var display = window.getComputedStyle(gd).display;\n",
              "        if (!display || display === 'none') {{\n",
              "            console.log([gd, 'removed!']);\n",
              "            Plotly.purge(gd);\n",
              "            observer.disconnect();\n",
              "        }}\n",
              "}});\n",
              "\n",
              "// Listen for the removal of the full notebook cells\n",
              "var notebookContainer = gd.closest('#notebook-container');\n",
              "if (notebookContainer) {{\n",
              "    x.observe(notebookContainer, {childList: true});\n",
              "}}\n",
              "\n",
              "// Listen for the clearing of the current output cell\n",
              "var outputEl = gd.closest('.output');\n",
              "if (outputEl) {{\n",
              "    x.observe(outputEl, {childList: true});\n",
              "}}\n",
              "\n",
              "                        })                };                            </script>        </div>\n",
              "</body>\n",
              "</html>"
            ]
          },
          "metadata": {}
        }
      ],
      "source": [
        "# attrition by analyzing the relationship between monthly income and the age of the employees:\n",
        "fig = px.scatter(data, x=\"Age\", y=\"MonthlyIncome\", color=\"Attrition\", trendline=\"ols\")\n",
        "fig.update_layout(title=\"Age vs. Monthly Income by Attrition\")\n",
        "fig.show()"
      ]
    },
    {
      "cell_type": "markdown",
      "id": "ca5424b7",
      "metadata": {
        "id": "ca5424b7"
      },
      "source": [
        "We can see that as the age of the person increases, monthly income increases. We can also see a high rate of attrition among the employees with low monthly incomes."
      ]
    },
    {
      "cell_type": "code",
      "execution_count": 46,
      "id": "895af2e3",
      "metadata": {
        "colab": {
          "base_uri": "https://localhost:8080/",
          "height": 407
        },
        "id": "895af2e3",
        "outputId": "c64ef050-d706-4f55-a5ed-54376c7b2778"
      },
      "outputs": [
        {
          "output_type": "display_data",
          "data": {
            "text/plain": [
              "<Figure size 1200x400 with 3 Axes>"
            ],
            "image/png": "[encoded data removed]"
          },
          "metadata": {}
        }
      ],
      "source": [
        "#Explore the relationship between attrition and factors like age, years at the company, and income\n",
        "plt.figure(figsize=(12, 4))\n",
        "\n",
        "plt.subplot(1, 3, 1)\n",
        "\n",
        "plt.hist(dataset[dataset['Attrition'] == 'Yes']['Age'], bins=20, color='red', alpha=0.5, label='Attrition: Yes')\n",
        "plt.hist(dataset[dataset['Attrition'] == 'No']['Age'], bins=20, color='blue', alpha=0.5, label='Attrition: No')\n",
        "plt.xlabel('Age')\n",
        "plt.ylabel('Count')\n",
        "plt.title('Age Distribution')\n",
        "plt.legend()\n",
        "\n",
        "plt.subplot(1, 3, 2)\n",
        "\n",
        "plt.hist(dataset[dataset['Attrition'] == 'Yes']['YearsAtCompany'], bins=20, color='red', alpha=0.5, label='Attrition: Yes')\n",
        "plt.hist(dataset[dataset['Attrition'] == 'No']['YearsAtCompany'], bins=20, color='blue', alpha=0.5, label='Attrition: No')\n",
        "plt.xlabel('Years at Company')\n",
        "plt.ylabel('Count')\n",
        "plt.title('Years at Company Distribution')\n",
        "plt.legend()\n",
        "\n",
        "plt.subplot(1, 3, 3)\n",
        "plt.hist(dataset[dataset['Attrition'] == 'Yes']['MonthlyIncome'], bins=20, color='red', alpha=0.5, label='Attrition: Yes')\n",
        "plt.hist(dataset[dataset['Attrition'] == 'No']['MonthlyIncome'], bins=20, color='blue', alpha=0.5, label='Attrition: No')\n",
        "plt.xlabel('Monthly Income')\n",
        "plt.ylabel('Count')\n",
        "plt.title('Monthly Income Distribution')\n",
        "plt.legend()\n",
        "\n",
        "plt.tight_layout()\n",
        "plt.show()"
      ]
    },
    {
      "cell_type": "markdown",
      "id": "805957be",
      "metadata": {
        "id": "805957be"
      },
      "source": [
        "# Employee Attrition Prediction Model"
      ]
    },
    {
      "cell_type": "code",
      "execution_count": 47,
      "id": "837e4e8b",
      "metadata": {
        "id": "837e4e8b"
      },
      "outputs": [],
      "source": [
        "from sklearn.preprocessing import LabelEncoder\n",
        "\n",
        "le = LabelEncoder()\n",
        "\n",
        "data['Attrition'] = le.fit_transform(data['Attrition'])\n",
        "data['BusinessTravel'] = le.fit_transform(data['BusinessTravel'])\n",
        "data['Department'] = le.fit_transform(data['Department'])\n",
        "data['EducationField'] = le.fit_transform(data['EducationField'])\n",
        "data['Gender'] = le.fit_transform(data['Gender'])\n",
        "data['JobRole'] = le.fit_transform(data['JobRole'])\n",
        "data['MaritalStatus'] = le.fit_transform(data['MaritalStatus'])\n",
        "data['Over18'] = le.fit_transform(data['Over18'])\n",
        "data['OverTime'] = le.fit_transform(data['OverTime'])"
      ]
    },
    {
      "cell_type": "code",
      "execution_count": 48,
      "id": "83b4feb8",
      "metadata": {
        "colab": {
          "base_uri": "https://localhost:8080/",
          "height": 256
        },
        "id": "83b4feb8",
        "outputId": "67a095aa-148c-4522-a865-bfa6a19ddc5f"
      },
      "outputs": [
        {
          "output_type": "execute_result",
          "data": {
            "text/plain": [
              "   Age  Attrition  BusinessTravel  DailyRate  Department  DistanceFromHome  \\\n",
              "0   41          1               2       1102           2                 1   \n",
              "1   49          0               1        279           1                 8   \n",
              "2   37          1               2       1373           1                 2   \n",
              "3   33          0               1       1392           1                 3   \n",
              "4   27          0               2        591           1                 2   \n",
              "\n",
              "   Education  EducationField  EmployeeCount  EmployeeNumber  ...  \\\n",
              "0          2               1              1               1  ...   \n",
              "1          1               1              1               2  ...   \n",
              "2          2               4              1               4  ...   \n",
              "3          4               1              1               5  ...   \n",
              "4          1               3              1               7  ...   \n",
              "\n",
              "   RelationshipSatisfaction  StandardHours  StockOptionLevel  \\\n",
              "0                         1             80                 0   \n",
              "1                         4             80                 1   \n",
              "2                         2             80                 0   \n",
              "3                         3             80                 0   \n",
              "4                         4             80                 1   \n",
              "\n",
              "   TotalWorkingYears  TrainingTimesLastYear  WorkLifeBalance  YearsAtCompany  \\\n",
              "0                  8                      0                1               6   \n",
              "1                 10                      3                3              10   \n",
              "2                  7                      3                3               0   \n",
              "3                  8                      3                3               8   \n",
              "4                  6                      3                3               2   \n",
              "\n",
              "   YearsInCurrentRole  YearsSinceLastPromotion  YearsWithCurrManager  \n",
              "0                   4                        0                     5  \n",
              "1                   7                        1                     7  \n",
              "2                   0                        0                     0  \n",
              "3                   7                        3                     0  \n",
              "4                   2                        2                     2  \n",
              "\n",
              "[5 rows x 35 columns]"
            ],
            "text/html": [
              "\n",
              "  <div id=\"df-ab48cb78-9401-436a-a3ae-ad0b6e5bb62e\" class=\"colab-df-container\">\n",
              "    <div>\n",
              "<style scoped>\n",
              "    .dataframe tbody tr th:only-of-type {\n",
              "        vertical-align: middle;\n",
              "    }\n",
              "\n",
              "    .dataframe tbody tr th {\n",
              "        vertical-align: top;\n",
              "    }\n",
              "\n",
              "    .dataframe thead th {\n",
              "        text-align: right;\n",
              "    }\n",
              "</style>\n",
              "<table border=\"1\" class=\"dataframe\">\n",
              "  <thead>\n",
              "    <tr style=\"text-align: right;\">\n",
              "      <th></th>\n",
              "      <th>Age</th>\n",
              "      <th>Attrition</th>\n",
              "      <th>BusinessTravel</th>\n",
              "      <th>DailyRate</th>\n",
              "      <th>Department</th>\n",
              "      <th>DistanceFromHome</th>\n",
              "      <th>Education</th>\n",
              "      <th>EducationField</th>\n",
              "      <th>EmployeeCount</th>\n",
              "      <th>EmployeeNumber</th>\n",
              "      <th>...</th>\n",
              "      <th>RelationshipSatisfaction</th>\n",
              "      <th>StandardHours</th>\n",
              "      <th>StockOptionLevel</th>\n",
              "      <th>TotalWorkingYears</th>\n",
              "      <th>TrainingTimesLastYear</th>\n",
              "      <th>WorkLifeBalance</th>\n",
              "      <th>YearsAtCompany</th>\n",
              "      <th>YearsInCurrentRole</th>\n",
              "      <th>YearsSinceLastPromotion</th>\n",
              "      <th>YearsWithCurrManager</th>\n",
              "    </tr>\n",
              "  </thead>\n",
              "  <tbody>\n",
              "    <tr>\n",
              "      <th>0</th>\n",
              "      <td>41</td>\n",
              "      <td>1</td>\n",
              "      <td>2</td>\n",
              "      <td>1102</td>\n",
              "      <td>2</td>\n",
              "      <td>1</td>\n",
              "      <td>2</td>\n",
              "      <td>1</td>\n",
              "      <td>1</td>\n",
              "      <td>1</td>\n",
              "      <td>...</td>\n",
              "      <td>1</td>\n",
              "      <td>80</td>\n",
              "      <td>0</td>\n",
              "      <td>8</td>\n",
              "      <td>0</td>\n",
              "      <td>1</td>\n",
              "      <td>6</td>\n",
              "      <td>4</td>\n",
              "      <td>0</td>\n",
              "      <td>5</td>\n",
              "    </tr>\n",
              "    <tr>\n",
              "      <th>1</th>\n",
              "      <td>49</td>\n",
              "      <td>0</td>\n",
              "      <td>1</td>\n",
              "      <td>279</td>\n",
              "      <td>1</td>\n",
              "      <td>8</td>\n",
              "      <td>1</td>\n",
              "      <td>1</td>\n",
              "      <td>1</td>\n",
              "      <td>2</td>\n",
              "      <td>...</td>\n",
              "      <td>4</td>\n",
              "      <td>80</td>\n",
              "      <td>1</td>\n",
              "      <td>10</td>\n",
              "      <td>3</td>\n",
              "      <td>3</td>\n",
              "      <td>10</td>\n",
              "      <td>7</td>\n",
              "      <td>1</td>\n",
              "      <td>7</td>\n",
              "    </tr>\n",
              "    <tr>\n",
              "      <th>2</th>\n",
              "      <td>37</td>\n",
              "      <td>1</td>\n",
              "      <td>2</td>\n",
              "      <td>1373</td>\n",
              "      <td>1</td>\n",
              "      <td>2</td>\n",
              "      <td>2</td>\n",
              "      <td>4</td>\n",
              "      <td>1</td>\n",
              "      <td>4</td>\n",
              "      <td>...</td>\n",
              "      <td>2</td>\n",
              "      <td>80</td>\n",
              "      <td>0</td>\n",
              "      <td>7</td>\n",
              "      <td>3</td>\n",
              "      <td>3</td>\n",
              "      <td>0</td>\n",
              "      <td>0</td>\n",
              "      <td>0</td>\n",
              "      <td>0</td>\n",
              "    </tr>\n",
              "    <tr>\n",
              "      <th>3</th>\n",
              "      <td>33</td>\n",
              "      <td>0</td>\n",
              "      <td>1</td>\n",
              "      <td>1392</td>\n",
              "      <td>1</td>\n",
              "      <td>3</td>\n",
              "      <td>4</td>\n",
              "      <td>1</td>\n",
              "      <td>1</td>\n",
              "      <td>5</td>\n",
              "      <td>...</td>\n",
              "      <td>3</td>\n",
              "      <td>80</td>\n",
              "      <td>0</td>\n",
              "      <td>8</td>\n",
              "      <td>3</td>\n",
              "      <td>3</td>\n",
              "      <td>8</td>\n",
              "      <td>7</td>\n",
              "      <td>3</td>\n",
              "      <td>0</td>\n",
              "    </tr>\n",
              "    <tr>\n",
              "      <th>4</th>\n",
              "      <td>27</td>\n",
              "      <td>0</td>\n",
              "      <td>2</td>\n",
              "      <td>591</td>\n",
              "      <td>1</td>\n",
              "      <td>2</td>\n",
              "      <td>1</td>\n",
              "      <td>3</td>\n",
              "      <td>1</td>\n",
              "      <td>7</td>\n",
              "      <td>...</td>\n",
              "      <td>4</td>\n",
              "      <td>80</td>\n",
              "      <td>1</td>\n",
              "      <td>6</td>\n",
              "      <td>3</td>\n",
              "      <td>3</td>\n",
              "      <td>2</td>\n",
              "      <td>2</td>\n",
              "      <td>2</td>\n",
              "      <td>2</td>\n",
              "    </tr>\n",
              "  </tbody>\n",
              "</table>\n",
              "<p>5 rows × 35 columns</p>\n",
              "</div>\n",
              "    <div class=\"colab-df-buttons\">\n",
              "\n",
              "  <div class=\"colab-df-container\">\n",
              "    <button class=\"colab-df-convert\" onclick=\"convertToInteractive('df-ab48cb78-9401-436a-a3ae-ad0b6e5bb62e')\"\n",
              "            title=\"Convert this dataframe to an interactive table.\"\n",
              "            style=\"display:none;\">\n",
              "\n",
              "  <svg xmlns=\"http://www.w3.org/2000/svg\" height=\"24px\" viewBox=\"0 -960 960 960\">\n",
              "    <path d=\"M120-120v-720h720v720H120Zm60-500h600v-160H180v160Zm220 220h160v-160H400v160Zm0 220h160v-160H400v160ZM180-400h160v-160H180v160Zm440 0h160v-160H620v160ZM180-180h160v-160H180v160Zm440 0h160v-160H620v160Z\"/>\n",
              "  </svg>\n",
              "    </button>\n",
              "\n",
              "  <style>\n",
              "    .colab-df-container {\n",
              "      display:flex;\n",
              "      gap: 12px;\n",
              "    }\n",
              "\n",
              "    .colab-df-convert {\n",
              "      background-color: #E8F0FE;\n",
              "      border: none;\n",
              "      border-radius: 50%;\n",
              "      cursor: pointer;\n",
              "      display: none;\n",
              "      fill: #1967D2;\n",
              "      height: 32px;\n",
              "      padding: 0 0 0 0;\n",
              "      width: 32px;\n",
              "    }\n",
              "\n",
              "    .colab-df-convert:hover {\n",
              "      background-color: #E2EBFA;\n",
              "      box-shadow: 0px 1px 2px rgba(60, 64, 67, 0.3), 0px 1px 3px 1px rgba(60, 64, 67, 0.15);\n",
              "      fill: #174EA6;\n",
              "    }\n",
              "\n",
              "    .colab-df-buttons div {\n",
              "      margin-bottom: 4px;\n",
              "    }\n",
              "\n",
              "    [theme=dark] .colab-df-convert {\n",
              "      background-color: #3B4455;\n",
              "      fill: #D2E3FC;\n",
              "    }\n",
              "\n",
              "    [theme=dark] .colab-df-convert:hover {\n",
              "      background-color: #434B5C;\n",
              "      box-shadow: 0px 1px 3px 1px rgba(0, 0, 0, 0.15);\n",
              "      filter: drop-shadow(0px 1px 2px rgba(0, 0, 0, 0.3));\n",
              "      fill: #FFFFFF;\n",
              "    }\n",
              "  </style>\n",
              "\n",
              "    <script>\n",
              "      const buttonEl =\n",
              "        document.querySelector('#df-ab48cb78-9401-436a-a3ae-ad0b6e5bb62e button.colab-df-convert');\n",
              "      buttonEl.style.display =\n",
              "        google.colab.kernel.accessAllowed ? 'block' : 'none';\n",
              "\n",
              "      async function convertToInteractive(key) {\n",
              "        const element = document.querySelector('#df-ab48cb78-9401-436a-a3ae-ad0b6e5bb62e');\n",
              "        const dataTable =\n",
              "          await google.colab.kernel.invokeFunction('convertToInteractive',\n",
              "                                                    [key], {});\n",
              "        if (!dataTable) return;\n",
              "\n",
              "        const docLinkHtml = 'Like what you see? Visit the ' +\n",
              "          '<a target=\"_blank\" href=https://colab.research.google.com/notebooks/data_table.ipynb>data table notebook</a>'\n",
              "          + ' to learn more about interactive tables.';\n",
              "        element.innerHTML = '';\n",
              "        dataTable['output_type'] = 'display_data';\n",
              "        await google.colab.output.renderOutput(dataTable, element);\n",
              "        const docLink = document.createElement('div');\n",
              "        docLink.innerHTML = docLinkHtml;\n",
              "        element.appendChild(docLink);\n",
              "      }\n",
              "    </script>\n",
              "  </div>\n",
              "\n",
              "\n",
              "<div id=\"df-832adcaf-d3da-438d-874f-7f75f31a38cd\">\n",
              "  <button class=\"colab-df-quickchart\" onclick=\"quickchart('df-832adcaf-d3da-438d-874f-7f75f31a38cd')\"\n",
              "            title=\"Suggest charts\"\n",
              "            style=\"display:none;\">\n",
              "\n",
              "<svg xmlns=\"http://www.w3.org/2000/svg\" height=\"24px\"viewBox=\"0 0 24 24\"\n",
              "     width=\"24px\">\n",
              "    <g>\n",
              "        <path d=\"M19 3H5c-1.1 0-2 .9-2 2v14c0 1.1.9 2 2 2h14c1.1 0 2-.9 2-2V5c0-1.1-.9-2-2-2zM9 17H7v-7h2v7zm4 0h-2V7h2v10zm4 0h-2v-4h2v4z\"/>\n",
              "    </g>\n",
              "</svg>\n",
              "  </button>\n",
              "\n",
              "<style>\n",
              "  .colab-df-quickchart {\n",
              "      --bg-color: #E8F0FE;\n",
              "      --fill-color: #1967D2;\n",
              "      --hover-bg-color: #E2EBFA;\n",
              "      --hover-fill-color: #174EA6;\n",
              "      --disabled-fill-color: #AAA;\n",
              "      --disabled-bg-color: #DDD;\n",
              "  }\n",
              "\n",
              "  [theme=dark] .colab-df-quickchart {\n",
              "      --bg-color: #3B4455;\n",
              "      --fill-color: #D2E3FC;\n",
              "      --hover-bg-color: #434B5C;\n",
              "      --hover-fill-color: #FFFFFF;\n",
              "      --disabled-bg-color: #3B4455;\n",
              "      --disabled-fill-color: #666;\n",
              "  }\n",
              "\n",
              "  .colab-df-quickchart {\n",
              "    background-color: var(--bg-color);\n",
              "    border: none;\n",
              "    border-radius: 50%;\n",
              "    cursor: pointer;\n",
              "    display: none;\n",
              "    fill: var(--fill-color);\n",
              "    height: 32px;\n",
              "    padding: 0;\n",
              "    width: 32px;\n",
              "  }\n",
              "\n",
              "  .colab-df-quickchart:hover {\n",
              "    background-color: var(--hover-bg-color);\n",
              "    box-shadow: 0 1px 2px rgba(60, 64, 67, 0.3), 0 1px 3px 1px rgba(60, 64, 67, 0.15);\n",
              "    fill: var(--button-hover-fill-color);\n",
              "  }\n",
              "\n",
              "  .colab-df-quickchart-complete:disabled,\n",
              "  .colab-df-quickchart-complete:disabled:hover {\n",
              "    background-color: var(--disabled-bg-color);\n",
              "    fill: var(--disabled-fill-color);\n",
              "    box-shadow: none;\n",
              "  }\n",
              "\n",
              "  .colab-df-spinner {\n",
              "    border: 2px solid var(--fill-color);\n",
              "    border-color: transparent;\n",
              "    border-bottom-color: var(--fill-color);\n",
              "    animation:\n",
              "      spin 1s steps(1) infinite;\n",
              "  }\n",
              "\n",
              "  @keyframes spin {\n",
              "    0% {\n",
              "      border-color: transparent;\n",
              "      border-bottom-color: var(--fill-color);\n",
              "      border-left-color: var(--fill-color);\n",
              "    }\n",
              "    20% {\n",
              "      border-color: transparent;\n",
              "      border-left-color: var(--fill-color);\n",
              "      border-top-color: var(--fill-color);\n",
              "    }\n",
              "    30% {\n",
              "      border-color: transparent;\n",
              "      border-left-color: var(--fill-color);\n",
              "      border-top-color: var(--fill-color);\n",
              "      border-right-color: var(--fill-color);\n",
              "    }\n",
              "    40% {\n",
              "      border-color: transparent;\n",
              "      border-right-color: var(--fill-color);\n",
              "      border-top-color: var(--fill-color);\n",
              "    }\n",
              "    60% {\n",
              "      border-color: transparent;\n",
              "      border-right-color: var(--fill-color);\n",
              "    }\n",
              "    80% {\n",
              "      border-color: transparent;\n",
              "      border-right-color: var(--fill-color);\n",
              "      border-bottom-color: var(--fill-color);\n",
              "    }\n",
              "    90% {\n",
              "      border-color: transparent;\n",
              "      border-bottom-color: var(--fill-color);\n",
              "    }\n",
              "  }\n",
              "</style>\n",
              "\n",
              "  <script>\n",
              "    async function quickchart(key) {\n",
              "      const quickchartButtonEl =\n",
              "        document.querySelector('#' + key + ' button');\n",
              "      quickchartButtonEl.disabled = true;  // To prevent multiple clicks.\n",
              "      quickchartButtonEl.classList.add('colab-df-spinner');\n",
              "      try {\n",
              "        const charts = await google.colab.kernel.invokeFunction(\n",
              "            'suggestCharts', [key], {});\n",
              "      } catch (error) {\n",
              "        console.error('Error during call to suggestCharts:', error);\n",
              "      }\n",
              "      quickchartButtonEl.classList.remove('colab-df-spinner');\n",
              "      quickchartButtonEl.classList.add('colab-df-quickchart-complete');\n",
              "    }\n",
              "    (() => {\n",
              "      let quickchartButtonEl =\n",
              "        document.querySelector('#df-832adcaf-d3da-438d-874f-7f75f31a38cd button');\n",
              "      quickchartButtonEl.style.display =\n",
              "        google.colab.kernel.accessAllowed ? 'block' : 'none';\n",
              "    })();\n",
              "  </script>\n",
              "</div>\n",
              "    </div>\n",
              "  </div>\n"
            ],
            "application/vnd.google.colaboratory.intrinsic+json": {
              "type": "dataframe",
              "variable_name": "data"
            }
          },
          "metadata": {},
          "execution_count": 48
        }
      ],
      "source": [
        "data.head()"
      ]
    },
    {
      "cell_type": "code",
      "execution_count": 49,
      "id": "f0789ffe",
      "metadata": {
        "colab": {
          "base_uri": "https://localhost:8080/"
        },
        "id": "f0789ffe",
        "outputId": "a55e0480-8f86-4166-8501-20f8ea048bb4"
      },
      "outputs": [
        {
          "output_type": "stream",
          "name": "stdout",
          "text": [
            "Attrition                   1.000000\n",
            "OverTime                    0.246118\n",
            "MaritalStatus               0.162070\n",
            "DistanceFromHome            0.077924\n",
            "JobRole                     0.067151\n",
            "Department                  0.063991\n",
            "NumCompaniesWorked          0.043494\n",
            "Gender                      0.029453\n",
            "EducationField              0.026846\n",
            "MonthlyRate                 0.015170\n",
            "PerformanceRating           0.002889\n",
            "BusinessTravel              0.000074\n",
            "HourlyRate                 -0.006846\n",
            "EmployeeNumber             -0.010577\n",
            "PercentSalaryHike          -0.013478\n",
            "Education                  -0.031373\n",
            "YearsSinceLastPromotion    -0.033019\n",
            "RelationshipSatisfaction   -0.045872\n",
            "DailyRate                  -0.056652\n",
            "TrainingTimesLastYear      -0.059478\n",
            "WorkLifeBalance            -0.063939\n",
            "EnvironmentSatisfaction    -0.103369\n",
            "JobSatisfaction            -0.103481\n",
            "JobInvolvement             -0.130016\n",
            "YearsAtCompany             -0.134392\n",
            "StockOptionLevel           -0.137145\n",
            "YearsWithCurrManager       -0.156199\n",
            "Age                        -0.159205\n",
            "MonthlyIncome              -0.159840\n",
            "YearsInCurrentRole         -0.160545\n",
            "JobLevel                   -0.169105\n",
            "TotalWorkingYears          -0.171063\n",
            "EmployeeCount                    NaN\n",
            "Over18                           NaN\n",
            "StandardHours                    NaN\n",
            "Name: Attrition, dtype: float64\n"
          ]
        }
      ],
      "source": [
        "#correlation:\n",
        "correlation = data.corr()\n",
        "\n",
        "print(correlation[\"Attrition\"].sort_values(ascending=False))"
      ]
    },
    {
      "cell_type": "code",
      "execution_count": 50,
      "id": "e38456e6",
      "metadata": {
        "id": "e38456e6"
      },
      "outputs": [],
      "source": [
        "#I will add a new feature to this data known as the satisfaction score:\n",
        "\n",
        "data['SatisfactionScore'] = data['EnvironmentSatisfaction'] + data['JobSatisfaction'] + data['RelationshipSatisfaction']"
      ]
    },
    {
      "cell_type": "code",
      "execution_count": 51,
      "id": "27424981",
      "metadata": {
        "id": "27424981"
      },
      "outputs": [],
      "source": [
        "from sklearn.model_selection import train_test_split\n",
        "from sklearn.metrics import accuracy_score\n",
        "\n",
        "# Split the data into training and testing sets\n",
        "X = data.drop(['Attrition'], axis=1)\n",
        "y = data['Attrition']\n",
        "xtrain, xtest, ytrain, ytest = train_test_split(X, y, test_size=0.3, random_state=42)"
      ]
    },
    {
      "cell_type": "code",
      "execution_count": 52,
      "id": "aa1183bb",
      "metadata": {
        "colab": {
          "base_uri": "https://localhost:8080/"
        },
        "id": "aa1183bb",
        "outputId": "1ee5d132-8289-4b43-ea53-6f5860053140"
      },
      "outputs": [
        {
          "output_type": "stream",
          "name": "stdout",
          "text": [
            "Accuracy: 86.17 %\n"
          ]
        }
      ],
      "source": [
        "from sklearn.ensemble import RandomForestClassifier\n",
        "\n",
        "model = RandomForestClassifier()\n",
        "model.fit(xtrain, ytrain)\n",
        "\n",
        "# Evaluate the model's performance\n",
        "ypred = model.predict(xtest)\n",
        "accuracy = accuracy_score(ytest, ypred)\n",
        "print(\"Accuracy:\", round(accuracy*100,2),'%')"
      ]
    }
  ],
  "metadata": {
    "kernelspec": {
      "display_name": "Python 3 (ipykernel)",
      "language": "python",
      "name": "python3"
    },
    "language_info": {
      "codemirror_mode": {
        "name": "ipython",
        "version": 3
      },
      "file_extension": ".py",
      "mimetype": "text/x-python",
      "name": "python",
      "nbconvert_exporter": "python",
      "pygments_lexer": "ipython3",
      "version": "3.11.5"
    },
    "colab": {
      "provenance": [],
      "include_colab_link": true
    }
  },
  "nbformat": 4,
  "nbformat_minor": 5
}